{
  "nbformat": 4,
  "nbformat_minor": 0,
  "metadata": {
    "kernelspec": {
      "display_name": "Python 3",
      "language": "python",
      "name": "python3"
    },
    "language_info": {
      "codemirror_mode": {
        "name": "ipython",
        "version": 3
      },
      "file_extension": ".py",
      "mimetype": "text/x-python",
      "name": "python",
      "nbconvert_exporter": "python",
      "pygments_lexer": "ipython3",
      "version": "3.8.5"
    },
    "colab": {
      "provenance": []
    }
  },
  "cells": [
    {
      "cell_type": "markdown",
      "source": [
        "**The objective of the project is to determine solution for bank domain, by recognizing which customers are at risk of leaving and what are the reasons for exiting using different machine learning models.**"
      ],
      "metadata": {
        "id": "tyl3zpp0vjWU"
      }
    },
    {
      "cell_type": "markdown",
      "source": [
        "**Overview**\n",
        "\n",
        "1. Exploratory data analysis\n",
        "2. Finding non-important features\n",
        "3. Data pre-processing\n",
        "4. Balancing the dataset\n",
        "5. Modeling without hyperparameter tuning\n",
        "6. Cross Validation\n",
        "7. Now lets Tune hyper-parameters and optimize models\n",
        "8. Models Evaluation\n",
        "9. Accuracy and ROC Summary \n",
        "10. Conclusion"
      ],
      "metadata": {
        "id": "3bzOKlkXcXuC"
      }
    },
    {
      "cell_type": "code",
      "metadata": {
        "id": "TX6P6bUpxtX9"
      },
      "source": [
        "import pandas as pd\n",
        "import numpy as np\n",
        "import matplotlib.pyplot as plt\n",
        "import seaborn as sns\n",
        "%matplotlib inline\n",
        "from statsmodels.graphics.mosaicplot import mosaic"
      ],
      "execution_count": null,
      "outputs": []
    },
    {
      "cell_type": "code",
      "metadata": {
        "id": "uxEeOlRpxtYB"
      },
      "source": [
        "bank_data = pd.read_csv('Bank_Churn_Data.csv')"
      ],
      "execution_count": null,
      "outputs": []
    },
    {
      "cell_type": "code",
      "metadata": {
        "id": "eJ-5ZICnIWPQ"
      },
      "source": [],
      "execution_count": null,
      "outputs": []
    },
    {
      "cell_type": "markdown",
      "metadata": {
        "id": "qlZtQ0kUIW4z"
      },
      "source": [
        "# Exploratory Data Analysis "
      ]
    },
    {
      "cell_type": "code",
      "source": [],
      "metadata": {
        "id": "TCF9m99qakTd"
      },
      "execution_count": null,
      "outputs": []
    },
    {
      "cell_type": "markdown",
      "source": [
        "**bank_data is original dataset(before any data manupulations) and below are insight of that**"
      ],
      "metadata": {
        "id": "cSUxOH7Fakz7"
      }
    },
    {
      "cell_type": "code",
      "metadata": {
        "colab": {
          "base_uri": "https://localhost:8080/"
        },
        "id": "HmHZaOrleYF4",
        "outputId": "b08d6487-6872-4630-b093-74148a5ff5f8"
      },
      "source": [
        "bank_data.shape"
      ],
      "execution_count": null,
      "outputs": [
        {
          "output_type": "execute_result",
          "data": {
            "text/plain": [
              "(10000, 13)"
            ]
          },
          "metadata": {},
          "execution_count": 254
        }
      ]
    },
    {
      "cell_type": "code",
      "metadata": {
        "id": "HgPAoCvCxtYC",
        "colab": {
          "base_uri": "https://localhost:8080/",
          "height": 206
        },
        "outputId": "49ca43c4-8751-4815-c998-6937d0238146"
      },
      "source": [
        "#first 5 instances using \"head()\" function\n",
        "bank_data.head()"
      ],
      "execution_count": null,
      "outputs": [
        {
          "output_type": "execute_result",
          "data": {
            "text/html": [
              "<div>\n",
              "<style scoped>\n",
              "    .dataframe tbody tr th:only-of-type {\n",
              "        vertical-align: middle;\n",
              "    }\n",
              "\n",
              "    .dataframe tbody tr th {\n",
              "        vertical-align: top;\n",
              "    }\n",
              "\n",
              "    .dataframe thead th {\n",
              "        text-align: right;\n",
              "    }\n",
              "</style>\n",
              "<table border=\"1\" class=\"dataframe\">\n",
              "  <thead>\n",
              "    <tr style=\"text-align: right;\">\n",
              "      <th></th>\n",
              "      <th>RowNumber</th>\n",
              "      <th>CustomerId</th>\n",
              "      <th>CreditScore</th>\n",
              "      <th>Geography</th>\n",
              "      <th>Gender</th>\n",
              "      <th>Age</th>\n",
              "      <th>Tenure</th>\n",
              "      <th>Balance</th>\n",
              "      <th>NumOfProducts</th>\n",
              "      <th>HasCrCard</th>\n",
              "      <th>IsActiveMember</th>\n",
              "      <th>EstimatedSalary</th>\n",
              "      <th>Exited</th>\n",
              "    </tr>\n",
              "  </thead>\n",
              "  <tbody>\n",
              "    <tr>\n",
              "      <th>0</th>\n",
              "      <td>1</td>\n",
              "      <td>15634602</td>\n",
              "      <td>619</td>\n",
              "      <td>France</td>\n",
              "      <td>Female</td>\n",
              "      <td>42</td>\n",
              "      <td>2</td>\n",
              "      <td>0.00</td>\n",
              "      <td>1</td>\n",
              "      <td>1</td>\n",
              "      <td>1</td>\n",
              "      <td>101348.88</td>\n",
              "      <td>1</td>\n",
              "    </tr>\n",
              "    <tr>\n",
              "      <th>1</th>\n",
              "      <td>2</td>\n",
              "      <td>15647311</td>\n",
              "      <td>608</td>\n",
              "      <td>Spain</td>\n",
              "      <td>Female</td>\n",
              "      <td>41</td>\n",
              "      <td>1</td>\n",
              "      <td>83807.86</td>\n",
              "      <td>1</td>\n",
              "      <td>0</td>\n",
              "      <td>1</td>\n",
              "      <td>112542.58</td>\n",
              "      <td>0</td>\n",
              "    </tr>\n",
              "    <tr>\n",
              "      <th>2</th>\n",
              "      <td>3</td>\n",
              "      <td>15619304</td>\n",
              "      <td>502</td>\n",
              "      <td>France</td>\n",
              "      <td>Female</td>\n",
              "      <td>42</td>\n",
              "      <td>8</td>\n",
              "      <td>159660.80</td>\n",
              "      <td>3</td>\n",
              "      <td>1</td>\n",
              "      <td>0</td>\n",
              "      <td>113931.57</td>\n",
              "      <td>1</td>\n",
              "    </tr>\n",
              "    <tr>\n",
              "      <th>3</th>\n",
              "      <td>4</td>\n",
              "      <td>15701354</td>\n",
              "      <td>699</td>\n",
              "      <td>France</td>\n",
              "      <td>Female</td>\n",
              "      <td>39</td>\n",
              "      <td>1</td>\n",
              "      <td>0.00</td>\n",
              "      <td>2</td>\n",
              "      <td>0</td>\n",
              "      <td>0</td>\n",
              "      <td>93826.63</td>\n",
              "      <td>0</td>\n",
              "    </tr>\n",
              "    <tr>\n",
              "      <th>4</th>\n",
              "      <td>5</td>\n",
              "      <td>15737888</td>\n",
              "      <td>850</td>\n",
              "      <td>Spain</td>\n",
              "      <td>Female</td>\n",
              "      <td>43</td>\n",
              "      <td>2</td>\n",
              "      <td>125510.82</td>\n",
              "      <td>1</td>\n",
              "      <td>1</td>\n",
              "      <td>1</td>\n",
              "      <td>79084.10</td>\n",
              "      <td>0</td>\n",
              "    </tr>\n",
              "  </tbody>\n",
              "</table>\n",
              "</div>"
            ],
            "text/plain": [
              "   RowNumber  CustomerId  CreditScore  ... IsActiveMember EstimatedSalary  Exited\n",
              "0          1    15634602          619  ...              1       101348.88       1\n",
              "1          2    15647311          608  ...              1       112542.58       0\n",
              "2          3    15619304          502  ...              0       113931.57       1\n",
              "3          4    15701354          699  ...              0        93826.63       0\n",
              "4          5    15737888          850  ...              1        79084.10       0\n",
              "\n",
              "[5 rows x 13 columns]"
            ]
          },
          "metadata": {},
          "execution_count": 255
        }
      ]
    },
    {
      "cell_type": "code",
      "metadata": {
        "colab": {
          "base_uri": "https://localhost:8080/",
          "height": 206
        },
        "id": "QEAQ_qHkEg-0",
        "outputId": "c4c833a6-c158-4acf-9cb6-b469f4ef0360"
      },
      "source": [
        "bank_data.tail()"
      ],
      "execution_count": null,
      "outputs": [
        {
          "output_type": "execute_result",
          "data": {
            "text/html": [
              "<div>\n",
              "<style scoped>\n",
              "    .dataframe tbody tr th:only-of-type {\n",
              "        vertical-align: middle;\n",
              "    }\n",
              "\n",
              "    .dataframe tbody tr th {\n",
              "        vertical-align: top;\n",
              "    }\n",
              "\n",
              "    .dataframe thead th {\n",
              "        text-align: right;\n",
              "    }\n",
              "</style>\n",
              "<table border=\"1\" class=\"dataframe\">\n",
              "  <thead>\n",
              "    <tr style=\"text-align: right;\">\n",
              "      <th></th>\n",
              "      <th>RowNumber</th>\n",
              "      <th>CustomerId</th>\n",
              "      <th>CreditScore</th>\n",
              "      <th>Geography</th>\n",
              "      <th>Gender</th>\n",
              "      <th>Age</th>\n",
              "      <th>Tenure</th>\n",
              "      <th>Balance</th>\n",
              "      <th>NumOfProducts</th>\n",
              "      <th>HasCrCard</th>\n",
              "      <th>IsActiveMember</th>\n",
              "      <th>EstimatedSalary</th>\n",
              "      <th>Exited</th>\n",
              "    </tr>\n",
              "  </thead>\n",
              "  <tbody>\n",
              "    <tr>\n",
              "      <th>9995</th>\n",
              "      <td>9996</td>\n",
              "      <td>15606229</td>\n",
              "      <td>771</td>\n",
              "      <td>France</td>\n",
              "      <td>Male</td>\n",
              "      <td>39</td>\n",
              "      <td>5</td>\n",
              "      <td>0.00</td>\n",
              "      <td>2</td>\n",
              "      <td>1</td>\n",
              "      <td>0</td>\n",
              "      <td>96270.64</td>\n",
              "      <td>0</td>\n",
              "    </tr>\n",
              "    <tr>\n",
              "      <th>9996</th>\n",
              "      <td>9997</td>\n",
              "      <td>15569892</td>\n",
              "      <td>516</td>\n",
              "      <td>France</td>\n",
              "      <td>Male</td>\n",
              "      <td>35</td>\n",
              "      <td>10</td>\n",
              "      <td>57369.61</td>\n",
              "      <td>1</td>\n",
              "      <td>1</td>\n",
              "      <td>1</td>\n",
              "      <td>101699.77</td>\n",
              "      <td>0</td>\n",
              "    </tr>\n",
              "    <tr>\n",
              "      <th>9997</th>\n",
              "      <td>9998</td>\n",
              "      <td>15584532</td>\n",
              "      <td>709</td>\n",
              "      <td>France</td>\n",
              "      <td>Female</td>\n",
              "      <td>36</td>\n",
              "      <td>7</td>\n",
              "      <td>0.00</td>\n",
              "      <td>1</td>\n",
              "      <td>0</td>\n",
              "      <td>1</td>\n",
              "      <td>42085.58</td>\n",
              "      <td>1</td>\n",
              "    </tr>\n",
              "    <tr>\n",
              "      <th>9998</th>\n",
              "      <td>9999</td>\n",
              "      <td>15682355</td>\n",
              "      <td>772</td>\n",
              "      <td>Germany</td>\n",
              "      <td>Male</td>\n",
              "      <td>42</td>\n",
              "      <td>3</td>\n",
              "      <td>75075.31</td>\n",
              "      <td>2</td>\n",
              "      <td>1</td>\n",
              "      <td>0</td>\n",
              "      <td>92888.52</td>\n",
              "      <td>1</td>\n",
              "    </tr>\n",
              "    <tr>\n",
              "      <th>9999</th>\n",
              "      <td>10000</td>\n",
              "      <td>15628319</td>\n",
              "      <td>792</td>\n",
              "      <td>France</td>\n",
              "      <td>Female</td>\n",
              "      <td>28</td>\n",
              "      <td>4</td>\n",
              "      <td>130142.79</td>\n",
              "      <td>1</td>\n",
              "      <td>1</td>\n",
              "      <td>0</td>\n",
              "      <td>38190.78</td>\n",
              "      <td>0</td>\n",
              "    </tr>\n",
              "  </tbody>\n",
              "</table>\n",
              "</div>"
            ],
            "text/plain": [
              "      RowNumber  CustomerId  ...  EstimatedSalary Exited\n",
              "9995       9996    15606229  ...         96270.64      0\n",
              "9996       9997    15569892  ...        101699.77      0\n",
              "9997       9998    15584532  ...         42085.58      1\n",
              "9998       9999    15682355  ...         92888.52      1\n",
              "9999      10000    15628319  ...         38190.78      0\n",
              "\n",
              "[5 rows x 13 columns]"
            ]
          },
          "metadata": {},
          "execution_count": 256
        }
      ]
    },
    {
      "cell_type": "code",
      "metadata": {
        "id": "QlBM8sITxtYD",
        "colab": {
          "base_uri": "https://localhost:8080/"
        },
        "outputId": "4de38738-8fd0-40ad-fb26-f0619bb1cf26"
      },
      "source": [
        "bank_data.info()"
      ],
      "execution_count": null,
      "outputs": [
        {
          "output_type": "stream",
          "name": "stdout",
          "text": [
            "<class 'pandas.core.frame.DataFrame'>\n",
            "RangeIndex: 10000 entries, 0 to 9999\n",
            "Data columns (total 13 columns):\n",
            " #   Column           Non-Null Count  Dtype  \n",
            "---  ------           --------------  -----  \n",
            " 0   RowNumber        10000 non-null  int64  \n",
            " 1   CustomerId       10000 non-null  int64  \n",
            " 2   CreditScore      10000 non-null  int64  \n",
            " 3   Geography        10000 non-null  object \n",
            " 4   Gender           10000 non-null  object \n",
            " 5   Age              10000 non-null  int64  \n",
            " 6   Tenure           10000 non-null  int64  \n",
            " 7   Balance          10000 non-null  float64\n",
            " 8   NumOfProducts    10000 non-null  int64  \n",
            " 9   HasCrCard        10000 non-null  int64  \n",
            " 10  IsActiveMember   10000 non-null  int64  \n",
            " 11  EstimatedSalary  10000 non-null  float64\n",
            " 12  Exited           10000 non-null  int64  \n",
            "dtypes: float64(2), int64(9), object(2)\n",
            "memory usage: 1015.8+ KB\n"
          ]
        }
      ]
    },
    {
      "cell_type": "code",
      "metadata": {
        "id": "tbsxZ64HxtYE",
        "colab": {
          "base_uri": "https://localhost:8080/",
          "height": 300
        },
        "outputId": "729d109f-0783-4f96-e478-f3ebc94c6b68"
      },
      "source": [
        "bank_data.describe()"
      ],
      "execution_count": null,
      "outputs": [
        {
          "output_type": "execute_result",
          "data": {
            "text/html": [
              "<div>\n",
              "<style scoped>\n",
              "    .dataframe tbody tr th:only-of-type {\n",
              "        vertical-align: middle;\n",
              "    }\n",
              "\n",
              "    .dataframe tbody tr th {\n",
              "        vertical-align: top;\n",
              "    }\n",
              "\n",
              "    .dataframe thead th {\n",
              "        text-align: right;\n",
              "    }\n",
              "</style>\n",
              "<table border=\"1\" class=\"dataframe\">\n",
              "  <thead>\n",
              "    <tr style=\"text-align: right;\">\n",
              "      <th></th>\n",
              "      <th>RowNumber</th>\n",
              "      <th>CustomerId</th>\n",
              "      <th>CreditScore</th>\n",
              "      <th>Age</th>\n",
              "      <th>Tenure</th>\n",
              "      <th>Balance</th>\n",
              "      <th>NumOfProducts</th>\n",
              "      <th>HasCrCard</th>\n",
              "      <th>IsActiveMember</th>\n",
              "      <th>EstimatedSalary</th>\n",
              "      <th>Exited</th>\n",
              "    </tr>\n",
              "  </thead>\n",
              "  <tbody>\n",
              "    <tr>\n",
              "      <th>count</th>\n",
              "      <td>10000.00000</td>\n",
              "      <td>1.000000e+04</td>\n",
              "      <td>10000.000000</td>\n",
              "      <td>10000.000000</td>\n",
              "      <td>10000.000000</td>\n",
              "      <td>10000.000000</td>\n",
              "      <td>10000.000000</td>\n",
              "      <td>10000.00000</td>\n",
              "      <td>10000.000000</td>\n",
              "      <td>10000.000000</td>\n",
              "      <td>10000.000000</td>\n",
              "    </tr>\n",
              "    <tr>\n",
              "      <th>mean</th>\n",
              "      <td>5000.50000</td>\n",
              "      <td>1.569094e+07</td>\n",
              "      <td>650.528800</td>\n",
              "      <td>38.921800</td>\n",
              "      <td>5.012800</td>\n",
              "      <td>76485.889288</td>\n",
              "      <td>1.530200</td>\n",
              "      <td>0.70550</td>\n",
              "      <td>0.515100</td>\n",
              "      <td>100090.239881</td>\n",
              "      <td>0.203700</td>\n",
              "    </tr>\n",
              "    <tr>\n",
              "      <th>std</th>\n",
              "      <td>2886.89568</td>\n",
              "      <td>7.193619e+04</td>\n",
              "      <td>96.653299</td>\n",
              "      <td>10.487806</td>\n",
              "      <td>2.892174</td>\n",
              "      <td>62397.405202</td>\n",
              "      <td>0.581654</td>\n",
              "      <td>0.45584</td>\n",
              "      <td>0.499797</td>\n",
              "      <td>57510.492818</td>\n",
              "      <td>0.402769</td>\n",
              "    </tr>\n",
              "    <tr>\n",
              "      <th>min</th>\n",
              "      <td>1.00000</td>\n",
              "      <td>1.556570e+07</td>\n",
              "      <td>350.000000</td>\n",
              "      <td>18.000000</td>\n",
              "      <td>0.000000</td>\n",
              "      <td>0.000000</td>\n",
              "      <td>1.000000</td>\n",
              "      <td>0.00000</td>\n",
              "      <td>0.000000</td>\n",
              "      <td>11.580000</td>\n",
              "      <td>0.000000</td>\n",
              "    </tr>\n",
              "    <tr>\n",
              "      <th>25%</th>\n",
              "      <td>2500.75000</td>\n",
              "      <td>1.562853e+07</td>\n",
              "      <td>584.000000</td>\n",
              "      <td>32.000000</td>\n",
              "      <td>3.000000</td>\n",
              "      <td>0.000000</td>\n",
              "      <td>1.000000</td>\n",
              "      <td>0.00000</td>\n",
              "      <td>0.000000</td>\n",
              "      <td>51002.110000</td>\n",
              "      <td>0.000000</td>\n",
              "    </tr>\n",
              "    <tr>\n",
              "      <th>50%</th>\n",
              "      <td>5000.50000</td>\n",
              "      <td>1.569074e+07</td>\n",
              "      <td>652.000000</td>\n",
              "      <td>37.000000</td>\n",
              "      <td>5.000000</td>\n",
              "      <td>97198.540000</td>\n",
              "      <td>1.000000</td>\n",
              "      <td>1.00000</td>\n",
              "      <td>1.000000</td>\n",
              "      <td>100193.915000</td>\n",
              "      <td>0.000000</td>\n",
              "    </tr>\n",
              "    <tr>\n",
              "      <th>75%</th>\n",
              "      <td>7500.25000</td>\n",
              "      <td>1.575323e+07</td>\n",
              "      <td>718.000000</td>\n",
              "      <td>44.000000</td>\n",
              "      <td>7.000000</td>\n",
              "      <td>127644.240000</td>\n",
              "      <td>2.000000</td>\n",
              "      <td>1.00000</td>\n",
              "      <td>1.000000</td>\n",
              "      <td>149388.247500</td>\n",
              "      <td>0.000000</td>\n",
              "    </tr>\n",
              "    <tr>\n",
              "      <th>max</th>\n",
              "      <td>10000.00000</td>\n",
              "      <td>1.581569e+07</td>\n",
              "      <td>850.000000</td>\n",
              "      <td>92.000000</td>\n",
              "      <td>10.000000</td>\n",
              "      <td>250898.090000</td>\n",
              "      <td>4.000000</td>\n",
              "      <td>1.00000</td>\n",
              "      <td>1.000000</td>\n",
              "      <td>199992.480000</td>\n",
              "      <td>1.000000</td>\n",
              "    </tr>\n",
              "  </tbody>\n",
              "</table>\n",
              "</div>"
            ],
            "text/plain": [
              "         RowNumber    CustomerId  ...  EstimatedSalary        Exited\n",
              "count  10000.00000  1.000000e+04  ...     10000.000000  10000.000000\n",
              "mean    5000.50000  1.569094e+07  ...    100090.239881      0.203700\n",
              "std     2886.89568  7.193619e+04  ...     57510.492818      0.402769\n",
              "min        1.00000  1.556570e+07  ...        11.580000      0.000000\n",
              "25%     2500.75000  1.562853e+07  ...     51002.110000      0.000000\n",
              "50%     5000.50000  1.569074e+07  ...    100193.915000      0.000000\n",
              "75%     7500.25000  1.575323e+07  ...    149388.247500      0.000000\n",
              "max    10000.00000  1.581569e+07  ...    199992.480000      1.000000\n",
              "\n",
              "[8 rows x 11 columns]"
            ]
          },
          "metadata": {},
          "execution_count": 258
        }
      ]
    },
    {
      "cell_type": "code",
      "metadata": {
        "id": "E7qzRE80xtYE",
        "colab": {
          "base_uri": "https://localhost:8080/",
          "height": 175
        },
        "outputId": "5771521a-e679-4498-c18d-be3f72e5ddb4"
      },
      "source": [
        "# Describe categorcial data\n",
        "from IPython.display import display, HTML\n",
        "display(HTML(bank_data[bank_data.columns[bank_data.dtypes == 'object']].describe().to_html()))"
      ],
      "execution_count": null,
      "outputs": [
        {
          "output_type": "display_data",
          "data": {
            "text/html": [
              "<table border=\"1\" class=\"dataframe\">\n",
              "  <thead>\n",
              "    <tr style=\"text-align: right;\">\n",
              "      <th></th>\n",
              "      <th>Geography</th>\n",
              "      <th>Gender</th>\n",
              "    </tr>\n",
              "  </thead>\n",
              "  <tbody>\n",
              "    <tr>\n",
              "      <th>count</th>\n",
              "      <td>10000</td>\n",
              "      <td>10000</td>\n",
              "    </tr>\n",
              "    <tr>\n",
              "      <th>unique</th>\n",
              "      <td>3</td>\n",
              "      <td>2</td>\n",
              "    </tr>\n",
              "    <tr>\n",
              "      <th>top</th>\n",
              "      <td>France</td>\n",
              "      <td>Male</td>\n",
              "    </tr>\n",
              "    <tr>\n",
              "      <th>freq</th>\n",
              "      <td>5014</td>\n",
              "      <td>5457</td>\n",
              "    </tr>\n",
              "  </tbody>\n",
              "</table>"
            ],
            "text/plain": [
              "<IPython.core.display.HTML object>"
            ]
          },
          "metadata": {}
        }
      ]
    },
    {
      "cell_type": "code",
      "metadata": {
        "id": "dv3xsgeCxtYF",
        "colab": {
          "base_uri": "https://localhost:8080/"
        },
        "outputId": "6304580c-7a56-4930-f4bf-dba295cc35fc"
      },
      "source": [
        "bank_data.nunique()"
      ],
      "execution_count": null,
      "outputs": [
        {
          "output_type": "execute_result",
          "data": {
            "text/plain": [
              "RowNumber          10000\n",
              "CustomerId         10000\n",
              "CreditScore          460\n",
              "Geography              3\n",
              "Gender                 2\n",
              "Age                   70\n",
              "Tenure                11\n",
              "Balance             6382\n",
              "NumOfProducts          4\n",
              "HasCrCard              2\n",
              "IsActiveMember         2\n",
              "EstimatedSalary     9999\n",
              "Exited                 2\n",
              "dtype: int64"
            ]
          },
          "metadata": {},
          "execution_count": 260
        }
      ]
    },
    {
      "cell_type": "markdown",
      "metadata": {
        "id": "XUgK1ydPFQUi"
      },
      "source": [
        "Summary - \n",
        "1. RowNumber(1 - 1000) and CustomerId (bank customer identification) are unique numbers assigned to customers.\n",
        "2. Credit score of the customer is best represented as integer the range varies from 350 to 850.\n",
        "3. Geography is the location of country from which the customer belongs, three countries.\n",
        "4. Gender if a customer is male or female.\n",
        "5. Age of the customer ranging from 18 - 92 years.\n",
        "6. Tenure represents the number of years the customer has been with the bank.\n",
        "7. Balance determines the amount of money available for withdrawal represented as float variable.\n",
        "8. NumOfProducts is the number of products a customer is using from the bank, there are major 4 products.\n",
        "9. HasCrCard, whether the customer holds a credit card with the bank or not.\n",
        "10. IsActiveMember, whether the customer is an active member with the bank or not.\n",
        "11. EstimatedSalary salary($) of the customers ranging from 11.6 - 200k.\n",
        "12. Exited is the response variable, 1 if the customer closed account with bank and 0 if the customer is retained.\n",
        "\n"
      ]
    },
    {
      "cell_type": "code",
      "metadata": {
        "colab": {
          "base_uri": "https://localhost:8080/",
          "height": 424
        },
        "id": "eeQrbLOO8MOH",
        "outputId": "4e3b8b13-4937-46e6-ffa5-5cca81eb7f89"
      },
      "source": [
        "bank_data.isna()"
      ],
      "execution_count": null,
      "outputs": [
        {
          "output_type": "execute_result",
          "data": {
            "text/html": [
              "<div>\n",
              "<style scoped>\n",
              "    .dataframe tbody tr th:only-of-type {\n",
              "        vertical-align: middle;\n",
              "    }\n",
              "\n",
              "    .dataframe tbody tr th {\n",
              "        vertical-align: top;\n",
              "    }\n",
              "\n",
              "    .dataframe thead th {\n",
              "        text-align: right;\n",
              "    }\n",
              "</style>\n",
              "<table border=\"1\" class=\"dataframe\">\n",
              "  <thead>\n",
              "    <tr style=\"text-align: right;\">\n",
              "      <th></th>\n",
              "      <th>RowNumber</th>\n",
              "      <th>CustomerId</th>\n",
              "      <th>CreditScore</th>\n",
              "      <th>Geography</th>\n",
              "      <th>Gender</th>\n",
              "      <th>Age</th>\n",
              "      <th>Tenure</th>\n",
              "      <th>Balance</th>\n",
              "      <th>NumOfProducts</th>\n",
              "      <th>HasCrCard</th>\n",
              "      <th>IsActiveMember</th>\n",
              "      <th>EstimatedSalary</th>\n",
              "      <th>Exited</th>\n",
              "    </tr>\n",
              "  </thead>\n",
              "  <tbody>\n",
              "    <tr>\n",
              "      <th>0</th>\n",
              "      <td>False</td>\n",
              "      <td>False</td>\n",
              "      <td>False</td>\n",
              "      <td>False</td>\n",
              "      <td>False</td>\n",
              "      <td>False</td>\n",
              "      <td>False</td>\n",
              "      <td>False</td>\n",
              "      <td>False</td>\n",
              "      <td>False</td>\n",
              "      <td>False</td>\n",
              "      <td>False</td>\n",
              "      <td>False</td>\n",
              "    </tr>\n",
              "    <tr>\n",
              "      <th>1</th>\n",
              "      <td>False</td>\n",
              "      <td>False</td>\n",
              "      <td>False</td>\n",
              "      <td>False</td>\n",
              "      <td>False</td>\n",
              "      <td>False</td>\n",
              "      <td>False</td>\n",
              "      <td>False</td>\n",
              "      <td>False</td>\n",
              "      <td>False</td>\n",
              "      <td>False</td>\n",
              "      <td>False</td>\n",
              "      <td>False</td>\n",
              "    </tr>\n",
              "    <tr>\n",
              "      <th>2</th>\n",
              "      <td>False</td>\n",
              "      <td>False</td>\n",
              "      <td>False</td>\n",
              "      <td>False</td>\n",
              "      <td>False</td>\n",
              "      <td>False</td>\n",
              "      <td>False</td>\n",
              "      <td>False</td>\n",
              "      <td>False</td>\n",
              "      <td>False</td>\n",
              "      <td>False</td>\n",
              "      <td>False</td>\n",
              "      <td>False</td>\n",
              "    </tr>\n",
              "    <tr>\n",
              "      <th>3</th>\n",
              "      <td>False</td>\n",
              "      <td>False</td>\n",
              "      <td>False</td>\n",
              "      <td>False</td>\n",
              "      <td>False</td>\n",
              "      <td>False</td>\n",
              "      <td>False</td>\n",
              "      <td>False</td>\n",
              "      <td>False</td>\n",
              "      <td>False</td>\n",
              "      <td>False</td>\n",
              "      <td>False</td>\n",
              "      <td>False</td>\n",
              "    </tr>\n",
              "    <tr>\n",
              "      <th>4</th>\n",
              "      <td>False</td>\n",
              "      <td>False</td>\n",
              "      <td>False</td>\n",
              "      <td>False</td>\n",
              "      <td>False</td>\n",
              "      <td>False</td>\n",
              "      <td>False</td>\n",
              "      <td>False</td>\n",
              "      <td>False</td>\n",
              "      <td>False</td>\n",
              "      <td>False</td>\n",
              "      <td>False</td>\n",
              "      <td>False</td>\n",
              "    </tr>\n",
              "    <tr>\n",
              "      <th>...</th>\n",
              "      <td>...</td>\n",
              "      <td>...</td>\n",
              "      <td>...</td>\n",
              "      <td>...</td>\n",
              "      <td>...</td>\n",
              "      <td>...</td>\n",
              "      <td>...</td>\n",
              "      <td>...</td>\n",
              "      <td>...</td>\n",
              "      <td>...</td>\n",
              "      <td>...</td>\n",
              "      <td>...</td>\n",
              "      <td>...</td>\n",
              "    </tr>\n",
              "    <tr>\n",
              "      <th>9995</th>\n",
              "      <td>False</td>\n",
              "      <td>False</td>\n",
              "      <td>False</td>\n",
              "      <td>False</td>\n",
              "      <td>False</td>\n",
              "      <td>False</td>\n",
              "      <td>False</td>\n",
              "      <td>False</td>\n",
              "      <td>False</td>\n",
              "      <td>False</td>\n",
              "      <td>False</td>\n",
              "      <td>False</td>\n",
              "      <td>False</td>\n",
              "    </tr>\n",
              "    <tr>\n",
              "      <th>9996</th>\n",
              "      <td>False</td>\n",
              "      <td>False</td>\n",
              "      <td>False</td>\n",
              "      <td>False</td>\n",
              "      <td>False</td>\n",
              "      <td>False</td>\n",
              "      <td>False</td>\n",
              "      <td>False</td>\n",
              "      <td>False</td>\n",
              "      <td>False</td>\n",
              "      <td>False</td>\n",
              "      <td>False</td>\n",
              "      <td>False</td>\n",
              "    </tr>\n",
              "    <tr>\n",
              "      <th>9997</th>\n",
              "      <td>False</td>\n",
              "      <td>False</td>\n",
              "      <td>False</td>\n",
              "      <td>False</td>\n",
              "      <td>False</td>\n",
              "      <td>False</td>\n",
              "      <td>False</td>\n",
              "      <td>False</td>\n",
              "      <td>False</td>\n",
              "      <td>False</td>\n",
              "      <td>False</td>\n",
              "      <td>False</td>\n",
              "      <td>False</td>\n",
              "    </tr>\n",
              "    <tr>\n",
              "      <th>9998</th>\n",
              "      <td>False</td>\n",
              "      <td>False</td>\n",
              "      <td>False</td>\n",
              "      <td>False</td>\n",
              "      <td>False</td>\n",
              "      <td>False</td>\n",
              "      <td>False</td>\n",
              "      <td>False</td>\n",
              "      <td>False</td>\n",
              "      <td>False</td>\n",
              "      <td>False</td>\n",
              "      <td>False</td>\n",
              "      <td>False</td>\n",
              "    </tr>\n",
              "    <tr>\n",
              "      <th>9999</th>\n",
              "      <td>False</td>\n",
              "      <td>False</td>\n",
              "      <td>False</td>\n",
              "      <td>False</td>\n",
              "      <td>False</td>\n",
              "      <td>False</td>\n",
              "      <td>False</td>\n",
              "      <td>False</td>\n",
              "      <td>False</td>\n",
              "      <td>False</td>\n",
              "      <td>False</td>\n",
              "      <td>False</td>\n",
              "      <td>False</td>\n",
              "    </tr>\n",
              "  </tbody>\n",
              "</table>\n",
              "<p>10000 rows × 13 columns</p>\n",
              "</div>"
            ],
            "text/plain": [
              "      RowNumber  CustomerId  ...  EstimatedSalary  Exited\n",
              "0         False       False  ...            False   False\n",
              "1         False       False  ...            False   False\n",
              "2         False       False  ...            False   False\n",
              "3         False       False  ...            False   False\n",
              "4         False       False  ...            False   False\n",
              "...         ...         ...  ...              ...     ...\n",
              "9995      False       False  ...            False   False\n",
              "9996      False       False  ...            False   False\n",
              "9997      False       False  ...            False   False\n",
              "9998      False       False  ...            False   False\n",
              "9999      False       False  ...            False   False\n",
              "\n",
              "[10000 rows x 13 columns]"
            ]
          },
          "metadata": {},
          "execution_count": 261
        }
      ]
    },
    {
      "cell_type": "code",
      "metadata": {
        "colab": {
          "base_uri": "https://localhost:8080/"
        },
        "id": "CSEMAzn48MU1",
        "outputId": "dabe5668-5a60-4534-b3db-bf80546aef25"
      },
      "source": [
        "bank_data.isna().sum()"
      ],
      "execution_count": null,
      "outputs": [
        {
          "output_type": "execute_result",
          "data": {
            "text/plain": [
              "RowNumber          0\n",
              "CustomerId         0\n",
              "CreditScore        0\n",
              "Geography          0\n",
              "Gender             0\n",
              "Age                0\n",
              "Tenure             0\n",
              "Balance            0\n",
              "NumOfProducts      0\n",
              "HasCrCard          0\n",
              "IsActiveMember     0\n",
              "EstimatedSalary    0\n",
              "Exited             0\n",
              "dtype: int64"
            ]
          },
          "metadata": {},
          "execution_count": 262
        }
      ]
    },
    {
      "cell_type": "code",
      "metadata": {
        "id": "UNd-FRr18Mdu",
        "colab": {
          "base_uri": "https://localhost:8080/"
        },
        "outputId": "21569804-471d-49e6-87e3-22ecf5feeba6"
      },
      "source": [
        "bank_data[\"Exited\"].value_counts()"
      ],
      "execution_count": null,
      "outputs": [
        {
          "output_type": "execute_result",
          "data": {
            "text/plain": [
              "0    7963\n",
              "1    2037\n",
              "Name: Exited, dtype: int64"
            ]
          },
          "metadata": {},
          "execution_count": 263
        }
      ]
    },
    {
      "cell_type": "code",
      "metadata": {
        "colab": {
          "base_uri": "https://localhost:8080/",
          "height": 386
        },
        "id": "DCxFF_w33NqT",
        "outputId": "57bf7284-95d4-4653-d2c2-71a23dd8bfe1"
      },
      "source": [
        "\n",
        "sns.catplot(x='Exited', data=bank_data, kind='count')"
      ],
      "execution_count": null,
      "outputs": [
        {
          "output_type": "execute_result",
          "data": {
            "text/plain": [
              "<seaborn.axisgrid.FacetGrid at 0x7ff28e863cd0>"
            ]
          },
          "metadata": {},
          "execution_count": 264
        },
        {
          "output_type": "display_data",
          "data": {
            "image/png": "[encoded data removed]",
            "text/plain": [
              "<Figure size 360x360 with 1 Axes>"
            ]
          },
          "metadata": {
            "needs_background": "light"
          }
        }
      ]
    },
    {
      "cell_type": "markdown",
      "metadata": {
        "id": "RopcFjmIt8rK"
      },
      "source": [
        "We will be balancing the dataset later during feature engineering.\n",
        "***For that we need to create a copy of bank_data, so we dont touch original dataset, istead, we will maipulate a new copy of it, which would called \"bank_data_copy\".***"
      ]
    },
    {
      "cell_type": "code",
      "metadata": {
        "id": "MXgCbCFD3N0E"
      },
      "source": [
        "bank_data_copy = bank_data.copy()"
      ],
      "execution_count": null,
      "outputs": []
    },
    {
      "cell_type": "code",
      "metadata": {
        "id": "G8cnkFrlAAoo"
      },
      "source": [
        "gender_categories = {'Male': 0, 'Female': 1}\n",
        "geography_categories = {'France': 0, 'Spain': 1, 'Germany': 3}\n",
        "\n",
        "bank_data_copy['Gender'] = bank_data_copy['Gender'].map(gender_categories)\n",
        "bank_data_copy['Geography'] = bank_data_copy['Geography'].map(geography_categories)\n"
      ],
      "execution_count": null,
      "outputs": []
    },
    {
      "cell_type": "markdown",
      "metadata": {
        "id": "cAEyZm6glBu7"
      },
      "source": [
        "# Finding the non-important features."
      ]
    },
    {
      "cell_type": "code",
      "metadata": {
        "colab": {
          "base_uri": "https://localhost:8080/",
          "height": 206
        },
        "id": "I9gf27l6AArD",
        "outputId": "b4bf2667-c08d-44fd-a899-4cff0a1d5a93"
      },
      "source": [
        "temp_X = bank_data_copy.drop('Exited', axis=1)\n",
        "temp_y = bank_data_copy['Exited']\n",
        "temp_X.head()\n"
      ],
      "execution_count": null,
      "outputs": [
        {
          "output_type": "execute_result",
          "data": {
            "text/html": [
              "<div>\n",
              "<style scoped>\n",
              "    .dataframe tbody tr th:only-of-type {\n",
              "        vertical-align: middle;\n",
              "    }\n",
              "\n",
              "    .dataframe tbody tr th {\n",
              "        vertical-align: top;\n",
              "    }\n",
              "\n",
              "    .dataframe thead th {\n",
              "        text-align: right;\n",
              "    }\n",
              "</style>\n",
              "<table border=\"1\" class=\"dataframe\">\n",
              "  <thead>\n",
              "    <tr style=\"text-align: right;\">\n",
              "      <th></th>\n",
              "      <th>RowNumber</th>\n",
              "      <th>CustomerId</th>\n",
              "      <th>CreditScore</th>\n",
              "      <th>Geography</th>\n",
              "      <th>Gender</th>\n",
              "      <th>Age</th>\n",
              "      <th>Tenure</th>\n",
              "      <th>Balance</th>\n",
              "      <th>NumOfProducts</th>\n",
              "      <th>HasCrCard</th>\n",
              "      <th>IsActiveMember</th>\n",
              "      <th>EstimatedSalary</th>\n",
              "    </tr>\n",
              "  </thead>\n",
              "  <tbody>\n",
              "    <tr>\n",
              "      <th>0</th>\n",
              "      <td>1</td>\n",
              "      <td>15634602</td>\n",
              "      <td>619</td>\n",
              "      <td>0</td>\n",
              "      <td>1</td>\n",
              "      <td>42</td>\n",
              "      <td>2</td>\n",
              "      <td>0.00</td>\n",
              "      <td>1</td>\n",
              "      <td>1</td>\n",
              "      <td>1</td>\n",
              "      <td>101348.88</td>\n",
              "    </tr>\n",
              "    <tr>\n",
              "      <th>1</th>\n",
              "      <td>2</td>\n",
              "      <td>15647311</td>\n",
              "      <td>608</td>\n",
              "      <td>1</td>\n",
              "      <td>1</td>\n",
              "      <td>41</td>\n",
              "      <td>1</td>\n",
              "      <td>83807.86</td>\n",
              "      <td>1</td>\n",
              "      <td>0</td>\n",
              "      <td>1</td>\n",
              "      <td>112542.58</td>\n",
              "    </tr>\n",
              "    <tr>\n",
              "      <th>2</th>\n",
              "      <td>3</td>\n",
              "      <td>15619304</td>\n",
              "      <td>502</td>\n",
              "      <td>0</td>\n",
              "      <td>1</td>\n",
              "      <td>42</td>\n",
              "      <td>8</td>\n",
              "      <td>159660.80</td>\n",
              "      <td>3</td>\n",
              "      <td>1</td>\n",
              "      <td>0</td>\n",
              "      <td>113931.57</td>\n",
              "    </tr>\n",
              "    <tr>\n",
              "      <th>3</th>\n",
              "      <td>4</td>\n",
              "      <td>15701354</td>\n",
              "      <td>699</td>\n",
              "      <td>0</td>\n",
              "      <td>1</td>\n",
              "      <td>39</td>\n",
              "      <td>1</td>\n",
              "      <td>0.00</td>\n",
              "      <td>2</td>\n",
              "      <td>0</td>\n",
              "      <td>0</td>\n",
              "      <td>93826.63</td>\n",
              "    </tr>\n",
              "    <tr>\n",
              "      <th>4</th>\n",
              "      <td>5</td>\n",
              "      <td>15737888</td>\n",
              "      <td>850</td>\n",
              "      <td>1</td>\n",
              "      <td>1</td>\n",
              "      <td>43</td>\n",
              "      <td>2</td>\n",
              "      <td>125510.82</td>\n",
              "      <td>1</td>\n",
              "      <td>1</td>\n",
              "      <td>1</td>\n",
              "      <td>79084.10</td>\n",
              "    </tr>\n",
              "  </tbody>\n",
              "</table>\n",
              "</div>"
            ],
            "text/plain": [
              "   RowNumber  CustomerId  ...  IsActiveMember  EstimatedSalary\n",
              "0          1    15634602  ...               1        101348.88\n",
              "1          2    15647311  ...               1        112542.58\n",
              "2          3    15619304  ...               0        113931.57\n",
              "3          4    15701354  ...               0         93826.63\n",
              "4          5    15737888  ...               1         79084.10\n",
              "\n",
              "[5 rows x 12 columns]"
            ]
          },
          "metadata": {},
          "execution_count": 267
        }
      ]
    },
    {
      "cell_type": "code",
      "metadata": {
        "colab": {
          "base_uri": "https://localhost:8080/"
        },
        "id": "zk4a-KzCphvB",
        "outputId": "3c274ccf-2f12-4ba0-c483-8cf7695930ea"
      },
      "source": [
        "temp_y.head()"
      ],
      "execution_count": null,
      "outputs": [
        {
          "output_type": "execute_result",
          "data": {
            "text/plain": [
              "0    1\n",
              "1    0\n",
              "2    1\n",
              "3    0\n",
              "4    0\n",
              "Name: Exited, dtype: int64"
            ]
          },
          "metadata": {},
          "execution_count": 268
        }
      ]
    },
    {
      "cell_type": "code",
      "metadata": {
        "id": "-Tx8FG7Nph_1",
        "colab": {
          "base_uri": "https://localhost:8080/"
        },
        "outputId": "1bfcf4c9-2c10-40b7-d307-58e0a3011035"
      },
      "source": [
        "!pip install skfeature-chappers"
      ],
      "execution_count": null,
      "outputs": [
        {
          "output_type": "stream",
          "name": "stdout",
          "text": [
            "Requirement already satisfied: skfeature-chappers in /usr/local/lib/python3.7/dist-packages (1.1.0)\n",
            "Requirement already satisfied: pandas in /usr/local/lib/python3.7/dist-packages (from skfeature-chappers) (1.1.5)\n",
            "Requirement already satisfied: numpy in /usr/local/lib/python3.7/dist-packages (from skfeature-chappers) (1.19.5)\n",
            "Requirement already satisfied: scikit-learn in /usr/local/lib/python3.7/dist-packages (from skfeature-chappers) (1.0.1)\n",
            "Requirement already satisfied: python-dateutil>=2.7.3 in /usr/local/lib/python3.7/dist-packages (from pandas->skfeature-chappers) (2.8.2)\n",
            "Requirement already satisfied: pytz>=2017.2 in /usr/local/lib/python3.7/dist-packages (from pandas->skfeature-chappers) (2018.9)\n",
            "Requirement already satisfied: six>=1.5 in /usr/local/lib/python3.7/dist-packages (from python-dateutil>=2.7.3->pandas->skfeature-chappers) (1.15.0)\n",
            "Requirement already satisfied: joblib>=0.11 in /usr/local/lib/python3.7/dist-packages (from scikit-learn->skfeature-chappers) (1.1.0)\n",
            "Requirement already satisfied: threadpoolctl>=2.0.0 in /usr/local/lib/python3.7/dist-packages (from scikit-learn->skfeature-chappers) (3.0.0)\n",
            "Requirement already satisfied: scipy>=1.1.0 in /usr/local/lib/python3.7/dist-packages (from scikit-learn->skfeature-chappers) (1.4.1)\n"
          ]
        }
      ]
    },
    {
      "cell_type": "code",
      "metadata": {
        "id": "5RkGaLbZpuWu"
      },
      "source": [
        "\n",
        "from sklearn.feature_selection import mutual_info_classif\n",
        "from skfeature.function.similarity_based import fisher_score"
      ],
      "execution_count": null,
      "outputs": []
    },
    {
      "cell_type": "code",
      "metadata": {
        "colab": {
          "base_uri": "https://localhost:8080/",
          "height": 282
        },
        "id": "7I3B4hN3puZl",
        "outputId": "54b095c9-2d15-47b4-8793-818db8241844"
      },
      "source": [
        "#importances = fisher_score.fisher_score(X, y)\n",
        "importances = mutual_info_classif(temp_X, temp_y)\n",
        "#feature_imp = pd.Series(importances, datafr)\n",
        "type(importances)\n",
        "\n",
        "feature_importance = pd.Series(importances, bank_data_copy.columns[0: len(bank_data_copy.columns)-1])\n",
        "feature_importance.plot(kind='barh', color='green')"
      ],
      "execution_count": null,
      "outputs": [
        {
          "output_type": "execute_result",
          "data": {
            "text/plain": [
              "<matplotlib.axes._subplots.AxesSubplot at 0x7ff28e663390>"
            ]
          },
          "metadata": {},
          "execution_count": 271
        },
        {
          "output_type": "display_data",
          "data": {
            "image/png": "[encoded data removed]",
            "text/plain": [
              "<Figure size 432x288 with 1 Axes>"
            ]
          },
          "metadata": {
            "needs_background": "light"
          }
        }
      ]
    },
    {
      "cell_type": "markdown",
      "metadata": {
        "id": "_XIz2YUuqQD7"
      },
      "source": [
        "What above code tells us that all the columns except curtomeId and RowNumber are gaining some information toward \"Exited\" column. In other words, all the columns except curtomeId and RowNumber are contributing something toward \"Exited\" column. "
      ]
    },
    {
      "cell_type": "code",
      "metadata": {
        "id": "-hKuU3rOpucv"
      },
      "source": [
        "cor = bank_data_copy.corr()"
      ],
      "execution_count": null,
      "outputs": []
    },
    {
      "cell_type": "code",
      "metadata": {
        "colab": {
          "base_uri": "https://localhost:8080/",
          "height": 630
        },
        "id": "ULQ2Lf8HqclN",
        "outputId": "60c1c024-4186-464e-8fe8-6884b0491587"
      },
      "source": [
        "plt.figure(figsize=(15,9))\n",
        "sns.heatmap(cor, annot=True)"
      ],
      "execution_count": null,
      "outputs": [
        {
          "output_type": "execute_result",
          "data": {
            "text/plain": [
              "<matplotlib.axes._subplots.AxesSubplot at 0x7ff28fcd0e10>"
            ]
          },
          "metadata": {},
          "execution_count": 273
        },
        {
          "output_type": "display_data",
          "data": {
            "image/png": "[encoded data removed]",
            "text/plain": [
              "<Figure size 1080x648 with 2 Axes>"
            ]
          },
          "metadata": {
            "needs_background": "light"
          }
        }
      ]
    },
    {
      "cell_type": "markdown",
      "metadata": {
        "id": "K40QSGDnqqRz"
      },
      "source": [
        "What above heatmap tells us that only columns Geography, Gender, Age, Balance, and IsActiveMenber are related to \"Exited\" column but all of them have week correlation. "
      ]
    },
    {
      "cell_type": "code",
      "metadata": {
        "id": "LyNBPR8UqiQ2"
      },
      "source": [],
      "execution_count": null,
      "outputs": []
    },
    {
      "cell_type": "code",
      "metadata": {
        "id": "4Eniu3SWpiHu"
      },
      "source": [],
      "execution_count": null,
      "outputs": []
    },
    {
      "cell_type": "code",
      "metadata": {
        "colab": {
          "base_uri": "https://localhost:8080/",
          "height": 206
        },
        "id": "X3uYRvGXTnJT",
        "outputId": "6fcdf783-99b2-482c-e2cd-87a86c28ee96"
      },
      "source": [
        "bank_data.head()"
      ],
      "execution_count": null,
      "outputs": [
        {
          "output_type": "execute_result",
          "data": {
            "text/html": [
              "<div>\n",
              "<style scoped>\n",
              "    .dataframe tbody tr th:only-of-type {\n",
              "        vertical-align: middle;\n",
              "    }\n",
              "\n",
              "    .dataframe tbody tr th {\n",
              "        vertical-align: top;\n",
              "    }\n",
              "\n",
              "    .dataframe thead th {\n",
              "        text-align: right;\n",
              "    }\n",
              "</style>\n",
              "<table border=\"1\" class=\"dataframe\">\n",
              "  <thead>\n",
              "    <tr style=\"text-align: right;\">\n",
              "      <th></th>\n",
              "      <th>RowNumber</th>\n",
              "      <th>CustomerId</th>\n",
              "      <th>CreditScore</th>\n",
              "      <th>Geography</th>\n",
              "      <th>Gender</th>\n",
              "      <th>Age</th>\n",
              "      <th>Tenure</th>\n",
              "      <th>Balance</th>\n",
              "      <th>NumOfProducts</th>\n",
              "      <th>HasCrCard</th>\n",
              "      <th>IsActiveMember</th>\n",
              "      <th>EstimatedSalary</th>\n",
              "      <th>Exited</th>\n",
              "    </tr>\n",
              "  </thead>\n",
              "  <tbody>\n",
              "    <tr>\n",
              "      <th>0</th>\n",
              "      <td>1</td>\n",
              "      <td>15634602</td>\n",
              "      <td>619</td>\n",
              "      <td>France</td>\n",
              "      <td>Female</td>\n",
              "      <td>42</td>\n",
              "      <td>2</td>\n",
              "      <td>0.00</td>\n",
              "      <td>1</td>\n",
              "      <td>1</td>\n",
              "      <td>1</td>\n",
              "      <td>101348.88</td>\n",
              "      <td>1</td>\n",
              "    </tr>\n",
              "    <tr>\n",
              "      <th>1</th>\n",
              "      <td>2</td>\n",
              "      <td>15647311</td>\n",
              "      <td>608</td>\n",
              "      <td>Spain</td>\n",
              "      <td>Female</td>\n",
              "      <td>41</td>\n",
              "      <td>1</td>\n",
              "      <td>83807.86</td>\n",
              "      <td>1</td>\n",
              "      <td>0</td>\n",
              "      <td>1</td>\n",
              "      <td>112542.58</td>\n",
              "      <td>0</td>\n",
              "    </tr>\n",
              "    <tr>\n",
              "      <th>2</th>\n",
              "      <td>3</td>\n",
              "      <td>15619304</td>\n",
              "      <td>502</td>\n",
              "      <td>France</td>\n",
              "      <td>Female</td>\n",
              "      <td>42</td>\n",
              "      <td>8</td>\n",
              "      <td>159660.80</td>\n",
              "      <td>3</td>\n",
              "      <td>1</td>\n",
              "      <td>0</td>\n",
              "      <td>113931.57</td>\n",
              "      <td>1</td>\n",
              "    </tr>\n",
              "    <tr>\n",
              "      <th>3</th>\n",
              "      <td>4</td>\n",
              "      <td>15701354</td>\n",
              "      <td>699</td>\n",
              "      <td>France</td>\n",
              "      <td>Female</td>\n",
              "      <td>39</td>\n",
              "      <td>1</td>\n",
              "      <td>0.00</td>\n",
              "      <td>2</td>\n",
              "      <td>0</td>\n",
              "      <td>0</td>\n",
              "      <td>93826.63</td>\n",
              "      <td>0</td>\n",
              "    </tr>\n",
              "    <tr>\n",
              "      <th>4</th>\n",
              "      <td>5</td>\n",
              "      <td>15737888</td>\n",
              "      <td>850</td>\n",
              "      <td>Spain</td>\n",
              "      <td>Female</td>\n",
              "      <td>43</td>\n",
              "      <td>2</td>\n",
              "      <td>125510.82</td>\n",
              "      <td>1</td>\n",
              "      <td>1</td>\n",
              "      <td>1</td>\n",
              "      <td>79084.10</td>\n",
              "      <td>0</td>\n",
              "    </tr>\n",
              "  </tbody>\n",
              "</table>\n",
              "</div>"
            ],
            "text/plain": [
              "   RowNumber  CustomerId  CreditScore  ... IsActiveMember EstimatedSalary  Exited\n",
              "0          1    15634602          619  ...              1       101348.88       1\n",
              "1          2    15647311          608  ...              1       112542.58       0\n",
              "2          3    15619304          502  ...              0       113931.57       1\n",
              "3          4    15701354          699  ...              0        93826.63       0\n",
              "4          5    15737888          850  ...              1        79084.10       0\n",
              "\n",
              "[5 rows x 13 columns]"
            ]
          },
          "metadata": {},
          "execution_count": 274
        }
      ]
    },
    {
      "cell_type": "code",
      "metadata": {
        "id": "F3DY96WwAAtD",
        "colab": {
          "base_uri": "https://localhost:8080/",
          "height": 608
        },
        "outputId": "44a21e5c-1526-41bb-efad-068cad81b399"
      },
      "source": [
        "bank_data.hist(figsize=(10,10), column=[\"Age\", \"Balance\", \"CreditScore\", \"EstimatedSalary\"])\n",
        "plt.show()"
      ],
      "execution_count": null,
      "outputs": [
        {
          "output_type": "display_data",
          "data": {
            "image/png": "[encoded data removed]",
            "text/plain": [
              "<Figure size 720x720 with 4 Axes>"
            ]
          },
          "metadata": {
            "needs_background": "light"
          }
        }
      ]
    },
    {
      "cell_type": "markdown",
      "metadata": {
        "id": "WN9JsJ1rUnBU"
      },
      "source": [
        "Summary -\n",
        "\n",
        "* Age is a bit right-skewed.\n",
        "* Balance is fairly normal distributed.\n",
        "* It is observed that Credit scores above 600 are higher, there is a possiblity that high quality customers will leave.\n",
        "\n"
      ]
    },
    {
      "cell_type": "code",
      "metadata": {
        "colab": {
          "base_uri": "https://localhost:8080/",
          "height": 296
        },
        "id": "QqtMvbjtTt8v",
        "outputId": "9ee09c6d-dc0d-432b-d20c-d27be77bc9c8"
      },
      "source": [
        "sns.boxplot(x=\"CreditScore\", data=bank_data)"
      ],
      "execution_count": null,
      "outputs": [
        {
          "output_type": "execute_result",
          "data": {
            "text/plain": [
              "<matplotlib.axes._subplots.AxesSubplot at 0x7ff28fa961d0>"
            ]
          },
          "metadata": {},
          "execution_count": 276
        },
        {
          "output_type": "display_data",
          "data": {
            "image/png": "[encoded data removed]",
            "text/plain": [
              "<Figure size 432x288 with 1 Axes>"
            ]
          },
          "metadata": {
            "needs_background": "light"
          }
        }
      ]
    },
    {
      "cell_type": "code",
      "metadata": {
        "colab": {
          "base_uri": "https://localhost:8080/",
          "height": 296
        },
        "id": "3aYFmRRwTt_o",
        "outputId": "76fa1a5b-6df8-499e-d876-d8713a202411"
      },
      "source": [
        "bank_data['CreditScore'].hist(bins=100, grid=False)\n",
        "plt.xlabel(\"Credit Score\", fontsize=10)\n",
        "plt.ylabel(\"Frequency\",fontsize=10)"
      ],
      "execution_count": null,
      "outputs": [
        {
          "output_type": "execute_result",
          "data": {
            "text/plain": [
              "Text(0, 0.5, 'Frequency')"
            ]
          },
          "metadata": {},
          "execution_count": 277
        },
        {
          "output_type": "display_data",
          "data": {
            "image/png": "[encoded data removed]",
            "text/plain": [
              "<Figure size 432x288 with 1 Axes>"
            ]
          },
          "metadata": {
            "needs_background": "light"
          }
        }
      ]
    },
    {
      "cell_type": "code",
      "metadata": {
        "id": "-0uesAzmAAu9",
        "colab": {
          "base_uri": "https://localhost:8080/",
          "height": 351
        },
        "outputId": "137515bb-7353-4e48-ce82-6963dc5f0545"
      },
      "source": [
        "sns.distplot(bank_data['CreditScore'])"
      ],
      "execution_count": null,
      "outputs": [
        {
          "output_type": "stream",
          "name": "stderr",
          "text": [
            "/usr/local/lib/python3.7/dist-packages/seaborn/distributions.py:2619: FutureWarning: `distplot` is a deprecated function and will be removed in a future version. Please adapt your code to use either `displot` (a figure-level function with similar flexibility) or `histplot` (an axes-level function for histograms).\n",
            "  warnings.warn(msg, FutureWarning)\n"
          ]
        },
        {
          "output_type": "execute_result",
          "data": {
            "text/plain": [
              "<matplotlib.axes._subplots.AxesSubplot at 0x7ff28f943cd0>"
            ]
          },
          "metadata": {},
          "execution_count": 278
        },
        {
          "output_type": "display_data",
          "data": {
            "image/png": "[encoded data removed]",
            "text/plain": [
              "<Figure size 432x288 with 1 Axes>"
            ]
          },
          "metadata": {
            "needs_background": "light"
          }
        }
      ]
    },
    {
      "cell_type": "code",
      "metadata": {
        "colab": {
          "base_uri": "https://localhost:8080/",
          "height": 825
        },
        "id": "BtrcrzpXTwtR",
        "outputId": "f52762f0-b4d6-4ed8-ac59-af85d168dedf"
      },
      "source": [
        "bank_data_copy.hist(figsize=(14,14), column=[\"Gender\", \"Geography\", \"HasCrCard\", \"IsActiveMember\", \"NumOfProducts\", \"Tenure\"])\n",
        "plt.show()"
      ],
      "execution_count": null,
      "outputs": [
        {
          "output_type": "display_data",
          "data": {
            "image/png": "[encoded data removed]",
            "text/plain": [
              "<Figure size 1008x1008 with 6 Axes>"
            ]
          },
          "metadata": {
            "needs_background": "light"
          }
        }
      ]
    },
    {
      "cell_type": "markdown",
      "metadata": {
        "id": "YAD7mMQIYYgf"
      },
      "source": [
        "Summary - \n",
        "* We have more male(0) customers than females(1).\n",
        "* Customers from France (most) (0), Germany(2) and Spain(1).\n",
        "* Most of the customers have the bank’s credit card.\n",
        "* We have about equal numbers of active and inactive members, which is not a promising indicator.\n",
        "* The majority of customers only use one or two types of items, with only a handful using three or four."
      ]
    },
    {
      "cell_type": "markdown",
      "metadata": {
        "id": "2mqSNAmPYrTn"
      },
      "source": [
        "#Age"
      ]
    },
    {
      "cell_type": "code",
      "metadata": {
        "colab": {
          "base_uri": "https://localhost:8080/",
          "height": 296
        },
        "id": "rUTUfY7xTwwL",
        "outputId": "0ce3f105-0418-4cd0-d48e-8036aeb72f8a"
      },
      "source": [
        "sns.histplot(data=bank_data, x='Age', hue='Exited', multiple=\"stack\")"
      ],
      "execution_count": null,
      "outputs": [
        {
          "output_type": "execute_result",
          "data": {
            "text/plain": [
              "<matplotlib.axes._subplots.AxesSubplot at 0x7ff2a9fa7c50>"
            ]
          },
          "metadata": {},
          "execution_count": 280
        },
        {
          "output_type": "display_data",
          "data": {
            "image/png": "[encoded data removed]",
            "text/plain": [
              "<Figure size 432x288 with 1 Axes>"
            ]
          },
          "metadata": {
            "needs_background": "light"
          }
        }
      ]
    },
    {
      "cell_type": "code",
      "metadata": {
        "colab": {
          "base_uri": "https://localhost:8080/",
          "height": 296
        },
        "id": "vBhK8MKvYenp",
        "outputId": "318c0e21-08ff-4bd1-d668-b14c72d79262"
      },
      "source": [
        "sns.boxplot(x='Exited', y='Age', data=bank_data)"
      ],
      "execution_count": null,
      "outputs": [
        {
          "output_type": "execute_result",
          "data": {
            "text/plain": [
              "<matplotlib.axes._subplots.AxesSubplot at 0x7ff28fa151d0>"
            ]
          },
          "metadata": {},
          "execution_count": 281
        },
        {
          "output_type": "display_data",
          "data": {
            "image/png": "[encoded data removed]",
            "text/plain": [
              "<Figure size 432x288 with 1 Axes>"
            ]
          },
          "metadata": {
            "needs_background": "light"
          }
        }
      ]
    },
    {
      "cell_type": "markdown",
      "metadata": {
        "id": "nz5rww3nZBcc"
      },
      "source": [
        "Summary - \n",
        "\n",
        "* The distribution of customers staying is right-skewed (tend to be young). Outliers beyond the age of 60 may be our long-term consumers.\n",
        "* Customers that have exited are invariably between the ages of 40 and 50. For retirement or a family situation, they may need to move to another banking provider.\n",
        "* There is a significant difference between these two categories.\n",
        "\n"
      ]
    },
    {
      "cell_type": "markdown",
      "metadata": {
        "id": "IrzyaNe8ZJAB"
      },
      "source": [
        "#Balance"
      ]
    },
    {
      "cell_type": "code",
      "metadata": {
        "colab": {
          "base_uri": "https://localhost:8080/",
          "height": 296
        },
        "id": "6GPFCUknYf93",
        "outputId": "ba6bf2eb-bf56-48ac-ab99-4bd7b1fa65cd"
      },
      "source": [
        "sns.histplot(data=bank_data, x='Balance', hue='Exited', multiple=\"stack\")"
      ],
      "execution_count": null,
      "outputs": [
        {
          "output_type": "execute_result",
          "data": {
            "text/plain": [
              "<matplotlib.axes._subplots.AxesSubplot at 0x7ff28f575810>"
            ]
          },
          "metadata": {},
          "execution_count": 282
        },
        {
          "output_type": "display_data",
          "data": {
            "image/png": "[encoded data removed]",
            "text/plain": [
              "<Figure size 432x288 with 1 Axes>"
            ]
          },
          "metadata": {
            "needs_background": "light"
          }
        }
      ]
    },
    {
      "cell_type": "code",
      "metadata": {
        "colab": {
          "base_uri": "https://localhost:8080/",
          "height": 296
        },
        "id": "ujhzbQPXYgA1",
        "outputId": "cdd1e6d6-a7ab-4f6f-d905-9689b8e0546e"
      },
      "source": [
        "sns.boxplot(x='Exited', y='Balance', data=bank_data)"
      ],
      "execution_count": null,
      "outputs": [
        {
          "output_type": "execute_result",
          "data": {
            "text/plain": [
              "<matplotlib.axes._subplots.AxesSubplot at 0x7ff28e729e50>"
            ]
          },
          "metadata": {},
          "execution_count": 283
        },
        {
          "output_type": "display_data",
          "data": {
            "image/png": "[encoded data removed]",
            "text/plain": [
              "<Figure size 432x288 with 1 Axes>"
            ]
          },
          "metadata": {
            "needs_background": "light"
          }
        }
      ]
    },
    {
      "cell_type": "markdown",
      "metadata": {
        "id": "UZt1T7GFZdTq"
      },
      "source": [
        "\n",
        "Summary -\n",
        "\n",
        "* The distribution of these two categories is very similar.\n",
        "\n",
        "* Consumers that stayed had smaller balances than the customers who left the bank, which is noteworthy."
      ]
    },
    {
      "cell_type": "markdown",
      "metadata": {
        "id": "LwjLnh05Zg6S"
      },
      "source": [
        "# Credit Score"
      ]
    },
    {
      "cell_type": "code",
      "metadata": {
        "colab": {
          "base_uri": "https://localhost:8080/",
          "height": 296
        },
        "id": "Eohek-TjZUO7",
        "outputId": "b2577061-792a-4b81-ad48-db8d1556c30e"
      },
      "source": [
        "sns.histplot(data=bank_data, x='CreditScore', hue='Exited', multiple=\"stack\")"
      ],
      "execution_count": null,
      "outputs": [
        {
          "output_type": "execute_result",
          "data": {
            "text/plain": [
              "<matplotlib.axes._subplots.AxesSubplot at 0x7ff28e63edd0>"
            ]
          },
          "metadata": {},
          "execution_count": 284
        },
        {
          "output_type": "display_data",
          "data": {
            "image/png": "[encoded data removed]",
            "text/plain": [
              "<Figure size 432x288 with 1 Axes>"
            ]
          },
          "metadata": {
            "needs_background": "light"
          }
        }
      ]
    },
    {
      "cell_type": "code",
      "metadata": {
        "colab": {
          "base_uri": "https://localhost:8080/",
          "height": 296
        },
        "id": "twjYyzibZmF8",
        "outputId": "d734c9b7-301f-4ad8-f2a5-7403f132fa24"
      },
      "source": [
        "sns.barplot(x='Exited', y='CreditScore', data=bank_data)"
      ],
      "execution_count": null,
      "outputs": [
        {
          "output_type": "execute_result",
          "data": {
            "text/plain": [
              "<matplotlib.axes._subplots.AxesSubplot at 0x7ff2801a7650>"
            ]
          },
          "metadata": {},
          "execution_count": 285
        },
        {
          "output_type": "display_data",
          "data": {
            "image/png": "[encoded data removed]",
            "text/plain": [
              "<Figure size 432x288 with 1 Axes>"
            ]
          },
          "metadata": {
            "needs_background": "light"
          }
        }
      ]
    },
    {
      "cell_type": "markdown",
      "metadata": {
        "id": "bExPOPi1ZvYb"
      },
      "source": [
        "Summary -\n",
        "\n",
        "* On the whole, the distribution is simmilar.\n",
        "\n",
        "* Consumers with extremely low credit scores observed on the left tail as well as those with extremely high credit scores left, indicating that both extremely low and highly high quality customers are more readily leaving than ordinary customers."
      ]
    },
    {
      "cell_type": "markdown",
      "metadata": {
        "id": "iWw_MoFnZzdU"
      },
      "source": [
        "# Estimated Salary"
      ]
    },
    {
      "cell_type": "code",
      "metadata": {
        "colab": {
          "base_uri": "https://localhost:8080/",
          "height": 296
        },
        "id": "F7iMUKMdZrz3",
        "outputId": "bae5ce16-32cc-44dc-8729-807fabedf046"
      },
      "source": [
        "sns.histplot(data=bank_data, x='EstimatedSalary', hue='Exited', multiple=\"stack\")"
      ],
      "execution_count": null,
      "outputs": [
        {
          "output_type": "execute_result",
          "data": {
            "text/plain": [
              "<matplotlib.axes._subplots.AxesSubplot at 0x7ff280117050>"
            ]
          },
          "metadata": {},
          "execution_count": 286
        },
        {
          "output_type": "display_data",
          "data": {
            "image/png": "[encoded data removed]",
            "text/plain": [
              "<Figure size 432x288 with 1 Axes>"
            ]
          },
          "metadata": {
            "needs_background": "light"
          }
        }
      ]
    },
    {
      "cell_type": "code",
      "metadata": {
        "colab": {
          "base_uri": "https://localhost:8080/",
          "height": 296
        },
        "id": "viFJd_o9ZWCE",
        "outputId": "01588913-6a2c-45f9-8a6a-6cc7581969b0"
      },
      "source": [
        "sns.barplot(x='Exited', y='EstimatedSalary', data=bank_data)"
      ],
      "execution_count": null,
      "outputs": [
        {
          "output_type": "execute_result",
          "data": {
            "text/plain": [
              "<matplotlib.axes._subplots.AxesSubplot at 0x7ff27ffbdf50>"
            ]
          },
          "metadata": {},
          "execution_count": 287
        },
        {
          "output_type": "display_data",
          "data": {
            "image/png": "[encoded data removed]",
            "text/plain": [
              "<Figure size 432x288 with 1 Axes>"
            ]
          },
          "metadata": {
            "needs_background": "light"
          }
        }
      ]
    },
    {
      "cell_type": "markdown",
      "metadata": {
        "id": "jxyIrRVJaBBz"
      },
      "source": [
        "Summary -\n",
        "* The distributions of both groups are extremely similar. \n",
        "\n",
        "* Estimated Salary may or may not be critical information in determining whether or not a customer would leave the bank."
      ]
    },
    {
      "cell_type": "markdown",
      "metadata": {
        "id": "rwoLMHviaESv"
      },
      "source": [
        "# Gender"
      ]
    },
    {
      "cell_type": "code",
      "metadata": {
        "colab": {
          "base_uri": "https://localhost:8080/",
          "height": 269
        },
        "id": "I_WkVxOsZ98K",
        "outputId": "c5cf3978-5bf3-41ab-fdb6-523a24812b6e"
      },
      "source": [
        "mosaic(data=bank_data, index=['Gender', 'Exited'], gap=0.03)\n",
        "plt.show()"
      ],
      "execution_count": null,
      "outputs": [
        {
          "output_type": "display_data",
          "data": {
            "image/png": "[encoded data removed]",
            "text/plain": [
              "<Figure size 432x288 with 3 Axes>"
            ]
          },
          "metadata": {
            "needs_background": "light"
          }
        }
      ]
    },
    {
      "cell_type": "code",
      "metadata": {
        "colab": {
          "base_uri": "https://localhost:8080/",
          "height": 322
        },
        "id": "Scls4DY_b_1t",
        "outputId": "7db65593-960f-4ae4-f37a-20cace15318c"
      },
      "source": [
        "pd.crosstab(bank_data.Gender,bank_data.Exited).plot(kind='bar')"
      ],
      "execution_count": null,
      "outputs": [
        {
          "output_type": "execute_result",
          "data": {
            "text/plain": [
              "<matplotlib.axes._subplots.AxesSubplot at 0x7ff27fed0890>"
            ]
          },
          "metadata": {},
          "execution_count": 289
        },
        {
          "output_type": "display_data",
          "data": {
            "image/png": "[encoded data removed]",
            "text/plain": [
              "<Figure size 432x288 with 1 Axes>"
            ]
          },
          "metadata": {
            "needs_background": "light"
          }
        }
      ]
    },
    {
      "cell_type": "markdown",
      "metadata": {
        "id": "9C3k2WT7eksc"
      },
      "source": [
        "* From above bar plot it can be observed that female clients have higher frequency of exiting the bank than their male counterparts"
      ]
    },
    {
      "cell_type": "code",
      "metadata": {
        "id": "8PBYHqXccFYg"
      },
      "source": [],
      "execution_count": null,
      "outputs": []
    },
    {
      "cell_type": "markdown",
      "metadata": {
        "id": "71NccC6JaWfI"
      },
      "source": [
        "# Geography"
      ]
    },
    {
      "cell_type": "code",
      "metadata": {
        "colab": {
          "base_uri": "https://localhost:8080/",
          "height": 269
        },
        "id": "xQyc0DCIZWE8",
        "outputId": "db621da7-c5df-4b89-924e-adf42791bf99"
      },
      "source": [
        "mosaic(data=bank_data, index=['Geography', 'Exited'], gap = 0.03)\n",
        "plt.show()"
      ],
      "execution_count": null,
      "outputs": [
        {
          "output_type": "display_data",
          "data": {
            "image/png": "[encoded data removed]",
            "text/plain": [
              "<Figure size 432x288 with 3 Axes>"
            ]
          },
          "metadata": {
            "needs_background": "light"
          }
        }
      ]
    },
    {
      "cell_type": "code",
      "metadata": {
        "colab": {
          "base_uri": "https://localhost:8080/",
          "height": 332
        },
        "id": "g5ovHQc2cSJK",
        "outputId": "adccb55e-c76d-4a45-b29a-228267a58973"
      },
      "source": [
        "pd.crosstab(bank_data.Geography,bank_data.Exited).plot(kind='bar')"
      ],
      "execution_count": null,
      "outputs": [
        {
          "output_type": "execute_result",
          "data": {
            "text/plain": [
              "<matplotlib.axes._subplots.AxesSubplot at 0x7ff27fda0690>"
            ]
          },
          "metadata": {},
          "execution_count": 291
        },
        {
          "output_type": "display_data",
          "data": {
            "image/png": "[encoded data removed]",
            "text/plain": [
              "<Figure size 432x288 with 1 Axes>"
            ]
          },
          "metadata": {
            "needs_background": "light"
          }
        }
      ]
    },
    {
      "cell_type": "markdown",
      "metadata": {
        "id": "Y2g41T3-gC3-"
      },
      "source": [
        "From above bar plot it can be observed that French clients have lowest frequency of exiting the bank, after that Spanish clients and lastly German Clients have the highest frequency of exiting the bank"
      ]
    },
    {
      "cell_type": "code",
      "metadata": {
        "id": "Na23i82EcUvZ"
      },
      "source": [],
      "execution_count": null,
      "outputs": []
    },
    {
      "cell_type": "code",
      "metadata": {
        "colab": {
          "base_uri": "https://localhost:8080/",
          "height": 300
        },
        "id": "kV8Ih4KAaZ74",
        "outputId": "3d86e12b-6ac2-4367-b074-704e3b35c0fe"
      },
      "source": [
        "bank_data[['Geography','Gender','Exited']].groupby(['Geography','Gender']).agg(['mean','count'])"
      ],
      "execution_count": null,
      "outputs": [
        {
          "output_type": "execute_result",
          "data": {
            "text/html": [
              "<div>\n",
              "<style scoped>\n",
              "    .dataframe tbody tr th:only-of-type {\n",
              "        vertical-align: middle;\n",
              "    }\n",
              "\n",
              "    .dataframe tbody tr th {\n",
              "        vertical-align: top;\n",
              "    }\n",
              "\n",
              "    .dataframe thead tr th {\n",
              "        text-align: left;\n",
              "    }\n",
              "\n",
              "    .dataframe thead tr:last-of-type th {\n",
              "        text-align: right;\n",
              "    }\n",
              "</style>\n",
              "<table border=\"1\" class=\"dataframe\">\n",
              "  <thead>\n",
              "    <tr>\n",
              "      <th></th>\n",
              "      <th></th>\n",
              "      <th colspan=\"2\" halign=\"left\">Exited</th>\n",
              "    </tr>\n",
              "    <tr>\n",
              "      <th></th>\n",
              "      <th></th>\n",
              "      <th>mean</th>\n",
              "      <th>count</th>\n",
              "    </tr>\n",
              "    <tr>\n",
              "      <th>Geography</th>\n",
              "      <th>Gender</th>\n",
              "      <th></th>\n",
              "      <th></th>\n",
              "    </tr>\n",
              "  </thead>\n",
              "  <tbody>\n",
              "    <tr>\n",
              "      <th rowspan=\"2\" valign=\"top\">France</th>\n",
              "      <th>Female</th>\n",
              "      <td>0.203450</td>\n",
              "      <td>2261</td>\n",
              "    </tr>\n",
              "    <tr>\n",
              "      <th>Male</th>\n",
              "      <td>0.127134</td>\n",
              "      <td>2753</td>\n",
              "    </tr>\n",
              "    <tr>\n",
              "      <th rowspan=\"2\" valign=\"top\">Germany</th>\n",
              "      <th>Female</th>\n",
              "      <td>0.375524</td>\n",
              "      <td>1193</td>\n",
              "    </tr>\n",
              "    <tr>\n",
              "      <th>Male</th>\n",
              "      <td>0.278116</td>\n",
              "      <td>1316</td>\n",
              "    </tr>\n",
              "    <tr>\n",
              "      <th rowspan=\"2\" valign=\"top\">Spain</th>\n",
              "      <th>Female</th>\n",
              "      <td>0.212121</td>\n",
              "      <td>1089</td>\n",
              "    </tr>\n",
              "    <tr>\n",
              "      <th>Male</th>\n",
              "      <td>0.131124</td>\n",
              "      <td>1388</td>\n",
              "    </tr>\n",
              "  </tbody>\n",
              "</table>\n",
              "</div>"
            ],
            "text/plain": [
              "                    Exited      \n",
              "                      mean count\n",
              "Geography Gender                \n",
              "France    Female  0.203450  2261\n",
              "          Male    0.127134  2753\n",
              "Germany   Female  0.375524  1193\n",
              "          Male    0.278116  1316\n",
              "Spain     Female  0.212121  1089\n",
              "          Male    0.131124  1388"
            ]
          },
          "metadata": {},
          "execution_count": 292
        }
      ]
    },
    {
      "cell_type": "markdown",
      "metadata": {
        "id": "KfaBkxHJai3D"
      },
      "source": [
        "* Females are more probable than males to leave the bank.\n",
        "\n",
        "* Customers in Germany are more inclined than those in France and Spain to leave the bank."
      ]
    },
    {
      "cell_type": "markdown",
      "metadata": {
        "id": "_lqRkUkPaogE"
      },
      "source": [
        "# Has Credit Card"
      ]
    },
    {
      "cell_type": "code",
      "metadata": {
        "colab": {
          "base_uri": "https://localhost:8080/",
          "height": 269
        },
        "id": "V2ErMWtCafBS",
        "outputId": "50bb5ec9-8c29-4820-aacb-386e5b0a1fd0"
      },
      "source": [
        "mosaic(data=bank_data, index=['HasCrCard', 'Exited'], gap = 0.03)\n",
        "plt.show()"
      ],
      "execution_count": null,
      "outputs": [
        {
          "output_type": "display_data",
          "data": {
            "image/png": "[encoded data removed]",
            "text/plain": [
              "<Figure size 432x288 with 3 Axes>"
            ]
          },
          "metadata": {
            "needs_background": "light"
          }
        }
      ]
    },
    {
      "cell_type": "code",
      "metadata": {
        "colab": {
          "base_uri": "https://localhost:8080/",
          "height": 293
        },
        "id": "tjJP2bfKdA9r",
        "outputId": "1c0550dd-d90d-4223-cff3-3eea0100b5a5"
      },
      "source": [
        "pd.crosstab(bank_data.HasCrCard,bank_data.Exited).plot(kind='bar')"
      ],
      "execution_count": null,
      "outputs": [
        {
          "output_type": "execute_result",
          "data": {
            "text/plain": [
              "<matplotlib.axes._subplots.AxesSubplot at 0x7ff27fbf9ed0>"
            ]
          },
          "metadata": {},
          "execution_count": 294
        },
        {
          "output_type": "display_data",
          "data": {
            "image/png": "[encoded data removed]",
            "text/plain": [
              "<Figure size 432x288 with 1 Axes>"
            ]
          },
          "metadata": {
            "needs_background": "light"
          }
        }
      ]
    },
    {
      "cell_type": "markdown",
      "metadata": {
        "id": "hYuGVaRcaxTN"
      },
      "source": [
        "* From above plots, it can be observed that clients with credit cards have higher frequency of exiting the bank than their non credit card holder counterparts\n"
      ]
    },
    {
      "cell_type": "markdown",
      "metadata": {
        "id": "E-p0D5bza0qu"
      },
      "source": [
        "# Is Active Member"
      ]
    },
    {
      "cell_type": "code",
      "metadata": {
        "colab": {
          "base_uri": "https://localhost:8080/",
          "height": 269
        },
        "id": "yLx7V8Omauet",
        "outputId": "1e8ebd60-4b6b-4249-ea77-de9ab6fc72ea"
      },
      "source": [
        "mosaic(data=bank_data, index=['IsActiveMember', 'Exited'], gap = 0.03)\n",
        "plt.show()"
      ],
      "execution_count": null,
      "outputs": [
        {
          "output_type": "display_data",
          "data": {
            "image/png": "[encoded data removed]",
            "text/plain": [
              "<Figure size 432x288 with 3 Axes>"
            ]
          },
          "metadata": {
            "needs_background": "light"
          }
        }
      ]
    },
    {
      "cell_type": "code",
      "metadata": {
        "colab": {
          "base_uri": "https://localhost:8080/",
          "height": 293
        },
        "id": "_LAIhdfih0Fq",
        "outputId": "65036143-f73f-4e0e-ba6e-ce90006a9e45"
      },
      "source": [
        "pd.crosstab(bank_data.IsActiveMember,bank_data.Exited).plot(kind='bar')"
      ],
      "execution_count": null,
      "outputs": [
        {
          "output_type": "execute_result",
          "data": {
            "text/plain": [
              "<matplotlib.axes._subplots.AxesSubplot at 0x7ff27ff4c110>"
            ]
          },
          "metadata": {},
          "execution_count": 296
        },
        {
          "output_type": "display_data",
          "data": {
            "image/png": "[encoded data removed]",
            "text/plain": [
              "<Figure size 432x288 with 1 Axes>"
            ]
          },
          "metadata": {
            "needs_background": "light"
          }
        }
      ]
    },
    {
      "cell_type": "markdown",
      "metadata": {
        "id": "M5YIk-1zbD9J"
      },
      "source": [
        "* Churn is more prevalent among inactive consumers than among active customers (very reasonable variable)\n",
        "* From above bar plot it can be observed that clients who are active members have lower frequency of exiting the bank than their inactive member counterparts"
      ]
    },
    {
      "cell_type": "markdown",
      "metadata": {
        "id": "aXOvWpy9bK2V"
      },
      "source": [
        "# Number of Products"
      ]
    },
    {
      "cell_type": "code",
      "metadata": {
        "colab": {
          "base_uri": "https://localhost:8080/",
          "height": 275
        },
        "id": "VtSCTwRQbEqf",
        "outputId": "8d313428-45b9-4e3a-df5b-860ceca77589"
      },
      "source": [
        "mosaic(data=bank_data, index=['NumOfProducts', 'Exited'], gap = 0.01)\n",
        "plt.show()"
      ],
      "execution_count": null,
      "outputs": [
        {
          "output_type": "display_data",
          "data": {
            "image/png": "[encoded data removed]",
            "text/plain": [
              "<Figure size 432x288 with 3 Axes>"
            ]
          },
          "metadata": {
            "needs_background": "light"
          }
        }
      ]
    },
    {
      "cell_type": "code",
      "metadata": {
        "colab": {
          "base_uri": "https://localhost:8080/",
          "height": 293
        },
        "id": "197bYHz1cnj0",
        "outputId": "7ac43319-ec6d-44f3-aac0-e24bae4f20a8"
      },
      "source": [
        "pd.crosstab(bank_data.NumOfProducts,bank_data.Exited).plot(kind='bar')"
      ],
      "execution_count": null,
      "outputs": [
        {
          "output_type": "execute_result",
          "data": {
            "text/plain": [
              "<matplotlib.axes._subplots.AxesSubplot at 0x7ff2a9fe7210>"
            ]
          },
          "metadata": {},
          "execution_count": 298
        },
        {
          "output_type": "display_data",
          "data": {
            "image/png": "[encoded data removed]",
            "text/plain": [
              "<Figure size 432x288 with 1 Axes>"
            ]
          },
          "metadata": {
            "needs_background": "light"
          }
        }
      ]
    },
    {
      "cell_type": "code",
      "metadata": {
        "id": "g63sDjJTcqpq"
      },
      "source": [],
      "execution_count": null,
      "outputs": []
    },
    {
      "cell_type": "markdown",
      "metadata": {
        "id": "rodjzZX3bVyh"
      },
      "source": [
        "* Customers who utilise three or four products are far less likely to leave."
      ]
    },
    {
      "cell_type": "markdown",
      "metadata": {
        "id": "V8r41p6IbYfX"
      },
      "source": [
        "# Tenure"
      ]
    },
    {
      "cell_type": "code",
      "metadata": {
        "colab": {
          "base_uri": "https://localhost:8080/",
          "height": 269
        },
        "id": "6cD3BRwubTAO",
        "outputId": "a02ac037-aa25-4943-bdc2-15ff8387d4ec"
      },
      "source": [
        "mosaic(data=bank_data, index=['Tenure', 'Exited'], gap = 0.01)\n",
        "plt.show()"
      ],
      "execution_count": null,
      "outputs": [
        {
          "output_type": "display_data",
          "data": {
            "image/png": "[encoded data removed]",
            "text/plain": [
              "<Figure size 432x288 with 3 Axes>"
            ]
          },
          "metadata": {
            "needs_background": "light"
          }
        }
      ]
    },
    {
      "cell_type": "code",
      "metadata": {
        "colab": {
          "base_uri": "https://localhost:8080/",
          "height": 299
        },
        "id": "ChaSPXFliijc",
        "outputId": "07031928-5573-4370-bc67-247863558236"
      },
      "source": [
        "pd.crosstab(bank_data.Tenure,bank_data.Exited).plot(kind='bar')"
      ],
      "execution_count": null,
      "outputs": [
        {
          "output_type": "execute_result",
          "data": {
            "text/plain": [
              "<matplotlib.axes._subplots.AxesSubplot at 0x7ff28e96b6d0>"
            ]
          },
          "metadata": {},
          "execution_count": 300
        },
        {
          "output_type": "display_data",
          "data": {
            "image/png": "[encoded data removed]",
            "text/plain": [
              "<Figure size 432x288 with 1 Axes>"
            ]
          },
          "metadata": {
            "needs_background": "light"
          }
        }
      ]
    },
    {
      "cell_type": "markdown",
      "metadata": {
        "id": "-SsD9fLzbjg5"
      },
      "source": [
        "* From above bar plot it is difficult to infer any correlation betweeen the variables\n",
        "* Customers in various tenure categories do not appear to have a tendency to churn or stay."
      ]
    },
    {
      "cell_type": "code",
      "metadata": {
        "id": "AFhixeQ2bd-8"
      },
      "source": [],
      "execution_count": null,
      "outputs": []
    },
    {
      "cell_type": "code",
      "source": [],
      "metadata": {
        "id": "rhGrqNq8aSCQ"
      },
      "execution_count": null,
      "outputs": []
    },
    {
      "cell_type": "markdown",
      "source": [
        "# Data Preprocessing"
      ],
      "metadata": {
        "id": "bsUN-LBiaTag"
      }
    },
    {
      "cell_type": "code",
      "source": [
        "\n"
      ],
      "metadata": {
        "id": "A2Xx0ey7aSLl"
      },
      "execution_count": null,
      "outputs": []
    },
    {
      "cell_type": "code",
      "source": [],
      "metadata": {
        "id": "jcBRC0lhFdlz"
      },
      "execution_count": null,
      "outputs": []
    },
    {
      "cell_type": "code",
      "source": [],
      "metadata": {
        "id": "xVx6xjw-FdpU"
      },
      "execution_count": null,
      "outputs": []
    },
    {
      "cell_type": "code",
      "source": [],
      "metadata": {
        "id": "6PB18ZvFFdrh"
      },
      "execution_count": null,
      "outputs": []
    },
    {
      "cell_type": "code",
      "source": [],
      "metadata": {
        "id": "Wpp7L0KMFdtC"
      },
      "execution_count": null,
      "outputs": []
    },
    {
      "cell_type": "code",
      "source": [],
      "metadata": {
        "id": "WAc0b3XmhA1i"
      },
      "execution_count": null,
      "outputs": []
    },
    {
      "cell_type": "code",
      "source": [
        "bank_data_copy2 = bank_data.drop(labels=['RowNumber', 'CustomerId'], axis=1)"
      ],
      "metadata": {
        "id": "_b7Vl6MshA4l"
      },
      "execution_count": null,
      "outputs": []
    },
    {
      "cell_type": "markdown",
      "source": [
        "Need to drop 'RowNumber' and 'CustomerId' from daraframe becuase it does not make sense to use them for any interpretation and model creation. "
      ],
      "metadata": {
        "id": "e9iiGam5od2p"
      }
    },
    {
      "cell_type": "code",
      "source": [
        "bank_data_copy2.head()"
      ],
      "metadata": {
        "colab": {
          "base_uri": "https://localhost:8080/",
          "height": 206
        },
        "id": "goWooP7yhA7V",
        "outputId": "7cf86b8f-50b3-41cb-b216-0a4e0eed0086"
      },
      "execution_count": null,
      "outputs": [
        {
          "output_type": "execute_result",
          "data": {
            "text/html": [
              "<div>\n",
              "<style scoped>\n",
              "    .dataframe tbody tr th:only-of-type {\n",
              "        vertical-align: middle;\n",
              "    }\n",
              "\n",
              "    .dataframe tbody tr th {\n",
              "        vertical-align: top;\n",
              "    }\n",
              "\n",
              "    .dataframe thead th {\n",
              "        text-align: right;\n",
              "    }\n",
              "</style>\n",
              "<table border=\"1\" class=\"dataframe\">\n",
              "  <thead>\n",
              "    <tr style=\"text-align: right;\">\n",
              "      <th></th>\n",
              "      <th>CreditScore</th>\n",
              "      <th>Geography</th>\n",
              "      <th>Gender</th>\n",
              "      <th>Age</th>\n",
              "      <th>Tenure</th>\n",
              "      <th>Balance</th>\n",
              "      <th>NumOfProducts</th>\n",
              "      <th>HasCrCard</th>\n",
              "      <th>IsActiveMember</th>\n",
              "      <th>EstimatedSalary</th>\n",
              "      <th>Exited</th>\n",
              "    </tr>\n",
              "  </thead>\n",
              "  <tbody>\n",
              "    <tr>\n",
              "      <th>0</th>\n",
              "      <td>619</td>\n",
              "      <td>France</td>\n",
              "      <td>Female</td>\n",
              "      <td>42</td>\n",
              "      <td>2</td>\n",
              "      <td>0.00</td>\n",
              "      <td>1</td>\n",
              "      <td>1</td>\n",
              "      <td>1</td>\n",
              "      <td>101348.88</td>\n",
              "      <td>1</td>\n",
              "    </tr>\n",
              "    <tr>\n",
              "      <th>1</th>\n",
              "      <td>608</td>\n",
              "      <td>Spain</td>\n",
              "      <td>Female</td>\n",
              "      <td>41</td>\n",
              "      <td>1</td>\n",
              "      <td>83807.86</td>\n",
              "      <td>1</td>\n",
              "      <td>0</td>\n",
              "      <td>1</td>\n",
              "      <td>112542.58</td>\n",
              "      <td>0</td>\n",
              "    </tr>\n",
              "    <tr>\n",
              "      <th>2</th>\n",
              "      <td>502</td>\n",
              "      <td>France</td>\n",
              "      <td>Female</td>\n",
              "      <td>42</td>\n",
              "      <td>8</td>\n",
              "      <td>159660.80</td>\n",
              "      <td>3</td>\n",
              "      <td>1</td>\n",
              "      <td>0</td>\n",
              "      <td>113931.57</td>\n",
              "      <td>1</td>\n",
              "    </tr>\n",
              "    <tr>\n",
              "      <th>3</th>\n",
              "      <td>699</td>\n",
              "      <td>France</td>\n",
              "      <td>Female</td>\n",
              "      <td>39</td>\n",
              "      <td>1</td>\n",
              "      <td>0.00</td>\n",
              "      <td>2</td>\n",
              "      <td>0</td>\n",
              "      <td>0</td>\n",
              "      <td>93826.63</td>\n",
              "      <td>0</td>\n",
              "    </tr>\n",
              "    <tr>\n",
              "      <th>4</th>\n",
              "      <td>850</td>\n",
              "      <td>Spain</td>\n",
              "      <td>Female</td>\n",
              "      <td>43</td>\n",
              "      <td>2</td>\n",
              "      <td>125510.82</td>\n",
              "      <td>1</td>\n",
              "      <td>1</td>\n",
              "      <td>1</td>\n",
              "      <td>79084.10</td>\n",
              "      <td>0</td>\n",
              "    </tr>\n",
              "  </tbody>\n",
              "</table>\n",
              "</div>"
            ],
            "text/plain": [
              "   CreditScore Geography  Gender  ...  IsActiveMember  EstimatedSalary  Exited\n",
              "0          619    France  Female  ...               1        101348.88       1\n",
              "1          608     Spain  Female  ...               1        112542.58       0\n",
              "2          502    France  Female  ...               0        113931.57       1\n",
              "3          699    France  Female  ...               0         93826.63       0\n",
              "4          850     Spain  Female  ...               1         79084.10       0\n",
              "\n",
              "[5 rows x 11 columns]"
            ]
          },
          "metadata": {},
          "execution_count": 302
        }
      ]
    },
    {
      "cell_type": "code",
      "source": [
        "#One Hot encoding\n",
        "bank_data_copy2 = pd.get_dummies(bank_data_copy2, columns=['Geography', 'Gender'], drop_first=False)"
      ],
      "metadata": {
        "id": "Ee_lTX4CkAyn"
      },
      "execution_count": null,
      "outputs": []
    },
    {
      "cell_type": "markdown",
      "source": [
        "We will be using get_dummies feature from pandas to encode our cetogorical variables to numerical, so it can be efficiently used for model building."
      ],
      "metadata": {
        "id": "9jBBWlg6qFQi"
      }
    },
    {
      "cell_type": "code",
      "source": [
        "bank_data_copy2.head()"
      ],
      "metadata": {
        "colab": {
          "base_uri": "https://localhost:8080/",
          "height": 226
        },
        "id": "6R5t0c5OmtVw",
        "outputId": "43070695-c9f5-49ce-f580-e4c323dfdd7d"
      },
      "execution_count": null,
      "outputs": [
        {
          "output_type": "execute_result",
          "data": {
            "text/html": [
              "<div>\n",
              "<style scoped>\n",
              "    .dataframe tbody tr th:only-of-type {\n",
              "        vertical-align: middle;\n",
              "    }\n",
              "\n",
              "    .dataframe tbody tr th {\n",
              "        vertical-align: top;\n",
              "    }\n",
              "\n",
              "    .dataframe thead th {\n",
              "        text-align: right;\n",
              "    }\n",
              "</style>\n",
              "<table border=\"1\" class=\"dataframe\">\n",
              "  <thead>\n",
              "    <tr style=\"text-align: right;\">\n",
              "      <th></th>\n",
              "      <th>CreditScore</th>\n",
              "      <th>Age</th>\n",
              "      <th>Tenure</th>\n",
              "      <th>Balance</th>\n",
              "      <th>NumOfProducts</th>\n",
              "      <th>HasCrCard</th>\n",
              "      <th>IsActiveMember</th>\n",
              "      <th>EstimatedSalary</th>\n",
              "      <th>Exited</th>\n",
              "      <th>Geography_France</th>\n",
              "      <th>Geography_Germany</th>\n",
              "      <th>Geography_Spain</th>\n",
              "      <th>Gender_Female</th>\n",
              "      <th>Gender_Male</th>\n",
              "    </tr>\n",
              "  </thead>\n",
              "  <tbody>\n",
              "    <tr>\n",
              "      <th>0</th>\n",
              "      <td>619</td>\n",
              "      <td>42</td>\n",
              "      <td>2</td>\n",
              "      <td>0.00</td>\n",
              "      <td>1</td>\n",
              "      <td>1</td>\n",
              "      <td>1</td>\n",
              "      <td>101348.88</td>\n",
              "      <td>1</td>\n",
              "      <td>1</td>\n",
              "      <td>0</td>\n",
              "      <td>0</td>\n",
              "      <td>1</td>\n",
              "      <td>0</td>\n",
              "    </tr>\n",
              "    <tr>\n",
              "      <th>1</th>\n",
              "      <td>608</td>\n",
              "      <td>41</td>\n",
              "      <td>1</td>\n",
              "      <td>83807.86</td>\n",
              "      <td>1</td>\n",
              "      <td>0</td>\n",
              "      <td>1</td>\n",
              "      <td>112542.58</td>\n",
              "      <td>0</td>\n",
              "      <td>0</td>\n",
              "      <td>0</td>\n",
              "      <td>1</td>\n",
              "      <td>1</td>\n",
              "      <td>0</td>\n",
              "    </tr>\n",
              "    <tr>\n",
              "      <th>2</th>\n",
              "      <td>502</td>\n",
              "      <td>42</td>\n",
              "      <td>8</td>\n",
              "      <td>159660.80</td>\n",
              "      <td>3</td>\n",
              "      <td>1</td>\n",
              "      <td>0</td>\n",
              "      <td>113931.57</td>\n",
              "      <td>1</td>\n",
              "      <td>1</td>\n",
              "      <td>0</td>\n",
              "      <td>0</td>\n",
              "      <td>1</td>\n",
              "      <td>0</td>\n",
              "    </tr>\n",
              "    <tr>\n",
              "      <th>3</th>\n",
              "      <td>699</td>\n",
              "      <td>39</td>\n",
              "      <td>1</td>\n",
              "      <td>0.00</td>\n",
              "      <td>2</td>\n",
              "      <td>0</td>\n",
              "      <td>0</td>\n",
              "      <td>93826.63</td>\n",
              "      <td>0</td>\n",
              "      <td>1</td>\n",
              "      <td>0</td>\n",
              "      <td>0</td>\n",
              "      <td>1</td>\n",
              "      <td>0</td>\n",
              "    </tr>\n",
              "    <tr>\n",
              "      <th>4</th>\n",
              "      <td>850</td>\n",
              "      <td>43</td>\n",
              "      <td>2</td>\n",
              "      <td>125510.82</td>\n",
              "      <td>1</td>\n",
              "      <td>1</td>\n",
              "      <td>1</td>\n",
              "      <td>79084.10</td>\n",
              "      <td>0</td>\n",
              "      <td>0</td>\n",
              "      <td>0</td>\n",
              "      <td>1</td>\n",
              "      <td>1</td>\n",
              "      <td>0</td>\n",
              "    </tr>\n",
              "  </tbody>\n",
              "</table>\n",
              "</div>"
            ],
            "text/plain": [
              "   CreditScore  Age  Tenure  ...  Geography_Spain  Gender_Female  Gender_Male\n",
              "0          619   42       2  ...                0              1            0\n",
              "1          608   41       1  ...                1              1            0\n",
              "2          502   42       8  ...                0              1            0\n",
              "3          699   39       1  ...                0              1            0\n",
              "4          850   43       2  ...                1              1            0\n",
              "\n",
              "[5 rows x 14 columns]"
            ]
          },
          "metadata": {},
          "execution_count": 304
        }
      ]
    },
    {
      "cell_type": "code",
      "source": [
        "y = bank_data_copy2['Exited']"
      ],
      "metadata": {
        "id": "aNisyGYKmv_I"
      },
      "execution_count": null,
      "outputs": []
    },
    {
      "cell_type": "code",
      "source": [
        "# StandardScaler\n",
        "\n",
        "cat_df = bank_data_copy2[[\"Exited\",\"Geography_Germany\", \"Geography_France\",\"Geography_Spain\", \"Gender_Male\",\"Gender_Female\" ,\"HasCrCard\",\"IsActiveMember\"]]\n",
        "\n",
        "X_StandardScaler = bank_data_copy2.drop(labels=[\"Exited\",\"Geography_Germany\", \"Geography_France\",\"Geography_Spain\", \"Gender_Male\",\"Gender_Female\" ,\"HasCrCard\",\"IsActiveMember\"],axis=1)\n",
        "\n",
        "from sklearn.preprocessing import StandardScaler\n",
        "transformer_StandardScaler = StandardScaler().fit(X_StandardScaler)\n",
        "X_StandardScaler = transformer_StandardScaler.transform(X_StandardScaler)"
      ],
      "metadata": {
        "id": "0ovTiFIMyfQW"
      },
      "execution_count": null,
      "outputs": []
    },
    {
      "cell_type": "markdown",
      "source": [
        "**We need to scale continuous variables, so it can create consistency between all the varaiables in dataset. We are using StandardScaler from sklearn to do that scaling job. **\n",
        "**We need to standrdize the data, so we have negative values for standard deviations and mean analysis. It helps us normalize the data. **"
      ],
      "metadata": {
        "id": "X04PctAVqRT4"
      }
    },
    {
      "cell_type": "code",
      "source": [
        "X_StandardScaler.shape"
      ],
      "metadata": {
        "colab": {
          "base_uri": "https://localhost:8080/"
        },
        "id": "3-k-L44syfTM",
        "outputId": "c13473ab-2f67-42ae-c14c-07da97079ba8"
      },
      "execution_count": null,
      "outputs": [
        {
          "output_type": "execute_result",
          "data": {
            "text/plain": [
              "(10000, 6)"
            ]
          },
          "metadata": {},
          "execution_count": 307
        }
      ]
    },
    {
      "cell_type": "code",
      "source": [
        "# Create the dataframe\n",
        "df_for_model = pd.DataFrame(X_StandardScaler, columns=['CreditScore', 'Age', 'Tenure', 'Balance', 'NumOfProducts', 'EstimatedSalary'])"
      ],
      "metadata": {
        "id": "LvXeeQg7hjvv"
      },
      "execution_count": null,
      "outputs": []
    },
    {
      "cell_type": "markdown",
      "source": [
        "**Need to convert numpy array into dataframe we can use it for balancing the data. **"
      ],
      "metadata": {
        "id": "G8y3yK6QrsQ5"
      }
    },
    {
      "cell_type": "code",
      "source": [
        "df_for_model.head()"
      ],
      "metadata": {
        "colab": {
          "base_uri": "https://localhost:8080/",
          "height": 206
        },
        "id": "hRuSvT9Mhj6A",
        "outputId": "0e9082c8-30ad-4a25-a2e9-8d8198e08172"
      },
      "execution_count": null,
      "outputs": [
        {
          "output_type": "execute_result",
          "data": {
            "text/html": [
              "<div>\n",
              "<style scoped>\n",
              "    .dataframe tbody tr th:only-of-type {\n",
              "        vertical-align: middle;\n",
              "    }\n",
              "\n",
              "    .dataframe tbody tr th {\n",
              "        vertical-align: top;\n",
              "    }\n",
              "\n",
              "    .dataframe thead th {\n",
              "        text-align: right;\n",
              "    }\n",
              "</style>\n",
              "<table border=\"1\" class=\"dataframe\">\n",
              "  <thead>\n",
              "    <tr style=\"text-align: right;\">\n",
              "      <th></th>\n",
              "      <th>CreditScore</th>\n",
              "      <th>Age</th>\n",
              "      <th>Tenure</th>\n",
              "      <th>Balance</th>\n",
              "      <th>NumOfProducts</th>\n",
              "      <th>EstimatedSalary</th>\n",
              "    </tr>\n",
              "  </thead>\n",
              "  <tbody>\n",
              "    <tr>\n",
              "      <th>0</th>\n",
              "      <td>-0.326221</td>\n",
              "      <td>0.293517</td>\n",
              "      <td>-1.041760</td>\n",
              "      <td>-1.225848</td>\n",
              "      <td>-0.911583</td>\n",
              "      <td>0.021886</td>\n",
              "    </tr>\n",
              "    <tr>\n",
              "      <th>1</th>\n",
              "      <td>-0.440036</td>\n",
              "      <td>0.198164</td>\n",
              "      <td>-1.387538</td>\n",
              "      <td>0.117350</td>\n",
              "      <td>-0.911583</td>\n",
              "      <td>0.216534</td>\n",
              "    </tr>\n",
              "    <tr>\n",
              "      <th>2</th>\n",
              "      <td>-1.536794</td>\n",
              "      <td>0.293517</td>\n",
              "      <td>1.032908</td>\n",
              "      <td>1.333053</td>\n",
              "      <td>2.527057</td>\n",
              "      <td>0.240687</td>\n",
              "    </tr>\n",
              "    <tr>\n",
              "      <th>3</th>\n",
              "      <td>0.501521</td>\n",
              "      <td>0.007457</td>\n",
              "      <td>-1.387538</td>\n",
              "      <td>-1.225848</td>\n",
              "      <td>0.807737</td>\n",
              "      <td>-0.108918</td>\n",
              "    </tr>\n",
              "    <tr>\n",
              "      <th>4</th>\n",
              "      <td>2.063884</td>\n",
              "      <td>0.388871</td>\n",
              "      <td>-1.041760</td>\n",
              "      <td>0.785728</td>\n",
              "      <td>-0.911583</td>\n",
              "      <td>-0.365276</td>\n",
              "    </tr>\n",
              "  </tbody>\n",
              "</table>\n",
              "</div>"
            ],
            "text/plain": [
              "   CreditScore       Age    Tenure   Balance  NumOfProducts  EstimatedSalary\n",
              "0    -0.326221  0.293517 -1.041760 -1.225848      -0.911583         0.021886\n",
              "1    -0.440036  0.198164 -1.387538  0.117350      -0.911583         0.216534\n",
              "2    -1.536794  0.293517  1.032908  1.333053       2.527057         0.240687\n",
              "3     0.501521  0.007457 -1.387538 -1.225848       0.807737        -0.108918\n",
              "4     2.063884  0.388871 -1.041760  0.785728      -0.911583        -0.365276"
            ]
          },
          "metadata": {},
          "execution_count": 309
        }
      ]
    },
    {
      "cell_type": "code",
      "source": [
        "df_for_model_merged = pd.concat([df_for_model, cat_df], axis=1)"
      ],
      "metadata": {
        "id": "sAFmfgNMhj9-"
      },
      "execution_count": null,
      "outputs": []
    },
    {
      "cell_type": "markdown",
      "source": [
        "Combining continuous scaled dataframe and categorical dataframe together, so it help us during balancing the data."
      ],
      "metadata": {
        "id": "cF2A8Nmir6ly"
      }
    },
    {
      "cell_type": "code",
      "source": [
        "df_for_model_merged.head()"
      ],
      "metadata": {
        "colab": {
          "base_uri": "https://localhost:8080/",
          "height": 226
        },
        "id": "BqZNNkOsjOo6",
        "outputId": "5c02c68d-a3f6-4200-e184-a4dca0acd336"
      },
      "execution_count": null,
      "outputs": [
        {
          "output_type": "execute_result",
          "data": {
            "text/html": [
              "<div>\n",
              "<style scoped>\n",
              "    .dataframe tbody tr th:only-of-type {\n",
              "        vertical-align: middle;\n",
              "    }\n",
              "\n",
              "    .dataframe tbody tr th {\n",
              "        vertical-align: top;\n",
              "    }\n",
              "\n",
              "    .dataframe thead th {\n",
              "        text-align: right;\n",
              "    }\n",
              "</style>\n",
              "<table border=\"1\" class=\"dataframe\">\n",
              "  <thead>\n",
              "    <tr style=\"text-align: right;\">\n",
              "      <th></th>\n",
              "      <th>CreditScore</th>\n",
              "      <th>Age</th>\n",
              "      <th>Tenure</th>\n",
              "      <th>Balance</th>\n",
              "      <th>NumOfProducts</th>\n",
              "      <th>EstimatedSalary</th>\n",
              "      <th>Exited</th>\n",
              "      <th>Geography_Germany</th>\n",
              "      <th>Geography_France</th>\n",
              "      <th>Geography_Spain</th>\n",
              "      <th>Gender_Male</th>\n",
              "      <th>Gender_Female</th>\n",
              "      <th>HasCrCard</th>\n",
              "      <th>IsActiveMember</th>\n",
              "    </tr>\n",
              "  </thead>\n",
              "  <tbody>\n",
              "    <tr>\n",
              "      <th>0</th>\n",
              "      <td>-0.326221</td>\n",
              "      <td>0.293517</td>\n",
              "      <td>-1.041760</td>\n",
              "      <td>-1.225848</td>\n",
              "      <td>-0.911583</td>\n",
              "      <td>0.021886</td>\n",
              "      <td>1</td>\n",
              "      <td>0</td>\n",
              "      <td>1</td>\n",
              "      <td>0</td>\n",
              "      <td>0</td>\n",
              "      <td>1</td>\n",
              "      <td>1</td>\n",
              "      <td>1</td>\n",
              "    </tr>\n",
              "    <tr>\n",
              "      <th>1</th>\n",
              "      <td>-0.440036</td>\n",
              "      <td>0.198164</td>\n",
              "      <td>-1.387538</td>\n",
              "      <td>0.117350</td>\n",
              "      <td>-0.911583</td>\n",
              "      <td>0.216534</td>\n",
              "      <td>0</td>\n",
              "      <td>0</td>\n",
              "      <td>0</td>\n",
              "      <td>1</td>\n",
              "      <td>0</td>\n",
              "      <td>1</td>\n",
              "      <td>0</td>\n",
              "      <td>1</td>\n",
              "    </tr>\n",
              "    <tr>\n",
              "      <th>2</th>\n",
              "      <td>-1.536794</td>\n",
              "      <td>0.293517</td>\n",
              "      <td>1.032908</td>\n",
              "      <td>1.333053</td>\n",
              "      <td>2.527057</td>\n",
              "      <td>0.240687</td>\n",
              "      <td>1</td>\n",
              "      <td>0</td>\n",
              "      <td>1</td>\n",
              "      <td>0</td>\n",
              "      <td>0</td>\n",
              "      <td>1</td>\n",
              "      <td>1</td>\n",
              "      <td>0</td>\n",
              "    </tr>\n",
              "    <tr>\n",
              "      <th>3</th>\n",
              "      <td>0.501521</td>\n",
              "      <td>0.007457</td>\n",
              "      <td>-1.387538</td>\n",
              "      <td>-1.225848</td>\n",
              "      <td>0.807737</td>\n",
              "      <td>-0.108918</td>\n",
              "      <td>0</td>\n",
              "      <td>0</td>\n",
              "      <td>1</td>\n",
              "      <td>0</td>\n",
              "      <td>0</td>\n",
              "      <td>1</td>\n",
              "      <td>0</td>\n",
              "      <td>0</td>\n",
              "    </tr>\n",
              "    <tr>\n",
              "      <th>4</th>\n",
              "      <td>2.063884</td>\n",
              "      <td>0.388871</td>\n",
              "      <td>-1.041760</td>\n",
              "      <td>0.785728</td>\n",
              "      <td>-0.911583</td>\n",
              "      <td>-0.365276</td>\n",
              "      <td>0</td>\n",
              "      <td>0</td>\n",
              "      <td>0</td>\n",
              "      <td>1</td>\n",
              "      <td>0</td>\n",
              "      <td>1</td>\n",
              "      <td>1</td>\n",
              "      <td>1</td>\n",
              "    </tr>\n",
              "  </tbody>\n",
              "</table>\n",
              "</div>"
            ],
            "text/plain": [
              "   CreditScore       Age    Tenure  ...  Gender_Female  HasCrCard  IsActiveMember\n",
              "0    -0.326221  0.293517 -1.041760  ...              1          1               1\n",
              "1    -0.440036  0.198164 -1.387538  ...              1          0               1\n",
              "2    -1.536794  0.293517  1.032908  ...              1          1               0\n",
              "3     0.501521  0.007457 -1.387538  ...              1          0               0\n",
              "4     2.063884  0.388871 -1.041760  ...              1          1               1\n",
              "\n",
              "[5 rows x 14 columns]"
            ]
          },
          "metadata": {},
          "execution_count": 311
        }
      ]
    },
    {
      "cell_type": "code",
      "source": [
        "df_for_model_merged.drop(['HasCrCard', 'IsActiveMember'], axis=1, inplace=True)"
      ],
      "metadata": {
        "id": "EkiXsBh3jOrV"
      },
      "execution_count": null,
      "outputs": []
    },
    {
      "cell_type": "code",
      "source": [
        "df_for_model_merged.head()"
      ],
      "metadata": {
        "colab": {
          "base_uri": "https://localhost:8080/",
          "height": 206
        },
        "id": "uL50o-ZmkKMo",
        "outputId": "b2fc0c1d-ab38-435f-8eeb-e84fb1eff2b0"
      },
      "execution_count": null,
      "outputs": [
        {
          "output_type": "execute_result",
          "data": {
            "text/html": [
              "<div>\n",
              "<style scoped>\n",
              "    .dataframe tbody tr th:only-of-type {\n",
              "        vertical-align: middle;\n",
              "    }\n",
              "\n",
              "    .dataframe tbody tr th {\n",
              "        vertical-align: top;\n",
              "    }\n",
              "\n",
              "    .dataframe thead th {\n",
              "        text-align: right;\n",
              "    }\n",
              "</style>\n",
              "<table border=\"1\" class=\"dataframe\">\n",
              "  <thead>\n",
              "    <tr style=\"text-align: right;\">\n",
              "      <th></th>\n",
              "      <th>CreditScore</th>\n",
              "      <th>Age</th>\n",
              "      <th>Tenure</th>\n",
              "      <th>Balance</th>\n",
              "      <th>NumOfProducts</th>\n",
              "      <th>EstimatedSalary</th>\n",
              "      <th>Exited</th>\n",
              "      <th>Geography_Germany</th>\n",
              "      <th>Geography_France</th>\n",
              "      <th>Geography_Spain</th>\n",
              "      <th>Gender_Male</th>\n",
              "      <th>Gender_Female</th>\n",
              "    </tr>\n",
              "  </thead>\n",
              "  <tbody>\n",
              "    <tr>\n",
              "      <th>0</th>\n",
              "      <td>-0.326221</td>\n",
              "      <td>0.293517</td>\n",
              "      <td>-1.041760</td>\n",
              "      <td>-1.225848</td>\n",
              "      <td>-0.911583</td>\n",
              "      <td>0.021886</td>\n",
              "      <td>1</td>\n",
              "      <td>0</td>\n",
              "      <td>1</td>\n",
              "      <td>0</td>\n",
              "      <td>0</td>\n",
              "      <td>1</td>\n",
              "    </tr>\n",
              "    <tr>\n",
              "      <th>1</th>\n",
              "      <td>-0.440036</td>\n",
              "      <td>0.198164</td>\n",
              "      <td>-1.387538</td>\n",
              "      <td>0.117350</td>\n",
              "      <td>-0.911583</td>\n",
              "      <td>0.216534</td>\n",
              "      <td>0</td>\n",
              "      <td>0</td>\n",
              "      <td>0</td>\n",
              "      <td>1</td>\n",
              "      <td>0</td>\n",
              "      <td>1</td>\n",
              "    </tr>\n",
              "    <tr>\n",
              "      <th>2</th>\n",
              "      <td>-1.536794</td>\n",
              "      <td>0.293517</td>\n",
              "      <td>1.032908</td>\n",
              "      <td>1.333053</td>\n",
              "      <td>2.527057</td>\n",
              "      <td>0.240687</td>\n",
              "      <td>1</td>\n",
              "      <td>0</td>\n",
              "      <td>1</td>\n",
              "      <td>0</td>\n",
              "      <td>0</td>\n",
              "      <td>1</td>\n",
              "    </tr>\n",
              "    <tr>\n",
              "      <th>3</th>\n",
              "      <td>0.501521</td>\n",
              "      <td>0.007457</td>\n",
              "      <td>-1.387538</td>\n",
              "      <td>-1.225848</td>\n",
              "      <td>0.807737</td>\n",
              "      <td>-0.108918</td>\n",
              "      <td>0</td>\n",
              "      <td>0</td>\n",
              "      <td>1</td>\n",
              "      <td>0</td>\n",
              "      <td>0</td>\n",
              "      <td>1</td>\n",
              "    </tr>\n",
              "    <tr>\n",
              "      <th>4</th>\n",
              "      <td>2.063884</td>\n",
              "      <td>0.388871</td>\n",
              "      <td>-1.041760</td>\n",
              "      <td>0.785728</td>\n",
              "      <td>-0.911583</td>\n",
              "      <td>-0.365276</td>\n",
              "      <td>0</td>\n",
              "      <td>0</td>\n",
              "      <td>0</td>\n",
              "      <td>1</td>\n",
              "      <td>0</td>\n",
              "      <td>1</td>\n",
              "    </tr>\n",
              "  </tbody>\n",
              "</table>\n",
              "</div>"
            ],
            "text/plain": [
              "   CreditScore       Age    Tenure  ...  Geography_Spain  Gender_Male  Gender_Female\n",
              "0    -0.326221  0.293517 -1.041760  ...                0            0              1\n",
              "1    -0.440036  0.198164 -1.387538  ...                1            0              1\n",
              "2    -1.536794  0.293517  1.032908  ...                0            0              1\n",
              "3     0.501521  0.007457 -1.387538  ...                0            0              1\n",
              "4     2.063884  0.388871 -1.041760  ...                1            0              1\n",
              "\n",
              "[5 rows x 12 columns]"
            ]
          },
          "metadata": {},
          "execution_count": 313
        }
      ]
    },
    {
      "cell_type": "code",
      "source": [
        "sns.catplot(x='Exited', data=df_for_model_merged, kind='count')"
      ],
      "metadata": {
        "id": "iafyxj--kKPq",
        "colab": {
          "base_uri": "https://localhost:8080/",
          "height": 386
        },
        "outputId": "8c3dde81-dbd8-4cab-cc16-efd201b4b34b"
      },
      "execution_count": null,
      "outputs": [
        {
          "output_type": "execute_result",
          "data": {
            "text/plain": [
              "<seaborn.axisgrid.FacetGrid at 0x7ff290574d10>"
            ]
          },
          "metadata": {},
          "execution_count": 314
        },
        {
          "output_type": "display_data",
          "data": {
            "image/png": "[encoded data removed]",
            "text/plain": [
              "<Figure size 360x360 with 1 Axes>"
            ]
          },
          "metadata": {
            "needs_background": "light"
          }
        }
      ]
    },
    {
      "cell_type": "code",
      "source": [],
      "metadata": {
        "id": "xf2CvdIy6bcC"
      },
      "execution_count": null,
      "outputs": []
    },
    {
      "cell_type": "code",
      "source": [
        "X_StandardScaler = df_for_model_merged.drop('Exited', axis=1)\n"
      ],
      "metadata": {
        "id": "ZuYDWOAt6bfR"
      },
      "execution_count": null,
      "outputs": []
    },
    {
      "cell_type": "markdown",
      "source": [
        "Separating the independent variables."
      ],
      "metadata": {
        "id": "90CvkfJ-sYML"
      }
    },
    {
      "cell_type": "code",
      "metadata": {
        "id": "XvWIQGPcxtYL",
        "colab": {
          "base_uri": "https://localhost:8080/",
          "height": 424
        },
        "outputId": "1b58f83f-35df-4317-b2b2-4873c86d2a23"
      },
      "source": [
        "X_StandardScaler"
      ],
      "execution_count": null,
      "outputs": [
        {
          "output_type": "execute_result",
          "data": {
            "text/html": [
              "<div>\n",
              "<style scoped>\n",
              "    .dataframe tbody tr th:only-of-type {\n",
              "        vertical-align: middle;\n",
              "    }\n",
              "\n",
              "    .dataframe tbody tr th {\n",
              "        vertical-align: top;\n",
              "    }\n",
              "\n",
              "    .dataframe thead th {\n",
              "        text-align: right;\n",
              "    }\n",
              "</style>\n",
              "<table border=\"1\" class=\"dataframe\">\n",
              "  <thead>\n",
              "    <tr style=\"text-align: right;\">\n",
              "      <th></th>\n",
              "      <th>CreditScore</th>\n",
              "      <th>Age</th>\n",
              "      <th>Tenure</th>\n",
              "      <th>Balance</th>\n",
              "      <th>NumOfProducts</th>\n",
              "      <th>EstimatedSalary</th>\n",
              "      <th>Geography_Germany</th>\n",
              "      <th>Geography_France</th>\n",
              "      <th>Geography_Spain</th>\n",
              "      <th>Gender_Male</th>\n",
              "      <th>Gender_Female</th>\n",
              "    </tr>\n",
              "  </thead>\n",
              "  <tbody>\n",
              "    <tr>\n",
              "      <th>0</th>\n",
              "      <td>-0.326221</td>\n",
              "      <td>0.293517</td>\n",
              "      <td>-1.041760</td>\n",
              "      <td>-1.225848</td>\n",
              "      <td>-0.911583</td>\n",
              "      <td>0.021886</td>\n",
              "      <td>0</td>\n",
              "      <td>1</td>\n",
              "      <td>0</td>\n",
              "      <td>0</td>\n",
              "      <td>1</td>\n",
              "    </tr>\n",
              "    <tr>\n",
              "      <th>1</th>\n",
              "      <td>-0.440036</td>\n",
              "      <td>0.198164</td>\n",
              "      <td>-1.387538</td>\n",
              "      <td>0.117350</td>\n",
              "      <td>-0.911583</td>\n",
              "      <td>0.216534</td>\n",
              "      <td>0</td>\n",
              "      <td>0</td>\n",
              "      <td>1</td>\n",
              "      <td>0</td>\n",
              "      <td>1</td>\n",
              "    </tr>\n",
              "    <tr>\n",
              "      <th>2</th>\n",
              "      <td>-1.536794</td>\n",
              "      <td>0.293517</td>\n",
              "      <td>1.032908</td>\n",
              "      <td>1.333053</td>\n",
              "      <td>2.527057</td>\n",
              "      <td>0.240687</td>\n",
              "      <td>0</td>\n",
              "      <td>1</td>\n",
              "      <td>0</td>\n",
              "      <td>0</td>\n",
              "      <td>1</td>\n",
              "    </tr>\n",
              "    <tr>\n",
              "      <th>3</th>\n",
              "      <td>0.501521</td>\n",
              "      <td>0.007457</td>\n",
              "      <td>-1.387538</td>\n",
              "      <td>-1.225848</td>\n",
              "      <td>0.807737</td>\n",
              "      <td>-0.108918</td>\n",
              "      <td>0</td>\n",
              "      <td>1</td>\n",
              "      <td>0</td>\n",
              "      <td>0</td>\n",
              "      <td>1</td>\n",
              "    </tr>\n",
              "    <tr>\n",
              "      <th>4</th>\n",
              "      <td>2.063884</td>\n",
              "      <td>0.388871</td>\n",
              "      <td>-1.041760</td>\n",
              "      <td>0.785728</td>\n",
              "      <td>-0.911583</td>\n",
              "      <td>-0.365276</td>\n",
              "      <td>0</td>\n",
              "      <td>0</td>\n",
              "      <td>1</td>\n",
              "      <td>0</td>\n",
              "      <td>1</td>\n",
              "    </tr>\n",
              "    <tr>\n",
              "      <th>...</th>\n",
              "      <td>...</td>\n",
              "      <td>...</td>\n",
              "      <td>...</td>\n",
              "      <td>...</td>\n",
              "      <td>...</td>\n",
              "      <td>...</td>\n",
              "      <td>...</td>\n",
              "      <td>...</td>\n",
              "      <td>...</td>\n",
              "      <td>...</td>\n",
              "      <td>...</td>\n",
              "    </tr>\n",
              "    <tr>\n",
              "      <th>9995</th>\n",
              "      <td>1.246488</td>\n",
              "      <td>0.007457</td>\n",
              "      <td>-0.004426</td>\n",
              "      <td>-1.225848</td>\n",
              "      <td>0.807737</td>\n",
              "      <td>-0.066419</td>\n",
              "      <td>0</td>\n",
              "      <td>1</td>\n",
              "      <td>0</td>\n",
              "      <td>1</td>\n",
              "      <td>0</td>\n",
              "    </tr>\n",
              "    <tr>\n",
              "      <th>9996</th>\n",
              "      <td>-1.391939</td>\n",
              "      <td>-0.373958</td>\n",
              "      <td>1.724464</td>\n",
              "      <td>-0.306379</td>\n",
              "      <td>-0.911583</td>\n",
              "      <td>0.027988</td>\n",
              "      <td>0</td>\n",
              "      <td>1</td>\n",
              "      <td>0</td>\n",
              "      <td>1</td>\n",
              "      <td>0</td>\n",
              "    </tr>\n",
              "    <tr>\n",
              "      <th>9997</th>\n",
              "      <td>0.604988</td>\n",
              "      <td>-0.278604</td>\n",
              "      <td>0.687130</td>\n",
              "      <td>-1.225848</td>\n",
              "      <td>-0.911583</td>\n",
              "      <td>-1.008643</td>\n",
              "      <td>0</td>\n",
              "      <td>1</td>\n",
              "      <td>0</td>\n",
              "      <td>0</td>\n",
              "      <td>1</td>\n",
              "    </tr>\n",
              "    <tr>\n",
              "      <th>9998</th>\n",
              "      <td>1.256835</td>\n",
              "      <td>0.293517</td>\n",
              "      <td>-0.695982</td>\n",
              "      <td>-0.022608</td>\n",
              "      <td>0.807737</td>\n",
              "      <td>-0.125231</td>\n",
              "      <td>1</td>\n",
              "      <td>0</td>\n",
              "      <td>0</td>\n",
              "      <td>1</td>\n",
              "      <td>0</td>\n",
              "    </tr>\n",
              "    <tr>\n",
              "      <th>9999</th>\n",
              "      <td>1.463771</td>\n",
              "      <td>-1.041433</td>\n",
              "      <td>-0.350204</td>\n",
              "      <td>0.859965</td>\n",
              "      <td>-0.911583</td>\n",
              "      <td>-1.076370</td>\n",
              "      <td>0</td>\n",
              "      <td>1</td>\n",
              "      <td>0</td>\n",
              "      <td>0</td>\n",
              "      <td>1</td>\n",
              "    </tr>\n",
              "  </tbody>\n",
              "</table>\n",
              "<p>10000 rows × 11 columns</p>\n",
              "</div>"
            ],
            "text/plain": [
              "      CreditScore       Age  ...  Gender_Male  Gender_Female\n",
              "0       -0.326221  0.293517  ...            0              1\n",
              "1       -0.440036  0.198164  ...            0              1\n",
              "2       -1.536794  0.293517  ...            0              1\n",
              "3        0.501521  0.007457  ...            0              1\n",
              "4        2.063884  0.388871  ...            0              1\n",
              "...           ...       ...  ...          ...            ...\n",
              "9995     1.246488  0.007457  ...            1              0\n",
              "9996    -1.391939 -0.373958  ...            1              0\n",
              "9997     0.604988 -0.278604  ...            0              1\n",
              "9998     1.256835  0.293517  ...            1              0\n",
              "9999     1.463771 -1.041433  ...            0              1\n",
              "\n",
              "[10000 rows x 11 columns]"
            ]
          },
          "metadata": {},
          "execution_count": 316
        }
      ]
    },
    {
      "cell_type": "code",
      "metadata": {
        "id": "XznOV1AbxtYL",
        "colab": {
          "base_uri": "https://localhost:8080/"
        },
        "outputId": "636b45a9-d2f2-450e-aa3b-5c4d71b24d2f"
      },
      "source": [
        "X_StandardScaler.info()"
      ],
      "execution_count": null,
      "outputs": [
        {
          "output_type": "stream",
          "name": "stdout",
          "text": [
            "<class 'pandas.core.frame.DataFrame'>\n",
            "RangeIndex: 10000 entries, 0 to 9999\n",
            "Data columns (total 11 columns):\n",
            " #   Column             Non-Null Count  Dtype  \n",
            "---  ------             --------------  -----  \n",
            " 0   CreditScore        10000 non-null  float64\n",
            " 1   Age                10000 non-null  float64\n",
            " 2   Tenure             10000 non-null  float64\n",
            " 3   Balance            10000 non-null  float64\n",
            " 4   NumOfProducts      10000 non-null  float64\n",
            " 5   EstimatedSalary    10000 non-null  float64\n",
            " 6   Geography_Germany  10000 non-null  uint8  \n",
            " 7   Geography_France   10000 non-null  uint8  \n",
            " 8   Geography_Spain    10000 non-null  uint8  \n",
            " 9   Gender_Male        10000 non-null  uint8  \n",
            " 10  Gender_Female      10000 non-null  uint8  \n",
            "dtypes: float64(6), uint8(5)\n",
            "memory usage: 517.7 KB\n"
          ]
        }
      ]
    },
    {
      "cell_type": "code",
      "metadata": {
        "id": "lUw0cIO2xtYL"
      },
      "source": [],
      "execution_count": null,
      "outputs": []
    },
    {
      "cell_type": "markdown",
      "metadata": {
        "id": "ioLLeGGh8rqn"
      },
      "source": [
        "# Balancing the dataset"
      ]
    },
    {
      "cell_type": "markdown",
      "source": [
        "* Our dataset includes 10,000 customers with 13 different attributes ranging from demographics to location to  the transactional information. \n",
        "\n",
        "* We started by removing two columns: RowNumber, and CustomerId,  which aren't relevant to the analysis.\n",
        "\n",
        "* We have unbalanced data, which means there are an uneven amount of class labels. \n",
        "\n",
        "* The resample module is used to increase sample the minority class in order to make the class labels proportional."
      ],
      "metadata": {
        "id": "HW7brp4btszL"
      }
    },
    {
      "cell_type": "code",
      "metadata": {
        "id": "n8DrIopP9p4f"
      },
      "source": [
        "from imblearn.over_sampling import RandomOverSampler\n",
        "from imblearn.under_sampling import RandomUnderSampler\n",
        "\n",
        "ros = RandomOverSampler(random_state=0)\n",
        "rus = RandomUnderSampler(random_state=0)\n",
        "\n",
        "X_resampled_ros, y_resampled_ros = ros.fit_resample(X_StandardScaler, y)\n",
        "\n",
        "X_resampled_rus, y_resampled_rus = rus.fit_resample(X_StandardScaler, y)\n"
      ],
      "execution_count": null,
      "outputs": []
    },
    {
      "cell_type": "markdown",
      "source": [
        "**We need to balance dataset becuase unbalance dataset creates sensitivity problems in our confusion matrix. **"
      ],
      "metadata": {
        "id": "EggwedRhs70o"
      }
    },
    {
      "cell_type": "code",
      "metadata": {
        "id": "GKz0tpWDxtYL",
        "colab": {
          "base_uri": "https://localhost:8080/"
        },
        "outputId": "c090ae18-de81-4a52-bfc6-5eb41ec766ad"
      },
      "source": [
        "X_resampled_ros.shape\n"
      ],
      "execution_count": null,
      "outputs": [
        {
          "output_type": "execute_result",
          "data": {
            "text/plain": [
              "(15926, 11)"
            ]
          },
          "metadata": {},
          "execution_count": 319
        }
      ]
    },
    {
      "cell_type": "code",
      "metadata": {
        "id": "7n4U4Si5xtYL",
        "colab": {
          "base_uri": "https://localhost:8080/"
        },
        "outputId": "655023c2-6cfb-4796-827a-ca17b7d576a7"
      },
      "source": [
        "y_resampled_ros.shape"
      ],
      "execution_count": null,
      "outputs": [
        {
          "output_type": "execute_result",
          "data": {
            "text/plain": [
              "(15926,)"
            ]
          },
          "metadata": {},
          "execution_count": 320
        }
      ]
    },
    {
      "cell_type": "code",
      "metadata": {
        "id": "L_w9jM2zxtYL",
        "colab": {
          "base_uri": "https://localhost:8080/",
          "height": 351
        },
        "outputId": "e209a13c-783e-4336-a781-8120d10a108a"
      },
      "source": [
        "sns.countplot(y_resampled_ros)"
      ],
      "execution_count": null,
      "outputs": [
        {
          "output_type": "stream",
          "name": "stderr",
          "text": [
            "/usr/local/lib/python3.7/dist-packages/seaborn/_decorators.py:43: FutureWarning: Pass the following variable as a keyword arg: x. From version 0.12, the only valid positional argument will be `data`, and passing other arguments without an explicit keyword will result in an error or misinterpretation.\n",
            "  FutureWarning\n"
          ]
        },
        {
          "output_type": "execute_result",
          "data": {
            "text/plain": [
              "<matplotlib.axes._subplots.AxesSubplot at 0x7ff27fbabad0>"
            ]
          },
          "metadata": {},
          "execution_count": 321
        },
        {
          "output_type": "display_data",
          "data": {
            "image/png": "[encoded data removed]",
            "text/plain": [
              "<Figure size 432x288 with 1 Axes>"
            ]
          },
          "metadata": {
            "needs_background": "light"
          }
        }
      ]
    },
    {
      "cell_type": "code",
      "metadata": {
        "id": "H7ergtBvB2oF"
      },
      "source": [
        "# Need to drop 'RowNumber' and 'CustomerId' column from X_resampled and y_resampled\n",
        "\n",
        "#X_resampled\n",
        "# X_resampled.drop(['RowNumber','CustomerId'], axis=1, inplace=True)\n",
        "# X_resampled.head()"
      ],
      "execution_count": null,
      "outputs": []
    },
    {
      "cell_type": "code",
      "metadata": {
        "id": "M6jzElHgB2qM"
      },
      "source": [],
      "execution_count": null,
      "outputs": []
    },
    {
      "cell_type": "code",
      "metadata": {
        "id": "xhqv79W5s8re"
      },
      "source": [],
      "execution_count": null,
      "outputs": []
    },
    {
      "cell_type": "code",
      "metadata": {
        "id": "b9FU8d3VwCBp"
      },
      "source": [],
      "execution_count": null,
      "outputs": []
    },
    {
      "cell_type": "code",
      "metadata": {
        "id": "7dEoP3r9wCEg"
      },
      "source": [
        "\n",
        "# Train-Test Separation\n",
        "from sklearn.model_selection import train_test_split, cross_val_score\n",
        "X_train, X_test, y_train, y_test = train_test_split(X_resampled_ros, y_resampled_ros, test_size=0.20, random_state=42)"
      ],
      "execution_count": null,
      "outputs": []
    },
    {
      "cell_type": "code",
      "metadata": {
        "id": "Dd5pkx8EwCG8"
      },
      "source": [
        "# Spliting data\n",
        "#from sklearn.model_selection import train_test_split, cross_val_score\n",
        "#X_train, X_test, y_train, y_test = train_test_split(X_resampled, y_resampled, test_size=0.3, random_state=42)"
      ],
      "execution_count": null,
      "outputs": []
    },
    {
      "cell_type": "markdown",
      "metadata": {
        "id": "b_AqJR60xtYL"
      },
      "source": [
        "# Build Models =========================================================="
      ]
    },
    {
      "cell_type": "code",
      "metadata": {
        "id": "hofjZ7WVxtYM"
      },
      "source": [
        "from sklearn.linear_model import LogisticRegression\n",
        "from sklearn.ensemble import RandomForestClassifier\n",
        "from sklearn.svm import SVC\n",
        "from sklearn.metrics import accuracy_score"
      ],
      "execution_count": null,
      "outputs": []
    },
    {
      "cell_type": "markdown",
      "source": [
        "**Model without any hyperparameter tuning.**"
      ],
      "metadata": {
        "id": "9fnY-qUeGrqE"
      }
    },
    {
      "cell_type": "code",
      "source": [
        "log_temp_mod = LogisticRegression(random_state=42)\n",
        "log_temp_mod.fit(X_train, y_train)\n",
        "y_pred_logreg_temp = log_temp_mod.predict(X_test)\n",
        "\n",
        "randFor_temp_mod = RandomForestClassifier(random_state=42)\n",
        "randFor_temp_mod.fit(X_train, y_train)\n",
        "y_pred_randFor_temp = randFor_temp_mod.predict(X_test)\n",
        "\n",
        "svm_temp_mod = SVC(gamma='auto', random_state=42)\n",
        "svm_temp_mod.fit(X_train, y_train)\n",
        "y_pred_svm_temp = svm_temp_mod.predict(X_test)"
      ],
      "metadata": {
        "id": "2pKEnzvxGme_"
      },
      "execution_count": null,
      "outputs": []
    },
    {
      "cell_type": "markdown",
      "source": [
        "**We are building above models, just to check the initial accuracy performance of the models without any hyper-perameter tunning. **"
      ],
      "metadata": {
        "id": "0_h645Myu7S9"
      }
    },
    {
      "cell_type": "code",
      "source": [
        "print(\"Logistic Regression Score: \", accuracy_score(y_test, y_pred_logreg_temp))\n",
        "print(\"Random Forest Score: \", accuracy_score(y_test, y_pred_randFor_temp))\n",
        "print(\"SVM Score: \", accuracy_score(y_test, y_pred_svm_temp))\n",
        "\n"
      ],
      "metadata": {
        "colab": {
          "base_uri": "https://localhost:8080/"
        },
        "id": "nvtIlljnGmiV",
        "outputId": "b74e2400-0637-48bb-c0b1-5fcb06380eed"
      },
      "execution_count": null,
      "outputs": [
        {
          "output_type": "stream",
          "name": "stdout",
          "text": [
            "Logistic Regression Score:  0.6917765222849969\n",
            "Random Forest Score:  0.940677966101695\n",
            "SVM Score:  0.7777777777777778\n"
          ]
        }
      ]
    },
    {
      "cell_type": "code",
      "source": [
        "#svm_temp_mod.intercept_\n"
      ],
      "metadata": {
        "id": "Rg-gQ_D_ynqK"
      },
      "execution_count": null,
      "outputs": []
    },
    {
      "cell_type": "code",
      "source": [],
      "metadata": {
        "id": "I6ItxANryoGe"
      },
      "execution_count": null,
      "outputs": []
    },
    {
      "cell_type": "code",
      "source": [],
      "metadata": {
        "id": "HKeGHZtKyoLc"
      },
      "execution_count": null,
      "outputs": []
    },
    {
      "cell_type": "markdown",
      "source": [
        "We can see above that **Random Forest have better accuracy** than Logistic Regression and Support vector Machine model, withput even any parameters tunning. "
      ],
      "metadata": {
        "id": "bcuw-SlovZ3P"
      }
    },
    {
      "cell_type": "code",
      "source": [],
      "metadata": {
        "id": "FYtvYXNXGmlx"
      },
      "execution_count": null,
      "outputs": []
    },
    {
      "cell_type": "markdown",
      "source": [
        "**Cross Validation**"
      ],
      "metadata": {
        "id": "yZGIpE2oJqVM"
      }
    },
    {
      "cell_type": "markdown",
      "source": [
        "* If you randomly select a part of data as train and another part as test, you \n",
        "may have high accuracy for the train part, but have lower accuracy for the test part. Methods like n-fold cross validation and others will help you find the best fit model based on your data. They will help you find the model with the lowest errors on all parts of the data.\n",
        "\n",
        "* Cross-validation using K-folds is a popular technique, whereby, for example, k=10 is divided into 9 folds for training and one fold for testing, and this process repeats until all folds are tested one by one. By doing so, we can get an indication of the generalization ability of the model, especially if we only have a limited amount of data and are not able to split it into test and training."
      ],
      "metadata": {
        "id": "0ox9CTsgyNIP"
      }
    },
    {
      "cell_type": "code",
      "source": [
        "from sklearn.model_selection import GridSearchCV, cross_val_score, StratifiedKFold"
      ],
      "metadata": {
        "id": "of5bkg-cJfpe"
      },
      "execution_count": null,
      "outputs": []
    },
    {
      "cell_type": "code",
      "source": [
        "# Cross validate model with Kfold stratified cross validation\n",
        "kfold = StratifiedKFold(n_splits=5)"
      ],
      "metadata": {
        "id": "KEC-oCL1Jfsy"
      },
      "execution_count": null,
      "outputs": []
    },
    {
      "cell_type": "code",
      "source": [
        "log_classifier = LogisticRegression()\n",
        "rf_classifier = RandomForestClassifier()\n",
        "svm_classifier = SVC()"
      ],
      "metadata": {
        "id": "VlZ_wapjMbhW"
      },
      "execution_count": null,
      "outputs": []
    },
    {
      "cell_type": "code",
      "source": [
        "log_cv_result = cross_val_score(log_classifier, X_train, y = y_train, scoring = 'accuracy', cv = kfold, n_jobs=4)\n",
        "rf_cv_result = cross_val_score(rf_classifier, X_train, y = y_train, scoring = 'accuracy', cv = kfold, n_jobs=4)\n",
        "svm_cv_result = cross_val_score(svm_classifier, X_train, y = y_train, scoring = 'accuracy', cv = kfold, n_jobs=4)"
      ],
      "metadata": {
        "id": "dKQ8Wt2CJfwT"
      },
      "execution_count": null,
      "outputs": []
    },
    {
      "cell_type": "code",
      "source": [
        "cross_val_means = []\n",
        "cross_val_std = []\n",
        "\n",
        "cross_val_means.append(log_cv_result.mean())\n",
        "cross_val_means.append(rf_cv_result.mean())\n",
        "cross_val_means.append(svm_cv_result.mean())\n",
        "\n",
        "cross_val_std.append(log_cv_result.std())\n",
        "cross_val_std.append(rf_cv_result.std())\n",
        "cross_val_std.append(svm_cv_result.std())"
      ],
      "metadata": {
        "id": "rrRhZf6WO7I-"
      },
      "execution_count": null,
      "outputs": []
    },
    {
      "cell_type": "code",
      "source": [],
      "metadata": {
        "id": "Nr4jp7sZQc4w"
      },
      "execution_count": null,
      "outputs": []
    },
    {
      "cell_type": "code",
      "source": [
        "cv_allResults = pd.DataFrame({'Algorithm':['Logistic Regression', 'Random Forest', \"SVC\"],\n",
        "                              'CV_Means': cross_val_means,'CV_stds/errors': cross_val_std})"
      ],
      "metadata": {
        "id": "RNSyFdXNJfyc"
      },
      "execution_count": null,
      "outputs": []
    },
    {
      "cell_type": "code",
      "source": [
        "cv_allResults"
      ],
      "metadata": {
        "colab": {
          "base_uri": "https://localhost:8080/",
          "height": 143
        },
        "id": "OOCO5y9-Jf0J",
        "outputId": "6f538911-58b6-49d5-89a9-ea5bb6a7d4ba"
      },
      "execution_count": null,
      "outputs": [
        {
          "output_type": "execute_result",
          "data": {
            "text/html": [
              "<div>\n",
              "<style scoped>\n",
              "    .dataframe tbody tr th:only-of-type {\n",
              "        vertical-align: middle;\n",
              "    }\n",
              "\n",
              "    .dataframe tbody tr th {\n",
              "        vertical-align: top;\n",
              "    }\n",
              "\n",
              "    .dataframe thead th {\n",
              "        text-align: right;\n",
              "    }\n",
              "</style>\n",
              "<table border=\"1\" class=\"dataframe\">\n",
              "  <thead>\n",
              "    <tr style=\"text-align: right;\">\n",
              "      <th></th>\n",
              "      <th>Algorithm</th>\n",
              "      <th>CV_Means</th>\n",
              "      <th>CV_stds/errors</th>\n",
              "    </tr>\n",
              "  </thead>\n",
              "  <tbody>\n",
              "    <tr>\n",
              "      <th>0</th>\n",
              "      <td>Logistic Regression</td>\n",
              "      <td>0.701491</td>\n",
              "      <td>0.002452</td>\n",
              "    </tr>\n",
              "    <tr>\n",
              "      <th>1</th>\n",
              "      <td>Random Forest</td>\n",
              "      <td>0.926609</td>\n",
              "      <td>0.002342</td>\n",
              "    </tr>\n",
              "    <tr>\n",
              "      <th>2</th>\n",
              "      <td>SVC</td>\n",
              "      <td>0.785636</td>\n",
              "      <td>0.005412</td>\n",
              "    </tr>\n",
              "  </tbody>\n",
              "</table>\n",
              "</div>"
            ],
            "text/plain": [
              "             Algorithm  CV_Means  CV_stds/errors\n",
              "0  Logistic Regression  0.701491        0.002452\n",
              "1        Random Forest  0.926609        0.002342\n",
              "2                  SVC  0.785636        0.005412"
            ]
          },
          "metadata": {},
          "execution_count": 335
        }
      ]
    },
    {
      "cell_type": "code",
      "source": [
        "sns.catplot('Algorithm','CV_Means', data=cv_allResults, kind='bar')"
      ],
      "metadata": {
        "colab": {
          "base_uri": "https://localhost:8080/",
          "height": 441
        },
        "id": "_JxkJrTFRxbx",
        "outputId": "0c4ea9e7-f6f1-4292-9756-1c814ed9c2d2"
      },
      "execution_count": null,
      "outputs": [
        {
          "output_type": "stream",
          "name": "stderr",
          "text": [
            "/usr/local/lib/python3.7/dist-packages/seaborn/_decorators.py:43: FutureWarning: Pass the following variables as keyword args: x, y. From version 0.12, the only valid positional argument will be `data`, and passing other arguments without an explicit keyword will result in an error or misinterpretation.\n",
            "  FutureWarning\n"
          ]
        },
        {
          "output_type": "execute_result",
          "data": {
            "text/plain": [
              "<seaborn.axisgrid.FacetGrid at 0x7ff27fb87a90>"
            ]
          },
          "metadata": {},
          "execution_count": 336
        },
        {
          "output_type": "display_data",
          "data": {
            "image/png": "[encoded data removed]",
            "text/plain": [
              "<Figure size 360x360 with 1 Axes>"
            ]
          },
          "metadata": {
            "needs_background": "light"
          }
        }
      ]
    },
    {
      "cell_type": "markdown",
      "source": [
        "It is shown that Random Forest seems to have higher accuracy mean as compare to other two models. It is leading in the performance like it did on initial modeling."
      ],
      "metadata": {
        "id": "s032ZIyITC85"
      }
    },
    {
      "cell_type": "code",
      "source": [],
      "metadata": {
        "id": "9cY_fT8m0o_Z"
      },
      "execution_count": null,
      "outputs": []
    },
    {
      "cell_type": "code",
      "source": [
        "sns.catplot('Algorithm','CV_stds/errors', data=cv_allResults, kind='bar')"
      ],
      "metadata": {
        "colab": {
          "base_uri": "https://localhost:8080/",
          "height": 441
        },
        "id": "uoonZIedTCHa",
        "outputId": "0ca85a9d-9684-4dad-bd3d-1c7a8a4c1b7b"
      },
      "execution_count": null,
      "outputs": [
        {
          "output_type": "stream",
          "name": "stderr",
          "text": [
            "/usr/local/lib/python3.7/dist-packages/seaborn/_decorators.py:43: FutureWarning: Pass the following variables as keyword args: x, y. From version 0.12, the only valid positional argument will be `data`, and passing other arguments without an explicit keyword will result in an error or misinterpretation.\n",
            "  FutureWarning\n"
          ]
        },
        {
          "output_type": "execute_result",
          "data": {
            "text/plain": [
              "<seaborn.axisgrid.FacetGrid at 0x7ff27ff21e90>"
            ]
          },
          "metadata": {},
          "execution_count": 337
        },
        {
          "output_type": "display_data",
          "data": {
            "image/png": "[encoded data removed]",
            "text/plain": [
              "<Figure size 360x360 with 1 Axes>"
            ]
          },
          "metadata": {
            "needs_background": "light"
          }
        }
      ]
    },
    {
      "cell_type": "markdown",
      "source": [
        "It is noticable in the barplot that Random Forest have lower errors than SVM but higher than Logistic Regression. I think difference between Random Forest and Logistic Regression is not too much but accurancy of Random Forest is much higher than Logistic Regression. "
      ],
      "metadata": {
        "id": "fec3ES3oTshg"
      }
    },
    {
      "cell_type": "code",
      "source": [],
      "metadata": {
        "id": "h6SzMoTXGmn0"
      },
      "execution_count": null,
      "outputs": []
    },
    {
      "cell_type": "markdown",
      "source": [
        "# Now lets Tune hyper-parameters and optimize models"
      ],
      "metadata": {
        "id": "LF0hFpRZJ38A"
      }
    },
    {
      "cell_type": "markdown",
      "metadata": {
        "id": "PNBE5s3PxqCJ"
      },
      "source": [
        "**Logistic regression**"
      ]
    },
    {
      "cell_type": "code",
      "metadata": {
        "id": "jZur8BM3xo2L"
      },
      "source": [
        "\n",
        "from sklearn.pipeline import Pipeline\n",
        "from sklearn.metrics import roc_auc_score, classification_report, confusion_matrix\n",
        "from sklearn.svm import SVC\n",
        "from sklearn.neighbors import KNeighborsClassifier\n",
        "from sklearn.metrics import roc_curve\n",
        "from sklearn.preprocessing import StandardScaler\n"
      ],
      "execution_count": null,
      "outputs": []
    },
    {
      "cell_type": "markdown",
      "source": [
        "Below, we need to create pipeline to connect various steps for hyper-parameters tunning."
      ],
      "metadata": {
        "id": "9R-YqmeWwjal"
      }
    },
    {
      "cell_type": "code",
      "metadata": {
        "id": "cxNsC28Yxo5E"
      },
      "source": [
        "# Creating steps to pass on pipeline\n",
        "steps_logreg= [('scaler', StandardScaler()), ('logistic', LogisticRegression(max_iter=10000))]"
      ],
      "execution_count": null,
      "outputs": []
    },
    {
      "cell_type": "code",
      "metadata": {
        "id": "2wMgk3VUxo7a"
      },
      "source": [
        "# Creating pipeline\n",
        "pipeline_logreg = Pipeline(steps_logreg)"
      ],
      "execution_count": null,
      "outputs": []
    },
    {
      "cell_type": "code",
      "metadata": {
        "id": "mu7H0Ujjxo-N"
      },
      "source": [
        "# Create the parameters for hyperparameteΩr grid\n",
        "parameters_logreg = {'logistic__C': np.logspace(-5, 8, 15)}"
      ],
      "execution_count": null,
      "outputs": []
    },
    {
      "cell_type": "code",
      "metadata": {
        "id": "A4UIHMG1xpAH"
      },
      "source": [
        "# Creating hyperparameter grid\n",
        "cv_search_logreg = GridSearchCV(pipeline_logreg, param_grid=parameters_logreg, cv=5)"
      ],
      "execution_count": null,
      "outputs": []
    },
    {
      "cell_type": "markdown",
      "source": [
        "It selects from loop which has predefined hyperparameters and fits our Logistic Rigression model on our training set. It helps us to select the best parameters from the listed hyperparameters."
      ],
      "metadata": {
        "id": "7Xl7rAML1VAj"
      }
    },
    {
      "cell_type": "code",
      "metadata": {
        "colab": {
          "base_uri": "https://localhost:8080/"
        },
        "id": "h1xKjUoKxpCX",
        "outputId": "90ed5870-a577-45f0-da06-449f3b518aa4"
      },
      "source": [
        "# train the data\n",
        "cv_search_logreg.fit(X_train, y_train)"
      ],
      "execution_count": null,
      "outputs": [
        {
          "output_type": "execute_result",
          "data": {
            "text/plain": [
              "GridSearchCV(cv=5,\n",
              "             estimator=Pipeline(steps=[('scaler', StandardScaler()),\n",
              "                                       ('logistic',\n",
              "                                        LogisticRegression(max_iter=10000))]),\n",
              "             param_grid={'logistic__C': array([1.00000000e-05, 8.48342898e-05, 7.19685673e-04, 6.10540230e-03,\n",
              "       5.17947468e-02, 4.39397056e-01, 3.72759372e+00, 3.16227766e+01,\n",
              "       2.68269580e+02, 2.27584593e+03, 1.93069773e+04, 1.63789371e+05,\n",
              "       1.38949549e+06, 1.17876863e+07, 1.00000000e+08])})"
            ]
          },
          "metadata": {},
          "execution_count": 343
        }
      ]
    },
    {
      "cell_type": "code",
      "metadata": {
        "id": "5UJZL33uxpEV"
      },
      "source": [
        "y_pred_logreg = cv_search_logreg.predict(X_test)"
      ],
      "execution_count": null,
      "outputs": []
    },
    {
      "cell_type": "code",
      "metadata": {
        "id": "bEmUJvgpyvrx",
        "colab": {
          "base_uri": "https://localhost:8080/"
        },
        "outputId": "169843a3-c6ad-4fba-e632-b2e87d5cca36"
      },
      "source": [
        "\n",
        "best_hyperparameters = cv_search_logreg.best_params_\n",
        "print('Best hyperparameter: \\n',best_hyperparameters)"
      ],
      "execution_count": null,
      "outputs": [
        {
          "output_type": "stream",
          "name": "stdout",
          "text": [
            "Best hyperparameter: \n",
            " {'logistic__C': 0.05179474679231213}\n"
          ]
        }
      ]
    },
    {
      "cell_type": "markdown",
      "source": [
        "We can use these hyper-parameters to build a better Logistic Regression model for us. "
      ],
      "metadata": {
        "id": "GhDls9VA2ehM"
      }
    },
    {
      "cell_type": "code",
      "metadata": {
        "id": "uq14O0LQyvud",
        "colab": {
          "base_uri": "https://localhost:8080/"
        },
        "outputId": "35a3415b-f379-44d1-e454-1e2af87ff767"
      },
      "source": [
        "best_model = cv_search_logreg.best_estimator_\n",
        "print('Best Model: \\n', best_model)"
      ],
      "execution_count": null,
      "outputs": [
        {
          "output_type": "stream",
          "name": "stdout",
          "text": [
            "Best Model: \n",
            " Pipeline(steps=[('scaler', StandardScaler()),\n",
            "                ('logistic',\n",
            "                 LogisticRegression(C=0.05179474679231213, max_iter=10000))])\n"
          ]
        }
      ]
    },
    {
      "cell_type": "code",
      "metadata": {
        "id": "VfmPOn8qyvw2",
        "colab": {
          "base_uri": "https://localhost:8080/"
        },
        "outputId": "4bb1e2c8-5bb8-45b8-dd93-35b29f91b371"
      },
      "source": [
        "best_score = cv_search_logreg.best_score_\n",
        "print('Best Score: \\n', best_score)"
      ],
      "execution_count": null,
      "outputs": [
        {
          "output_type": "stream",
          "name": "stdout",
          "text": [
            "Best Score: \n",
            " 0.7017268445839874\n"
          ]
        }
      ]
    },
    {
      "cell_type": "markdown",
      "source": [
        "The best score we can achive with suggested hyper-parameters, is **~70.17 %**"
      ],
      "metadata": {
        "id": "VtW3nNsr2_2q"
      }
    },
    {
      "cell_type": "code",
      "metadata": {
        "id": "31X4F8spyvzz",
        "colab": {
          "base_uri": "https://localhost:8080/"
        },
        "outputId": "47bdcb6e-d1ee-481e-f77a-483feb3291a9"
      },
      "source": [
        "# Here we build our model based on hyper-parameters suggested after tunning\n",
        "\n",
        "logr_model = LogisticRegression(C=0.05179474679231213, max_iter=10000)\n",
        "\n",
        "\n",
        "logr_model.fit(X_train, y_train)"
      ],
      "execution_count": null,
      "outputs": [
        {
          "output_type": "execute_result",
          "data": {
            "text/plain": [
              "LogisticRegression(C=0.05179474679231213, max_iter=10000)"
            ]
          },
          "metadata": {},
          "execution_count": 348
        }
      ]
    },
    {
      "cell_type": "code",
      "metadata": {
        "id": "UZhEsLZSxpHr"
      },
      "source": [
        "y_pred_logreg1 = logr_model.predict(X_test)"
      ],
      "execution_count": null,
      "outputs": []
    },
    {
      "cell_type": "markdown",
      "metadata": {
        "id": "gawux365xP1p"
      },
      "source": [
        "**Random Forest Classifier**"
      ]
    },
    {
      "cell_type": "code",
      "metadata": {
        "id": "2aQRm2PyIss1"
      },
      "source": [
        "\n"
      ],
      "execution_count": null,
      "outputs": []
    },
    {
      "cell_type": "markdown",
      "metadata": {
        "id": "lpijBX-Vvj5x"
      },
      "source": [
        "**Hyper-parameter tuning **"
      ]
    },
    {
      "cell_type": "code",
      "metadata": {
        "id": "ozrU5XEcvfbM"
      },
      "source": [
        "rfc = RandomForestClassifier(max_features='auto', oob_score=True, random_state=111, n_jobs=-1)"
      ],
      "execution_count": null,
      "outputs": []
    },
    {
      "cell_type": "code",
      "metadata": {
        "id": "yo2yU6G1vq70"
      },
      "source": [
        "params_grid =  { 'criterion' : ['gini', 'entropy'],\n",
        "                'min_samples_leaf' : [1, 3, 6],\n",
        "                'min_samples_split' : [2, 4, 7],\n",
        "                'max_depth': [6],\n",
        "                'bootstrap': [True],\n",
        "                'max_features': ['auto','sqrt'],\n",
        "                'n_estimators': [50, 100]\n",
        "               }\n",
        "gd_search = GridSearchCV(estimator=rfc, param_grid=params_grid, scoring='accuracy', cv=5, n_jobs=-1)"
      ],
      "execution_count": null,
      "outputs": []
    },
    {
      "cell_type": "markdown",
      "source": [
        "It selects from loop which has predefined hyperparameters and fits our Random Forest model on our training set. It helps us to select the best parameters from the listed hyperparameters."
      ],
      "metadata": {
        "id": "iwvjGvQ42POV"
      }
    },
    {
      "cell_type": "code",
      "metadata": {
        "id": "n8VGDJQvvrOu"
      },
      "source": [
        "# Takes about 4 mins in my Macbook to train the machine (Sepc: 16GB RAM, intel i7).\n",
        "gd_search = gd_search.fit(X_train.values, y_train.values)"
      ],
      "execution_count": null,
      "outputs": []
    },
    {
      "cell_type": "code",
      "metadata": {
        "id": "_yyFtqZMvrRW",
        "colab": {
          "base_uri": "https://localhost:8080/"
        },
        "outputId": "0f248e23-2636-4e9a-ab19-5e9120836e87"
      },
      "source": [
        "# Best hyperparameter from GridSearch\n",
        "best_hyperparameters = gd_search.best_params_\n",
        "print('Best hyperparameter: \\n',best_hyperparameters)"
      ],
      "execution_count": null,
      "outputs": [
        {
          "output_type": "stream",
          "name": "stdout",
          "text": [
            "Best hyperparameter: \n",
            " {'bootstrap': True, 'criterion': 'gini', 'max_depth': 6, 'max_features': 'auto', 'min_samples_leaf': 1, 'min_samples_split': 2, 'n_estimators': 100}\n"
          ]
        }
      ]
    },
    {
      "cell_type": "markdown",
      "source": [
        "We can use these hyper-parameters to build a better Random Forest model for us. We can see result from above, gini as the best criterion according to the Grid Search, n as 100 trees, min_samples_leaf as 1, samples_spilt as 2, max features kept in auto and max_depth is 6."
      ],
      "metadata": {
        "id": "yf_n7SvK2z3d"
      }
    },
    {
      "cell_type": "code",
      "metadata": {
        "id": "DVFtQ7Cpvfl3",
        "colab": {
          "base_uri": "https://localhost:8080/"
        },
        "outputId": "01c996a2-8a3b-4169-e4ec-743cd7096c2f"
      },
      "source": [
        "best_model = gd_search.best_estimator_\n",
        "print('Best Model: \\n', best_model)"
      ],
      "execution_count": null,
      "outputs": [
        {
          "output_type": "stream",
          "name": "stdout",
          "text": [
            "Best Model: \n",
            " RandomForestClassifier(max_depth=6, n_jobs=-1, oob_score=True, random_state=111)\n"
          ]
        }
      ]
    },
    {
      "cell_type": "code",
      "metadata": {
        "id": "2WqUdb_Mw5ho",
        "colab": {
          "base_uri": "https://localhost:8080/"
        },
        "outputId": "689a5052-567c-4443-ce58-8c55560131a6"
      },
      "source": [
        "best_score = gd_search.best_score_\n",
        "print('Best Score: \\n', best_score)"
      ],
      "execution_count": null,
      "outputs": [
        {
          "output_type": "stream",
          "name": "stdout",
          "text": [
            "Best Score: \n",
            " 0.7799843014128729\n"
          ]
        }
      ]
    },
    {
      "cell_type": "markdown",
      "source": [
        "Surprisingly, the best score we can achive with suggested hyper-parameters, is **~77.99%**, may be tunning of hyper-parameters have shown us the real accuracy of instead of some unreal accuracy if we do not tunne the hyper-parameters."
      ],
      "metadata": {
        "id": "8Et3CLKw3NyN"
      }
    },
    {
      "cell_type": "code",
      "metadata": {
        "id": "UpPET2YIw5ug",
        "colab": {
          "base_uri": "https://localhost:8080/"
        },
        "outputId": "b31971c4-98cc-412b-c37f-d695774d0d53"
      },
      "source": [
        "# Here we build our model based on hyper-parameters suggested after tunning\n",
        "ran_for_cla = RandomForestClassifier(criterion='gini',\n",
        "                                     min_samples_split=2,\n",
        "                                     min_samples_leaf=1,\n",
        "                                     n_estimators= 100,\n",
        "                                     max_features= 'auto',\n",
        "                                     random_state=111,\n",
        "                                     max_depth=6,\n",
        "                                     bootstrap=True,\n",
        "                                     oob_score=True,\n",
        "                                     n_jobs=-1\n",
        "                                    )\n",
        "\n",
        "ran_for_cla.fit(X_train.values, y_train.values)\n"
      ],
      "execution_count": null,
      "outputs": [
        {
          "output_type": "execute_result",
          "data": {
            "text/plain": [
              "RandomForestClassifier(max_depth=6, n_jobs=-1, oob_score=True, random_state=111)"
            ]
          },
          "metadata": {},
          "execution_count": 356
        }
      ]
    },
    {
      "cell_type": "code",
      "metadata": {
        "id": "OBJFJimnw80o"
      },
      "source": [
        "ran_for_cla_pred = ran_for_cla.predict(X_test.values)"
      ],
      "execution_count": null,
      "outputs": []
    },
    {
      "cell_type": "code",
      "metadata": {
        "id": "8u9cjXUtxEII"
      },
      "source": [],
      "execution_count": null,
      "outputs": []
    },
    {
      "cell_type": "markdown",
      "metadata": {
        "id": "YrnOmJA4zUPt"
      },
      "source": [
        "**SVM - Support Vector Machine**"
      ]
    },
    {
      "cell_type": "code",
      "metadata": {
        "id": "Sw9MXkLiw8_3"
      },
      "source": [],
      "execution_count": null,
      "outputs": []
    },
    {
      "cell_type": "code",
      "metadata": {
        "id": "QTH5YDYvzecs"
      },
      "source": [
        "# Creating steps to pass on pipeline\n",
        "steps_svm = [('scaler', StandardScaler()), ('SVM', SVC())]"
      ],
      "execution_count": null,
      "outputs": []
    },
    {
      "cell_type": "code",
      "metadata": {
        "id": "x-UDOy8Dzef0"
      },
      "source": [
        "# Creating pipeline\n",
        "pipeline_svm = Pipeline(steps_svm)"
      ],
      "execution_count": null,
      "outputs": []
    },
    {
      "cell_type": "code",
      "metadata": {
        "id": "YmhQmXQ4zein"
      },
      "source": [
        "# Create the parameters for hyperparameter grid\n",
        "parameters_svm = {'SVM__C':[1, 10, 100],\n",
        "              'SVM__gamma':[0.1, 0.01],\n",
        "              }"
      ],
      "execution_count": null,
      "outputs": []
    },
    {
      "cell_type": "code",
      "metadata": {
        "id": "YY2ChC87zelD"
      },
      "source": [
        "# Creating hyperparameter grid\n",
        "cv_search_svm = GridSearchCV(pipeline_svm, param_grid=parameters_svm, cv=5)"
      ],
      "execution_count": null,
      "outputs": []
    },
    {
      "cell_type": "markdown",
      "source": [
        "It selects from loop which has predefined hyperparameters and fits our Support Vector Machine model on our training set. It helps us to select the best parameters from the listed hyperparameters."
      ],
      "metadata": {
        "id": "0qTfipD42U1i"
      }
    },
    {
      "cell_type": "code",
      "metadata": {
        "colab": {
          "base_uri": "https://localhost:8080/"
        },
        "id": "h8XJfJ-nzenT",
        "outputId": "155c54a5-23b3-49c5-cb1f-a4d63f7ce4c2"
      },
      "source": [
        "cv_search_svm.fit(X_train.values, y_train.values)"
      ],
      "execution_count": null,
      "outputs": [
        {
          "output_type": "execute_result",
          "data": {
            "text/plain": [
              "GridSearchCV(cv=5,\n",
              "             estimator=Pipeline(steps=[('scaler', StandardScaler()),\n",
              "                                       ('SVM', SVC())]),\n",
              "             param_grid={'SVM__C': [1, 10, 100], 'SVM__gamma': [0.1, 0.01]})"
            ]
          },
          "metadata": {},
          "execution_count": 362
        }
      ]
    },
    {
      "cell_type": "code",
      "metadata": {
        "id": "GvQVfZaJzqRF"
      },
      "source": [
        "y_pred_svm = cv_search_svm.predict(X_test.values)"
      ],
      "execution_count": null,
      "outputs": []
    },
    {
      "cell_type": "code",
      "metadata": {
        "id": "hay8YntszqUT",
        "colab": {
          "base_uri": "https://localhost:8080/"
        },
        "outputId": "52211c9f-d3a2-48a6-c7b7-4f8866934aa1"
      },
      "source": [
        "# Best hyperparameter from GridSearch\n",
        "best_hyperparameters = cv_search_svm.best_params_\n",
        "print('Best hyperparameter: \\n',best_hyperparameters)\n",
        "\n"
      ],
      "execution_count": null,
      "outputs": [
        {
          "output_type": "stream",
          "name": "stdout",
          "text": [
            "Best hyperparameter: \n",
            " {'SVM__C': 100, 'SVM__gamma': 0.1}\n"
          ]
        }
      ]
    },
    {
      "cell_type": "markdown",
      "source": [
        "We can use these hyper-parameters to build a better Support Vector Machine model for us. We can see result from above, 0.1 is the best gamma value according to the Grid Search and C being the 100. "
      ],
      "metadata": {
        "id": "0tMA8IIl234S"
      }
    },
    {
      "cell_type": "code",
      "metadata": {
        "id": "peKTZFfRzepw",
        "colab": {
          "base_uri": "https://localhost:8080/"
        },
        "outputId": "f3ed6bdb-f174-41a5-cf6b-e099b1fb3fac"
      },
      "source": [
        "best_model = cv_search_svm.best_estimator_\n",
        "print('Best Model: \\n', best_model)"
      ],
      "execution_count": null,
      "outputs": [
        {
          "output_type": "stream",
          "name": "stdout",
          "text": [
            "Best Model: \n",
            " Pipeline(steps=[('scaler', StandardScaler()), ('SVM', SVC(C=100, gamma=0.1))])\n"
          ]
        }
      ]
    },
    {
      "cell_type": "code",
      "metadata": {
        "id": "Mipb6L6ozer9",
        "colab": {
          "base_uri": "https://localhost:8080/"
        },
        "outputId": "a30d708c-86cc-4419-dd53-174a715dab4d"
      },
      "source": [
        "best_score = cv_search_svm.best_score_\n",
        "print('Best Score: \\n', best_score)"
      ],
      "execution_count": null,
      "outputs": [
        {
          "output_type": "stream",
          "name": "stdout",
          "text": [
            "Best Score: \n",
            " 0.8161695447409733\n"
          ]
        }
      ]
    },
    {
      "cell_type": "markdown",
      "source": [
        "The best score we can achive with suggested hyper-parameters, is **~81.62 %**"
      ],
      "metadata": {
        "id": "jBppG1BDKezs"
      }
    },
    {
      "cell_type": "code",
      "source": [
        "# Here we build our model based on hyper-parameters suggested after tunning\n",
        "svc_model = SVC(C=100, gamma=0.1, probability=True)\n",
        "svc_model.fit(X_train, y_train)"
      ],
      "metadata": {
        "id": "CQSZ-XU9SLrV",
        "colab": {
          "base_uri": "https://localhost:8080/"
        },
        "outputId": "11251ca7-6f13-4b77-d071-15bb2ddb8e0e"
      },
      "execution_count": null,
      "outputs": [
        {
          "output_type": "execute_result",
          "data": {
            "text/plain": [
              "SVC(C=100, gamma=0.1, probability=True)"
            ]
          },
          "metadata": {},
          "execution_count": 367
        }
      ]
    },
    {
      "cell_type": "code",
      "source": [
        "y_pred_svm1 = svc_model.predict(X_test)"
      ],
      "metadata": {
        "id": "2yj6cSKuSNxT"
      },
      "execution_count": null,
      "outputs": []
    },
    {
      "cell_type": "markdown",
      "metadata": {
        "id": "J1oB-4qd1GdG"
      },
      "source": [
        "# Models Evaluation"
      ]
    },
    {
      "cell_type": "markdown",
      "source": [
        "**Logistic Regression--------------------------------**"
      ],
      "metadata": {
        "id": "gbxGcFxbFOGe"
      }
    },
    {
      "cell_type": "code",
      "metadata": {
        "colab": {
          "base_uri": "https://localhost:8080/",
          "height": 720
        },
        "id": "G4WEXV021KQ9",
        "outputId": "42c6a6e5-3dbb-4d26-d2c1-8c1e827eab36"
      },
      "source": [
        "\n",
        "\n",
        "\n",
        "# Compute and print metrics\n",
        "print(\"Logistic Regression-------------------------------------------------------------------------------------------\")\n",
        "\n",
        "print(\"accuracy_score: \", accuracy_score(y_test, y_pred_logreg1))\n",
        "print(classification_report(y_test, y_pred_logreg1))\n",
        "print(\"Tuned Model Best Parameters: {}\".format(cv_search_logreg.best_params_))\n",
        "print(\"Tuned Model Best Score: {}\".format(cv_search_logreg.best_score_))\n",
        "\n",
        "\n",
        "# Confusion matrix for SVM\n",
        "cm_lr = confusion_matrix(y_test, y_pred_logreg1)\n",
        "print(cm_lr)\n",
        "plt.figure(figsize=(10,7))\n",
        "sn.heatmap(cm_lr, annot=True)\n",
        "plt.xlabel('Predicted')\n",
        "plt.ylabel('Truth')\n",
        "\n",
        "\n",
        "\n"
      ],
      "execution_count": null,
      "outputs": [
        {
          "output_type": "stream",
          "name": "stdout",
          "text": [
            "Logistic Regression-------------------------------------------------------------------------------------------\n",
            "accuracy_score:  0.6905210295040803\n",
            "              precision    recall  f1-score   support\n",
            "\n",
            "           0       0.70      0.70      0.70      1633\n",
            "           1       0.69      0.68      0.68      1553\n",
            "\n",
            "    accuracy                           0.69      3186\n",
            "   macro avg       0.69      0.69      0.69      3186\n",
            "weighted avg       0.69      0.69      0.69      3186\n",
            "\n",
            "Tuned Model Best Parameters: {'logistic__C': 0.05179474679231213}\n",
            "Tuned Model Best Score: 0.7017268445839874\n",
            "[[1151  482]\n",
            " [ 504 1049]]\n"
          ]
        },
        {
          "output_type": "execute_result",
          "data": {
            "text/plain": [
              "Text(69.0, 0.5, 'Truth')"
            ]
          },
          "metadata": {},
          "execution_count": 369
        },
        {
          "output_type": "display_data",
          "data": {
            "image/png": "[encoded data removed]",
            "text/plain": [
              "<Figure size 720x504 with 2 Axes>"
            ]
          },
          "metadata": {
            "needs_background": "light"
          }
        }
      ]
    },
    {
      "cell_type": "code",
      "source": [
        "# Import necessary modules\n",
        "from sklearn import metrics\n",
        "# Compute predicted probabilities: y_pred_prob\n",
        "y_pred_prob_lr = logr_model.predict_proba(X_test)[:,1]\n",
        "# Generate ROC curve values: fpr, tpr, thresholds\n",
        "fpr_lr, tpr_lr, thresholds_lr = roc_curve(y_test, y_pred_prob_lr)\n",
        "\n",
        "\n",
        "roc_auc_lr = metrics.auc(fpr_lr, tpr_lr)\n",
        " \n",
        "plt.title('Receiver Operating Characteristic')\n",
        "plt.plot(fpr_lr, tpr_lr, 'b', label = 'AUC = %0.2f' % roc_auc_lr)\n",
        "plt.legend(loc = 'lower right')\n",
        "plt.plot([0, 1], [0, 1],'r--')\n",
        "plt.xlim([0, 1])\n",
        "plt.ylim([0, 1])\n",
        "plt.ylabel('True Positive Rate')\n",
        "plt.xlabel('False Positive Rate')\n",
        "plt.show()\n"
      ],
      "metadata": {
        "colab": {
          "base_uri": "https://localhost:8080/",
          "height": 295
        },
        "id": "hnuiPFGUBDhN",
        "outputId": "f41e1fff-4815-44b3-e1fa-ed074327baae"
      },
      "execution_count": null,
      "outputs": [
        {
          "output_type": "display_data",
          "data": {
            "image/png": "[encoded data removed]",
            "text/plain": [
              "<Figure size 432x288 with 1 Axes>"
            ]
          },
          "metadata": {
            "needs_background": "light"
          }
        }
      ]
    },
    {
      "cell_type": "code",
      "source": [],
      "metadata": {
        "id": "lrFvoeFXBEAO"
      },
      "execution_count": null,
      "outputs": []
    },
    {
      "cell_type": "markdown",
      "source": [
        "**Random Forest Classifier------------------------------**"
      ],
      "metadata": {
        "id": "sZbtwjoXFXMB"
      }
    },
    {
      "cell_type": "code",
      "metadata": {
        "id": "DVC3WAJ11KZJ",
        "colab": {
          "base_uri": "https://localhost:8080/",
          "height": 1000
        },
        "outputId": "d4d64339-6dc5-40eb-92b4-e6db949bfa12"
      },
      "source": [
        "\n",
        "\n",
        "# Compute and print metrics\n",
        "print(\"Random Forest Classifier-------------------------------------------------------------------------------------------\")\n",
        "\n",
        "print(\"accuracy_score: \", accuracy_score(y_test, ran_for_cla_pred))\n",
        "print(classification_report(y_test, ran_for_cla_pred))\n",
        "\n",
        "oob_score = ran_for_cla.oob_score_\n",
        "print(\"OOB score: \\n\", oob_score)\n",
        "\n",
        "important_features = ran_for_cla.feature_importances_\n",
        "print(important_features)\n",
        "\n",
        "\n",
        "# Create a pd.Series of features importances\n",
        "importances = pd.Series(data=important_features,\n",
        "                        )\n",
        "\n",
        "# Sort importances\n",
        "importances_sorted = importances.sort_values()\n",
        "\n",
        "# Draw a horizontal barplot of importances_sorted\n",
        "importances_sorted.plot.barh()\n",
        "plt.title('Features Importances')\n",
        "plt.show()\n",
        "\n",
        "#We can See above that important variable are soreted in order.\n",
        "\n",
        "\n",
        "\n",
        "# Confusion matrix for SVM\n",
        "cm_rfc = confusion_matrix(y_test, ran_for_cla_pred)\n",
        "print(cm_rfc)\n",
        "plt.figure(figsize=(10,7))\n",
        "sn.heatmap(cm_rfc, annot=True)\n",
        "plt.xlabel('Predicted')\n",
        "plt.ylabel('Truth')\n"
      ],
      "execution_count": null,
      "outputs": [
        {
          "output_type": "stream",
          "name": "stdout",
          "text": [
            "Random Forest Classifier-------------------------------------------------------------------------------------------\n",
            "accuracy_score:  0.7671060891399875\n",
            "              precision    recall  f1-score   support\n",
            "\n",
            "           0       0.77      0.77      0.77      1633\n",
            "           1       0.76      0.76      0.76      1553\n",
            "\n",
            "    accuracy                           0.77      3186\n",
            "   macro avg       0.77      0.77      0.77      3186\n",
            "weighted avg       0.77      0.77      0.77      3186\n",
            "\n",
            "OOB score: \n",
            " 0.7754317111459968\n",
            "[0.02374817 0.44447909 0.00886563 0.07062061 0.30624895 0.01902306\n",
            " 0.07143379 0.01284272 0.00561586 0.0180177  0.01910442]\n"
          ]
        },
        {
          "output_type": "display_data",
          "data": {
            "image/png": "[encoded data removed]",
            "text/plain": [
              "<Figure size 432x288 with 1 Axes>"
            ]
          },
          "metadata": {
            "needs_background": "light"
          }
        },
        {
          "output_type": "stream",
          "name": "stdout",
          "text": [
            "[[1263  370]\n",
            " [ 372 1181]]\n"
          ]
        },
        {
          "output_type": "execute_result",
          "data": {
            "text/plain": [
              "Text(69.0, 0.5, 'Truth')"
            ]
          },
          "metadata": {},
          "execution_count": 371
        },
        {
          "output_type": "display_data",
          "data": {
            "image/png": "[encoded data removed]",
            "text/plain": [
              "<Figure size 720x504 with 2 Axes>"
            ]
          },
          "metadata": {
            "needs_background": "light"
          }
        }
      ]
    },
    {
      "cell_type": "code",
      "source": [
        "\n",
        "# from sklearn.metrics import roc_curve\n",
        "# Compute predicted probabilities: y_pred_prob\n",
        "y_pred_prob_rfc = ran_for_cla.predict_proba(X_test)[:,1]\n",
        "# Generate ROC curve values: fpr, tpr, thresholds\n",
        "fpr_rfc, tpr_rfc, thresholds_rfc = roc_curve(y_test, y_pred_prob_rfc)\n",
        "\n",
        "roc_auc_rfc = metrics.auc(fpr_rfc, tpr_rfc)\n",
        " \n",
        "plt.title('Receiver Operating Characteristic')\n",
        "plt.plot(fpr_rfc, tpr_rfc, 'b', label = 'AUC = %0.2f' % roc_auc_rfc)\n",
        "plt.legend(loc = 'lower right')\n",
        "plt.plot([0, 1], [0, 1],'r--')\n",
        "plt.xlim([0, 1])\n",
        "plt.ylim([0, 1])\n",
        "plt.ylabel('True Positive Rate')\n",
        "plt.xlabel('False Positive Rate')\n",
        "plt.show()\n"
      ],
      "metadata": {
        "colab": {
          "base_uri": "https://localhost:8080/",
          "height": 330
        },
        "id": "qVcS3rJ2Bam6",
        "outputId": "a6a28b67-5447-4a12-c22a-63af77d1bfa6"
      },
      "execution_count": null,
      "outputs": [
        {
          "output_type": "stream",
          "name": "stderr",
          "text": [
            "/usr/local/lib/python3.7/dist-packages/sklearn/base.py:439: UserWarning: X has feature names, but RandomForestClassifier was fitted without feature names\n",
            "  f\"X has feature names, but {self.__class__.__name__} was fitted without\"\n"
          ]
        },
        {
          "output_type": "display_data",
          "data": {
            "image/png": "[encoded data removed]",
            "text/plain": [
              "<Figure size 432x288 with 1 Axes>"
            ]
          },
          "metadata": {
            "needs_background": "light"
          }
        }
      ]
    },
    {
      "cell_type": "markdown",
      "source": [
        "**SVM---------------------------**"
      ],
      "metadata": {
        "id": "H8h-xjdZFdNy"
      }
    },
    {
      "cell_type": "code",
      "metadata": {
        "colab": {
          "base_uri": "https://localhost:8080/",
          "height": 720
        },
        "id": "0e6oV1qv1Kb_",
        "outputId": "60e093e7-bb85-42dd-b8e8-f2eaece666ec"
      },
      "source": [
        "\n",
        "\n",
        "# Compute and print metrics\n",
        "print(\"SVM-------------------------------------------------------------------------------------------\")\n",
        "\n",
        "print(\"accuracy_score: \", accuracy_score(y_test, y_pred_svm1))\n",
        "print(classification_report(y_test, y_pred_svm1))\n",
        "print(\"Tuned Model Best Parameters: {}\".format(cv_search_svm.best_params_))\n",
        "print(\"Tuned Model Best Score: {}\".format(cv_search_svm.best_score_))\n",
        "# svm_ImpFeat = pd.Series(abs(svc_model.coef_[0]), index=features.columns)\n",
        "# svm_ImpFeat.nlargest(10).plot(kind='barh')\n",
        "\n",
        "\n",
        "# Confusion matrix for SVM\n",
        "cm_svm = confusion_matrix(y_test, y_pred_svm1)\n",
        "print(cm_svm)\n",
        "plt.figure(figsize=(10,7))\n",
        "sn.heatmap(cm_svm, annot=True)\n",
        "plt.xlabel('Predicted')\n",
        "plt.ylabel('Truth')"
      ],
      "execution_count": null,
      "outputs": [
        {
          "output_type": "stream",
          "name": "stdout",
          "text": [
            "SVM-------------------------------------------------------------------------------------------\n",
            "accuracy_score:  0.8160703075957313\n",
            "              precision    recall  f1-score   support\n",
            "\n",
            "           0       0.84      0.79      0.81      1633\n",
            "           1       0.79      0.84      0.82      1553\n",
            "\n",
            "    accuracy                           0.82      3186\n",
            "   macro avg       0.82      0.82      0.82      3186\n",
            "weighted avg       0.82      0.82      0.82      3186\n",
            "\n",
            "Tuned Model Best Parameters: {'SVM__C': 100, 'SVM__gamma': 0.1}\n",
            "Tuned Model Best Score: 0.8161695447409733\n",
            "[[1288  345]\n",
            " [ 241 1312]]\n"
          ]
        },
        {
          "output_type": "execute_result",
          "data": {
            "text/plain": [
              "Text(69.0, 0.5, 'Truth')"
            ]
          },
          "metadata": {},
          "execution_count": 373
        },
        {
          "output_type": "display_data",
          "data": {
            "image/png": "[encoded data removed]",
            "text/plain": [
              "<Figure size 720x504 with 2 Axes>"
            ]
          },
          "metadata": {
            "needs_background": "light"
          }
        }
      ]
    },
    {
      "cell_type": "code",
      "metadata": {
        "id": "q_6TQjF02HaR",
        "colab": {
          "base_uri": "https://localhost:8080/",
          "height": 295
        },
        "outputId": "ad217480-4d9a-4f1b-fa63-9a79e1fd85d0"
      },
      "source": [
        "\n",
        "# from sklearn.metrics import roc_curve\n",
        "# Compute predicted probabilities: y_pred_prob\n",
        "y_pred_prob_svm = svc_model.predict_proba(X_test)[:,1]\n",
        "# Generate ROC curve values: fpr, tpr, thresholds\n",
        "fpr_svm, tpr_svm, thresholds_svm = roc_curve(y_test, y_pred_prob_svm)\n",
        "\n",
        "roc_auc_svm = metrics.auc(fpr_svm, tpr_svm)\n",
        " \n",
        "plt.title('Receiver Operating Characteristic')\n",
        "plt.plot(fpr_svm, tpr_svm, 'b', label = 'AUC = %0.2f' % roc_auc_svm)\n",
        "plt.legend(loc = 'lower right')\n",
        "plt.plot([0, 1], [0, 1],'r--')\n",
        "plt.xlim([0, 1])\n",
        "plt.ylim([0, 1])\n",
        "plt.ylabel('True Positive Rate')\n",
        "plt.xlabel('False Positive Rate')\n",
        "plt.show()\n"
      ],
      "execution_count": null,
      "outputs": [
        {
          "output_type": "display_data",
          "data": {
            "image/png": "[encoded data removed]",
            "text/plain": [
              "<Figure size 432x288 with 1 Axes>"
            ]
          },
          "metadata": {
            "needs_background": "light"
          }
        }
      ]
    },
    {
      "cell_type": "code",
      "metadata": {
        "id": "rtN6AGFH2HdC"
      },
      "source": [],
      "execution_count": null,
      "outputs": []
    },
    {
      "cell_type": "code",
      "source": [
        "print('LR: ',cm_lr)\n",
        "print('Random Forest: ', cm_rfc)\n",
        "print('SVM: ', cm_svm)"
      ],
      "metadata": {
        "colab": {
          "base_uri": "https://localhost:8080/"
        },
        "id": "ckcIyOL1ZLLu",
        "outputId": "f8adeabc-74e1-4f19-e2b2-d8627dc29df9"
      },
      "execution_count": null,
      "outputs": [
        {
          "output_type": "stream",
          "name": "stdout",
          "text": [
            "LR:  [[1151  482]\n",
            " [ 504 1049]]\n",
            "Random Forest:  [[1263  370]\n",
            " [ 372 1181]]\n",
            "SVM:  [[1288  345]\n",
            " [ 241 1312]]\n"
          ]
        }
      ]
    },
    {
      "cell_type": "markdown",
      "source": [
        "**The True Positives (TPs)** are those values that were correctly predicted. They are values where both the class value and the predicted class value are positive. \n",
        "\n",
        "\n",
        "**Negative Values (TN)**:These are values that have been correctly predicted as negative.\n",
        "\n",
        "\n",
        "**False Positives (FP)** — When actual class is no and predicted class is yes.\n",
        "\n",
        "**False Negatives (FN)** — When actual class is yes but predicted class in no.\n",
        "\n",
        "\n",
        "*SVM seems to have better True-Positvive and True-Negative rate compared to Logistic regression and Random Forest model. SVM also have lower False-positive and False-Negative as compared to other models.*"
      ],
      "metadata": {
        "id": "4Wm6dnnYZbmO"
      }
    },
    {
      "cell_type": "code",
      "source": [],
      "metadata": {
        "id": "q1nfH91rYGS7"
      },
      "execution_count": null,
      "outputs": []
    },
    {
      "cell_type": "markdown",
      "source": [
        "# Accuracy and ROC Summary"
      ],
      "metadata": {
        "id": "9tJn6-s4YIl0"
      }
    },
    {
      "cell_type": "markdown",
      "source": [],
      "metadata": {
        "id": "LfhBaa2iYTBB"
      }
    },
    {
      "cell_type": "code",
      "source": [
        "print(\"accuracy_score: \", accuracy_score(y_test, y_pred_logreg1))\n",
        "print(\"accuracy_score: \", accuracy_score(y_test, ran_for_cla_pred))\n",
        "print(\"accuracy_score: \", accuracy_score(y_test, y_pred_svm1))"
      ],
      "metadata": {
        "colab": {
          "base_uri": "https://localhost:8080/"
        },
        "id": "rtQTssb_ST88",
        "outputId": "8c9b123d-b224-491b-fad8-cee4bab3f5eb"
      },
      "execution_count": null,
      "outputs": [
        {
          "output_type": "stream",
          "name": "stdout",
          "text": [
            "accuracy_score:  0.6905210295040803\n",
            "accuracy_score:  0.7671060891399875\n",
            "accuracy_score:  0.8160703075957313\n"
          ]
        }
      ]
    },
    {
      "cell_type": "markdown",
      "source": [
        "* After the anlysis of bank data using three models (Logistic, Random Forest, SVM), we found that SVM has the best accuracy and it will able predict the churn rate with accuracy of ~81.60%.\n"
      ],
      "metadata": {
        "id": "4lNzAxuGV0-B"
      }
    },
    {
      "cell_type": "code",
      "source": [
        "\n",
        "fpr_lr, tpr_lr, _ = roc_curve(y_test, y_pred_prob_lr)\n",
        "fpr_rfc, tpr_rfc, _ = roc_curve(y_test, y_pred_prob_rfc)\n",
        "fpr_svm, tpr_svm, _ = roc_curve(y_test, y_pred_prob_svm) \n",
        "\n",
        "# Plot the roc curve\n",
        "plt.figure(figsize = (12,6), linewidth= 1)\n",
        "\n",
        "plt.plot(fpr_lr, tpr_lr, label = 'Logistic Reg. score: ' + str(round(roc_auc_lr, 5)))\n",
        "plt.plot(fpr_rfc, tpr_rfc, label = 'Random For. Score: ' + str(round(roc_auc_rfc, 5)))\n",
        "plt.plot(fpr_svm, tpr_svm, label = 'SVM Score: ' + str(round(roc_auc_svm, 5)))\n",
        "\n",
        "\n",
        "\n",
        "\n",
        "plt.plot([0,1], [0,1], 'k--', label = 'Random guessing: 0.5') \n",
        "plt.xlabel('False positive rate') \n",
        "plt.ylabel('True positive rate') \n",
        "plt.title('ROC Curve ') \n",
        "plt.legend(loc='best') \n",
        "plt.show()\n",
        "\n"
      ],
      "metadata": {
        "colab": {
          "base_uri": "https://localhost:8080/",
          "height": 404
        },
        "id": "tMeQlpRBST_j",
        "outputId": "9ad03006-9faa-4f07-fd60-9e7d31dd15e0"
      },
      "execution_count": null,
      "outputs": [
        {
          "output_type": "display_data",
          "data": {
            "image/png": "[encoded data removed]",
            "text/plain": [
              "<Figure size 864x432 with 1 Axes>"
            ]
          },
          "metadata": {
            "needs_background": "light"
          }
        }
      ]
    },
    {
      "cell_type": "markdown",
      "source": [
        "* ROC - how the model performs\n",
        "compared to a random guess which is like a linear straight line\n",
        "\n",
        "* AUC score validates that the model is actually learning as compared to random guesses.\n",
        "\n",
        "The area under the ROC curve (AUC) results were considered excellent for AUC values between 0.9-1, good for AUC values between 0.8-0.9, fair for AUC values between 0.7-0.8, poor for AUC values between 0.6-0.7 and failed for AUC values between 0.5-0.6.\n",
        "\n"
      ],
      "metadata": {
        "id": "u1azbzgHWn_r"
      }
    },
    {
      "cell_type": "markdown",
      "source": [
        "Initially, Random Forest Model was performing better but as we tunned all the models, we found out that SVM perform better.  "
      ],
      "metadata": {
        "id": "IQrLUggOXQgR"
      }
    },
    {
      "cell_type": "code",
      "source": [],
      "metadata": {
        "id": "JUmV2OFoSUCP"
      },
      "execution_count": null,
      "outputs": []
    },
    {
      "cell_type": "markdown",
      "source": [
        "# Conclusion"
      ],
      "metadata": {
        "id": "xYA5NkH-hlEf"
      }
    },
    {
      "cell_type": "markdown",
      "source": [
        "Follwing are the most important reasons of customers churning from the bank-\n",
        "* We found that customer with \"Age\" and \"Number of Product\" variable player very imporatant role finding the reasons for people to churn.\n",
        "* Customers in Germany are more inclined than those in France and Spain to leave the bank. \n",
        "* Consumers that stayed had smaller balances than the customers who left the bank, which is noteworthy.\n",
        "* People with credit card (HasCrCard) left the bank.\n",
        "\n",
        "In conclusion, SVM model can predict this with around 81% accuracy and better ROC with AUC of 0.88. "
      ],
      "metadata": {
        "id": "Od_xV1n6h8fo"
      }
    },
    {
      "cell_type": "code",
      "metadata": {
        "id": "Li9SfvcSxtYM"
      },
      "source": [],
      "execution_count": null,
      "outputs": []
    }
  ]
}