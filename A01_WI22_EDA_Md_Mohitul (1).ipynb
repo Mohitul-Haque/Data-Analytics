{
  "nbformat": 4,
  "nbformat_minor": 0,
  "metadata": {
    "colab": {
      "provenance": []
    },
    "kernelspec": {
      "name": "python3",
      "display_name": "Python 3"
    },
    "language_info": {
      "name": "python"
    }
  },
  "cells": [
    {
      "cell_type": "markdown",
      "source": [
        "## NumPy\n",
        "Answer the following questions"
      ],
      "metadata": {
        "id": "alCY-wHQdfGZ"
      }
    },
    {
      "cell_type": "markdown",
      "source": [
        "### Create an Array\n",
        "1. Create a 4X2 integer array and print its attributes.\n",
        "\n",
        "  The element must be a type of unsigned int16"
      ],
      "metadata": {
        "id": "4Zv_XnnpdrLF"
      }
    },
    {
      "cell_type": "code",
      "execution_count": null,
      "metadata": {
        "id": "sY3XRkrGdKi8",
        "colab": {
          "base_uri": "https://localhost:8080/"
        },
        "outputId": "0530acfb-129e-45d3-dc20-255ef57d9237"
      },
      "outputs": [
        {
          "output_type": "stream",
          "name": "stdout",
          "text": [
            "Print Array\n",
            "[[61312 54953]\n",
            " [22022     0]\n",
            " [    0     0]\n",
            " [    0     0]]\n",
            "Printing numpy array Attributes\n",
            "Array Shape is:  (4, 2)\n",
            "Array dimensions are  2\n",
            "Length of each element of array in bytes is  2\n"
          ]
        }
      ],
      "source": [
        "import numpy\n",
        "\n",
        "Array01 = numpy.empty([4,2], dtype = numpy.uint16) \n",
        "print(\"Print Array\")\n",
        "print(Array01)\n",
        "\n",
        "print(\"Printing numpy array Attributes\")\n",
        "print(\"Array Shape is: \", Array01.shape)\n",
        "print(\"Array dimensions are \", Array01.ndim)\n",
        "print(\"Length of each element of array in bytes is \", Array01.itemsize)"
      ]
    },
    {
      "cell_type": "markdown",
      "source": [
        "### Slice an Array\n",
        "\n",
        "2. Create a 5 rows by 4 columns numpy array of random float32 numbers and extract an array of odd rows and even columns from the numpy array."
      ],
      "metadata": {
        "id": "AJ8KQTJtdsof"
      }
    },
    {
      "cell_type": "code",
      "source": [
        "import numpy\n",
        "\n",
        "Array02 = numpy.empty([5,4], dtype = numpy.float32) \n",
        "print(\"Print Array\")\n",
        "print(Array02)\n",
        "\n",
        "print(\"\\n Printing array of odd rows and even columns\")\n",
        "newArray = Array02[::2, 1::2]\n",
        "print(newArray)"
      ],
      "metadata": {
        "id": "Wi6iWHyudeJ8",
        "colab": {
          "base_uri": "https://localhost:8080/"
        },
        "outputId": "e130edbd-1358-40e1-89d8-ad94240d7523"
      },
      "execution_count": null,
      "outputs": [
        {
          "output_type": "stream",
          "name": "stdout",
          "text": [
            "Print Array\n",
            "[[-7.2955281e+14  3.0859395e-41  2.8025969e-45  2.3822074e-44]\n",
            " [ 3.9236357e-44  0.0000000e+00 -7.2955066e+14  3.0859395e-41]\n",
            " [ 0.0000000e+00  0.0000000e+00  0.0000000e+00  0.0000000e+00]\n",
            " [ 1.4012985e-44  0.0000000e+00  0.0000000e+00  0.0000000e+00]\n",
            " [ 0.0000000e+00  0.0000000e+00  0.0000000e+00  0.0000000e+00]]\n",
            "\n",
            " Printing array of odd rows and even columns\n",
            "[[3.086e-41 2.382e-44]\n",
            " [0.000e+00 0.000e+00]\n",
            " [0.000e+00 0.000e+00]]\n"
          ]
        }
      ]
    },
    {
      "cell_type": "markdown",
      "source": [
        "### 2D Array Manipulation\n",
        "\n",
        "3. Create a two dimensional array of dimension 4 rows by 5 columns with random integers and replace all the values of the second column of the array with value 5."
      ],
      "metadata": {
        "id": "UhUdiPqpd8Ny"
      }
    },
    {
      "cell_type": "code",
      "source": [
        "import numpy as np\n",
        "\n",
        "arr=np.random.randint(100, size=20)\n",
        "arr_2d=arr.reshape(4,5)    #Reshapes 1d array in to 2d, containing 4 rows and 5 columns.\n",
        "print(arr_2d)\n",
        "\n",
        "# replace all the values of the second column of the array with value 5\n",
        "arr_2d[:, 1] =  5\n",
        "print(arr_2d)"
      ],
      "metadata": {
        "id": "Q7B1gc2XeB3g",
        "colab": {
          "base_uri": "https://localhost:8080/"
        },
        "outputId": "43dd7cc2-c8a4-4cf8-d458-d6a01ea5c3e1"
      },
      "execution_count": null,
      "outputs": [
        {
          "output_type": "stream",
          "name": "stdout",
          "text": [
            "[[49 37 82 35 50]\n",
            " [27 93  9 16  5]\n",
            " [90 46 31  7 17]\n",
            " [10 47 82  5 31]]\n",
            "[[49  5 82 35 50]\n",
            " [27  5  9 16  5]\n",
            " [90  5 31  7 17]\n",
            " [10  5 82  5 31]]\n"
          ]
        }
      ]
    },
    {
      "cell_type": "markdown",
      "source": [
        "Array Operations\n",
        "\n",
        "4. Add two numpy arrays of random int16 values and take square of each of the element of the resulting array."
      ],
      "metadata": {
        "id": "DiukrlhSeCB6"
      }
    },
    {
      "cell_type": "code",
      "source": [
        "arr1=np.random.randint(1000,size=2, dtype=np.int)\n",
        "print(arr1)\n",
        "\n",
        "arr2=np.random.randint(1000,size=2, dtype=np.int)\n",
        "print(arr2)\n",
        "\n",
        "arr3= (arr1+arr2)**2\n",
        "print(arr3)"
      ],
      "metadata": {
        "id": "pTKe71MshF4_",
        "colab": {
          "base_uri": "https://localhost:8080/"
        },
        "outputId": "808cb40a-11e1-4766-c21b-34629c47849c"
      },
      "execution_count": null,
      "outputs": [
        {
          "output_type": "stream",
          "name": "stdout",
          "text": [
            "[711 931]\n",
            "[229 752]\n",
            "[ 883600 2832489]\n"
          ]
        }
      ]
    },
    {
      "cell_type": "markdown",
      "source": [
        "### Array of Random Numbers\n",
        "\n",
        "5. Generate two numpy lists of 20 random integers each. Create a new numpy list containing odd numbers from the first list and even numbers from the second list."
      ],
      "metadata": {
        "id": "oRk-W78ehGOU"
      }
    },
    {
      "cell_type": "code",
      "source": [
        "list1=list(np.random.randint(100, size=20))\n",
        "print(list1)\n",
        "\n",
        "list2=list(np.random.randint(100, size=20))\n",
        "print(list2)\n",
        "\n",
        "# get Even numbers from list2 using Lambda function\n",
        "\n",
        "even_numbers = list(filter(lambda x: x % 2 == 0,list2))\n",
        "print(\"Total Even numbers in the list2: \", even_numbers)\n",
        "\n",
        "\n",
        "# get Odd numbers from list1 using Lambda function\n",
        "\n",
        "odd_numbers = list(filter(lambda x: x % 2 == 1,list1))\n",
        "print(\"Total Odd numbers in the list1: \", odd_numbers)\n",
        "\n",
        "\n",
        "new_list= odd_numbers + even_numbers\n",
        "print(new_list)"
      ],
      "metadata": {
        "id": "rM8tfh5yhGf-",
        "colab": {
          "base_uri": "https://localhost:8080/"
        },
        "outputId": "fe20e00b-a27d-4ba7-e563-4da2f7528b28"
      },
      "execution_count": null,
      "outputs": [
        {
          "output_type": "stream",
          "name": "stdout",
          "text": [
            "[8, 65, 35, 55, 0, 56, 53, 49, 49, 40, 59, 35, 87, 60, 36, 30, 65, 81, 34, 50]\n",
            "[5, 0, 57, 35, 26, 41, 95, 74, 81, 30, 10, 4, 55, 73, 73, 21, 91, 89, 27, 32]\n",
            "Total Even numbers in the list2:  [0, 26, 74, 30, 10, 4, 32]\n",
            "Total Odd numbers in the list1:  [65, 35, 55, 53, 49, 49, 59, 35, 87, 65, 81]\n",
            "[65, 35, 55, 53, 49, 49, 59, 35, 87, 65, 81, 0, 26, 74, 30, 10, 4, 32]\n"
          ]
        }
      ]
    },
    {
      "cell_type": "markdown",
      "source": [
        "# Data Manipulation using Pandas\n",
        "\n",
        "\n",
        "We will use the dataset from https://archive.ics.uci.edu/ml/datasets/bank+marketing for this assignment. \n",
        "\n",
        "You will click on the data folder link to download bank.zip file."
      ],
      "metadata": {
        "id": "Y67lZsq8exlN"
      }
    },
    {
      "cell_type": "markdown",
      "source": [
        "### Data IO\n",
        "a. Unzip the **bank.zip** file.\n",
        "\n",
        "b. Upload **bank.csv** on github.\n",
        "\n",
        "c. Import the file using url on github in a DataFrame named **bank**.\n",
        "\n",
        "d. Note that the delimiter is a semi-colon and not comma."
      ],
      "metadata": {
        "id": "naoVY3n_eakQ"
      }
    },
    {
      "cell_type": "code",
      "source": [
        "import pandas as pd\n",
        "\n",
        "bank = pd.read_csv('https://raw.githubusercontent.com/Mohitul-Haque/Assignment01/main/bank.csv', sep=';')\n",
        "bank.head()"
      ],
      "metadata": {
        "id": "DcclZ5eOgFSe",
        "colab": {
          "base_uri": "https://localhost:8080/",
          "height": 270
        },
        "outputId": "df5ed7a4-cec9-42d9-d16a-a1f14dbaecb0"
      },
      "execution_count": null,
      "outputs": [
        {
          "output_type": "execute_result",
          "data": {
            "text/html": [
              "\n",
              "  <div id=\"df-5caf6384-15d9-4868-a96f-36e54185f394\">\n",
              "    <div class=\"colab-df-container\">\n",
              "      <div>\n",
              "<style scoped>\n",
              "    .dataframe tbody tr th:only-of-type {\n",
              "        vertical-align: middle;\n",
              "    }\n",
              "\n",
              "    .dataframe tbody tr th {\n",
              "        vertical-align: top;\n",
              "    }\n",
              "\n",
              "    .dataframe thead th {\n",
              "        text-align: right;\n",
              "    }\n",
              "</style>\n",
              "<table border=\"1\" class=\"dataframe\">\n",
              "  <thead>\n",
              "    <tr style=\"text-align: right;\">\n",
              "      <th></th>\n",
              "      <th>age</th>\n",
              "      <th>job</th>\n",
              "      <th>marital</th>\n",
              "      <th>education</th>\n",
              "      <th>default</th>\n",
              "      <th>balance</th>\n",
              "      <th>housing</th>\n",
              "      <th>loan</th>\n",
              "      <th>contact</th>\n",
              "      <th>day</th>\n",
              "      <th>month</th>\n",
              "      <th>duration</th>\n",
              "      <th>campaign</th>\n",
              "      <th>pdays</th>\n",
              "      <th>previous</th>\n",
              "      <th>poutcome</th>\n",
              "      <th>y</th>\n",
              "    </tr>\n",
              "  </thead>\n",
              "  <tbody>\n",
              "    <tr>\n",
              "      <th>0</th>\n",
              "      <td>30</td>\n",
              "      <td>unemployed</td>\n",
              "      <td>married</td>\n",
              "      <td>primary</td>\n",
              "      <td>no</td>\n",
              "      <td>1787</td>\n",
              "      <td>no</td>\n",
              "      <td>no</td>\n",
              "      <td>cellular</td>\n",
              "      <td>19</td>\n",
              "      <td>oct</td>\n",
              "      <td>79</td>\n",
              "      <td>1</td>\n",
              "      <td>-1</td>\n",
              "      <td>0</td>\n",
              "      <td>unknown</td>\n",
              "      <td>no</td>\n",
              "    </tr>\n",
              "    <tr>\n",
              "      <th>1</th>\n",
              "      <td>33</td>\n",
              "      <td>services</td>\n",
              "      <td>married</td>\n",
              "      <td>secondary</td>\n",
              "      <td>no</td>\n",
              "      <td>4789</td>\n",
              "      <td>yes</td>\n",
              "      <td>yes</td>\n",
              "      <td>cellular</td>\n",
              "      <td>11</td>\n",
              "      <td>may</td>\n",
              "      <td>220</td>\n",
              "      <td>1</td>\n",
              "      <td>339</td>\n",
              "      <td>4</td>\n",
              "      <td>failure</td>\n",
              "      <td>no</td>\n",
              "    </tr>\n",
              "    <tr>\n",
              "      <th>2</th>\n",
              "      <td>35</td>\n",
              "      <td>management</td>\n",
              "      <td>single</td>\n",
              "      <td>tertiary</td>\n",
              "      <td>no</td>\n",
              "      <td>1350</td>\n",
              "      <td>yes</td>\n",
              "      <td>no</td>\n",
              "      <td>cellular</td>\n",
              "      <td>16</td>\n",
              "      <td>apr</td>\n",
              "      <td>185</td>\n",
              "      <td>1</td>\n",
              "      <td>330</td>\n",
              "      <td>1</td>\n",
              "      <td>failure</td>\n",
              "      <td>no</td>\n",
              "    </tr>\n",
              "    <tr>\n",
              "      <th>3</th>\n",
              "      <td>30</td>\n",
              "      <td>management</td>\n",
              "      <td>married</td>\n",
              "      <td>tertiary</td>\n",
              "      <td>no</td>\n",
              "      <td>1476</td>\n",
              "      <td>yes</td>\n",
              "      <td>yes</td>\n",
              "      <td>unknown</td>\n",
              "      <td>3</td>\n",
              "      <td>jun</td>\n",
              "      <td>199</td>\n",
              "      <td>4</td>\n",
              "      <td>-1</td>\n",
              "      <td>0</td>\n",
              "      <td>unknown</td>\n",
              "      <td>no</td>\n",
              "    </tr>\n",
              "    <tr>\n",
              "      <th>4</th>\n",
              "      <td>59</td>\n",
              "      <td>blue-collar</td>\n",
              "      <td>married</td>\n",
              "      <td>secondary</td>\n",
              "      <td>no</td>\n",
              "      <td>0</td>\n",
              "      <td>yes</td>\n",
              "      <td>no</td>\n",
              "      <td>unknown</td>\n",
              "      <td>5</td>\n",
              "      <td>may</td>\n",
              "      <td>226</td>\n",
              "      <td>1</td>\n",
              "      <td>-1</td>\n",
              "      <td>0</td>\n",
              "      <td>unknown</td>\n",
              "      <td>no</td>\n",
              "    </tr>\n",
              "  </tbody>\n",
              "</table>\n",
              "</div>\n",
              "      <button class=\"colab-df-convert\" onclick=\"convertToInteractive('df-5caf6384-15d9-4868-a96f-36e54185f394')\"\n",
              "              title=\"Convert this dataframe to an interactive table.\"\n",
              "              style=\"display:none;\">\n",
              "        \n",
              "  <svg xmlns=\"http://www.w3.org/2000/svg\" height=\"24px\"viewBox=\"0 0 24 24\"\n",
              "       width=\"24px\">\n",
              "    <path d=\"M0 0h24v24H0V0z\" fill=\"none\"/>\n",
              "    <path d=\"M18.56 5.44l.94 2.06.94-2.06 2.06-.94-2.06-.94-.94-2.06-.94 2.06-2.06.94zm-11 1L8.5 8.5l.94-2.06 2.06-.94-2.06-.94L8.5 2.5l-.94 2.06-2.06.94zm10 10l.94 2.06.94-2.06 2.06-.94-2.06-.94-.94-2.06-.94 2.06-2.06.94z\"/><path d=\"M17.41 7.96l-1.37-1.37c-.4-.4-.92-.59-1.43-.59-.52 0-1.04.2-1.43.59L10.3 9.45l-7.72 7.72c-.78.78-.78 2.05 0 2.83L4 21.41c.39.39.9.59 1.41.59.51 0 1.02-.2 1.41-.59l7.78-7.78 2.81-2.81c.8-.78.8-2.07 0-2.86zM5.41 20L4 18.59l7.72-7.72 1.47 1.35L5.41 20z\"/>\n",
              "  </svg>\n",
              "      </button>\n",
              "      \n",
              "  <style>\n",
              "    .colab-df-container {\n",
              "      display:flex;\n",
              "      flex-wrap:wrap;\n",
              "      gap: 12px;\n",
              "    }\n",
              "\n",
              "    .colab-df-convert {\n",
              "      background-color: #E8F0FE;\n",
              "      border: none;\n",
              "      border-radius: 50%;\n",
              "      cursor: pointer;\n",
              "      display: none;\n",
              "      fill: #1967D2;\n",
              "      height: 32px;\n",
              "      padding: 0 0 0 0;\n",
              "      width: 32px;\n",
              "    }\n",
              "\n",
              "    .colab-df-convert:hover {\n",
              "      background-color: #E2EBFA;\n",
              "      box-shadow: 0px 1px 2px rgba(60, 64, 67, 0.3), 0px 1px 3px 1px rgba(60, 64, 67, 0.15);\n",
              "      fill: #174EA6;\n",
              "    }\n",
              "\n",
              "    [theme=dark] .colab-df-convert {\n",
              "      background-color: #3B4455;\n",
              "      fill: #D2E3FC;\n",
              "    }\n",
              "\n",
              "    [theme=dark] .colab-df-convert:hover {\n",
              "      background-color: #434B5C;\n",
              "      box-shadow: 0px 1px 3px 1px rgba(0, 0, 0, 0.15);\n",
              "      filter: drop-shadow(0px 1px 2px rgba(0, 0, 0, 0.3));\n",
              "      fill: #FFFFFF;\n",
              "    }\n",
              "  </style>\n",
              "\n",
              "      <script>\n",
              "        const buttonEl =\n",
              "          document.querySelector('#df-5caf6384-15d9-4868-a96f-36e54185f394 button.colab-df-convert');\n",
              "        buttonEl.style.display =\n",
              "          google.colab.kernel.accessAllowed ? 'block' : 'none';\n",
              "\n",
              "        async function convertToInteractive(key) {\n",
              "          const element = document.querySelector('#df-5caf6384-15d9-4868-a96f-36e54185f394');\n",
              "          const dataTable =\n",
              "            await google.colab.kernel.invokeFunction('convertToInteractive',\n",
              "                                                     [key], {});\n",
              "          if (!dataTable) return;\n",
              "\n",
              "          const docLinkHtml = 'Like what you see? Visit the ' +\n",
              "            '<a target=\"_blank\" href=https://colab.research.google.com/notebooks/data_table.ipynb>data table notebook</a>'\n",
              "            + ' to learn more about interactive tables.';\n",
              "          element.innerHTML = '';\n",
              "          dataTable['output_type'] = 'display_data';\n",
              "          await google.colab.output.renderOutput(dataTable, element);\n",
              "          const docLink = document.createElement('div');\n",
              "          docLink.innerHTML = docLinkHtml;\n",
              "          element.appendChild(docLink);\n",
              "        }\n",
              "      </script>\n",
              "    </div>\n",
              "  </div>\n",
              "  "
            ],
            "text/plain": [
              "   age          job  marital  education  ... pdays  previous poutcome   y\n",
              "0   30   unemployed  married    primary  ...    -1         0  unknown  no\n",
              "1   33     services  married  secondary  ...   339         4  failure  no\n",
              "2   35   management   single   tertiary  ...   330         1  failure  no\n",
              "3   30   management  married   tertiary  ...    -1         0  unknown  no\n",
              "4   59  blue-collar  married  secondary  ...    -1         0  unknown  no\n",
              "\n",
              "[5 rows x 17 columns]"
            ]
          },
          "metadata": {},
          "execution_count": 6
        }
      ]
    },
    {
      "cell_type": "markdown",
      "source": [
        "### Magic Command\n",
        "\n",
        "a. Create a new folder named **data** in Google Colab. Use magic command **mkdir**.\n",
        "\n",
        "b. Create a copy of DataFrame in the new folder as **bank01.csv**"
      ],
      "metadata": {
        "id": "Fmsq9Z7EdWHH"
      }
    },
    {
      "cell_type": "code",
      "source": [
        "mkdir data\n"
      ],
      "metadata": {
        "id": "FcUFl5RUgaGb"
      },
      "execution_count": null,
      "outputs": []
    },
    {
      "cell_type": "code",
      "source": [
        "from pathlib import Path  \n",
        "filepath = Path('data/bank01.csv')    \n",
        "bank.to_csv(filepath)"
      ],
      "metadata": {
        "id": "nQVD_2hsfSSI"
      },
      "execution_count": null,
      "outputs": []
    },
    {
      "cell_type": "markdown",
      "source": [
        "## DataFrame Subsetting\n",
        "\n",
        "a. Extract a DataFrame of records with **management** and **entrepreneur** job category only."
      ],
      "metadata": {
        "id": "DZ-LzIYZgaPC"
      }
    },
    {
      "cell_type": "code",
      "source": [
        "df = pd.read_csv('data/bank01.csv')\n",
        "\n",
        "bank_management = df.loc[(df['job'] == 'management')]\n",
        "\n",
        "bank_entrepreneur = df.loc[(df['job'] == 'entrepreneur')]\n",
        "\n",
        "frames = [bank_management, bank_entrepreneur]\n",
        "\n",
        "#  DataFrame of records with management and entrepreneur job category only\n",
        "bank_final = pd.concat(frames)\n",
        "bank_final = bank_final.drop(bank_final.columns[[0]], axis=1)\n",
        "print(bank_final)"
      ],
      "metadata": {
        "id": "HS0CUuDLgn1P",
        "colab": {
          "base_uri": "https://localhost:8080/"
        },
        "outputId": "2dfd4af4-0a52-4e3d-cb6f-2c00558eccb6"
      },
      "execution_count": null,
      "outputs": [
        {
          "output_type": "stream",
          "name": "stdout",
          "text": [
            "      age           job   marital  education  ... pdays  previous poutcome    y\n",
            "2      35    management    single   tertiary  ...   330         1  failure   no\n",
            "3      30    management   married   tertiary  ...    -1         0  unknown   no\n",
            "5      35    management    single   tertiary  ...   176         3  failure   no\n",
            "15     40    management   married   tertiary  ...    -1         0  unknown   no\n",
            "20     38    management  divorced    unknown  ...    -1         0  unknown   no\n",
            "...   ...           ...       ...        ...  ...   ...       ...      ...  ...\n",
            "4401   38  entrepreneur  divorced   tertiary  ...    -1         0  unknown   no\n",
            "4402   41  entrepreneur   married    primary  ...    -1         0  unknown  yes\n",
            "4487   49  entrepreneur  divorced  secondary  ...    -1         0  unknown   no\n",
            "4497   31  entrepreneur    single   tertiary  ...    -1         0  unknown   no\n",
            "4520   44  entrepreneur    single   tertiary  ...   249         7    other   no\n",
            "\n",
            "[1137 rows x 17 columns]\n"
          ]
        }
      ]
    }
  ]
}