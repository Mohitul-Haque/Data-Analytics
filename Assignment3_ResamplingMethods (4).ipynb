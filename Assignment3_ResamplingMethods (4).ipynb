{
  "nbformat": 4,
  "nbformat_minor": 0,
  "metadata": {
    "colab": {
      "provenance": []
    },
    "kernelspec": {
      "name": "python3",
      "display_name": "Python 3"
    },
    "language_info": {
      "name": "python"
    }
  },
  "cells": [
    {
      "cell_type": "markdown",
      "metadata": {
        "id": "DAEWWn2UlaSL"
      },
      "source": [
        "## **Short Summary of Results for Assignment2**"
      ]
    },
    {
      "cell_type": "markdown",
      "metadata": {
        "id": "sJyXtb1mlkEx"
      },
      "source": [
        "# **Cross Validation**"
      ]
    },
    {
      "cell_type": "markdown",
      "metadata": {
        "id": "vU9FQAFyloSa"
      },
      "source": [
        "1. Here, I applied 5-fold, 3-fold and 10-fold cross-validation. Here I checked which K-fold cross validation among those three give the lowest mean squared error or has the best model performance. We observed that 5-fold CV gives the least mse 0.117673 which in turn gives the best model performance."
      ]
    },
    {
      "cell_type": "markdown",
      "metadata": {
        "id": "jlAH0dmvnUGq"
      },
      "source": [
        "# **Bootstrap**"
      ]
    },
    {
      "cell_type": "markdown",
      "metadata": {
        "id": "luLkPteZnXz4"
      },
      "source": [
        "1. Here we ran bootstrap over-sampling to balance the previously imbalanced dataset. And model sensitivity (Sensitivity is calculated as the number of correct positive predictions divided by the total number of positives) has increased dramatically from 0.20% to 13% approximately than before after applying bootstrap with the cost of accuracy, here model accuracy is 63%. Though by this our accuracy dropped to 63% but our true postive to false negative ratio has much improved which is now 496:298, before which  was 1:108. "
      ]
    },
    {
      "cell_type": "markdown",
      "metadata": {
        "id": "0nkC4f5ClhxS"
      },
      "source": [
        "# **Short Summary of Results for Assignment01**"
      ]
    },
    {
      "cell_type": "markdown",
      "metadata": {
        "id": "zpAMdjSC0QEo"
      },
      "source": [
        "# **Cross Validation**"
      ]
    },
    {
      "cell_type": "markdown",
      "metadata": {
        "id": "C2btsXaH0ZBW"
      },
      "source": [
        "1. First we got our training data for the price of diamond. Then I applied k-fold cross validation on that. Here, I applied 5-fold, 3-fold and 10-fold cross-validation. Here, I applied 5-fold, 3-fold and 10-fold cross-validation. Here I checked which K-fold cross validation among those three give the lowest mean squared error or has the best model performance. We observed that 3-fold CV gives the most mse 119821.59211327613 which in turn gives the best model performance."
      ]
    },
    {
      "cell_type": "markdown",
      "metadata": {
        "id": "QMU84LoI11iI"
      },
      "source": [
        "# **Bootstrap**"
      ]
    },
    {
      "cell_type": "markdown",
      "metadata": {
        "id": "DwzmlNyN159X"
      },
      "source": [
        "1. Here we ran bootstrap sampling to the dataframe. I made a sample of the training dataset which has 3 times the size of the original dataset and which contains randomy distributed rows. Also, I made a sample of the training dataset which has 10 times the size of the original dataset which contains randomy distributed rows. After training the bootstrapped dataset and testing it on the test data which is Professor's requirement of diamond. And we got predicted value of 2874.73374529 for the 3 times sampling and 2815.94944113 for the 10 times sampling. So we observed as the sample size increased the diamond price decreased."
      ]
    },
    {
      "cell_type": "markdown",
      "metadata": {
        "id": "Nws9GzKE3-ru"
      },
      "source": [
        "# **From Assignment 02**\n",
        "\n",
        "**Here, I am importing the bank dataset file from assignment02 to make our predictor dataframe which will contain the predictor variables and response variable as well.**"
      ]
    },
    {
      "cell_type": "code",
      "metadata": {
        "colab": {
          "base_uri": "https://localhost:8080/"
        },
        "id": "QjdH7Rr2Z-eE",
        "outputId": "f91378ab-78dc-445b-ed2e-b626ff789278"
      },
      "source": [
        "\n",
        "import pandas as pd\n",
        "df = pd.read_csv ('bank.csv', sep=';')\n",
        "df['y_new'] = pd.factorize(df.y)[0]\n",
        "\n",
        "df['y_new'] = df.y_new.astype(float)\n",
        "# Making the predictor dataframe by dropping other variables, I did not consider contact, day, month, poutcome as they did not seem important from the get go. \n",
        "# Also the problem states to not take duration as predictor as it states- \"this input should only be included for benchmark purposes and should be discarded if the intention is to have a realistic predictive model\"\n",
        "# dropping rows for unknown values in education column\n",
        "df_predict = df.drop(df.index[df['education'] == 'unknown'])\n",
        "print(df_predict)\n",
        "\n",
        "\n",
        "\n",
        "df_predict1=df_predict.drop(columns=['contact', 'day', 'month', 'duration', 'pdays', 'default', 'balance', 'pdays','age','job','campaign', 'poutcome', 'y', 'y_new'])\n",
        "\n",
        "# putting dummy variables in categorical columns\n",
        "education_dummies = pd.get_dummies(df_predict1.education, prefix=\"education\")\n",
        "df_with_dummies = pd.concat([df_predict1,education_dummies],axis='columns')\n",
        "df_with_dummies.drop('education',axis='columns',inplace=True)\n",
        "marital_dummies = pd.get_dummies(df_with_dummies.marital, prefix=\"marital\")\n",
        "df_with_dummies1 = pd.concat([df_with_dummies,marital_dummies],axis='columns')\n",
        "df_with_dummies1.drop('marital',axis='columns',inplace=True)\n",
        "housing_dummies = pd.get_dummies(df_with_dummies1.housing, prefix=\"housing\")\n",
        "df_with_dummies2 = pd.concat([df_with_dummies1,housing_dummies],axis='columns')\n",
        "df_with_dummies2.drop('housing',axis='columns',inplace=True)\n",
        "loan_dummies = pd.get_dummies(df_with_dummies2.loan, prefix=\"loan\")\n",
        "df_with_dummies3 = pd.concat([df_with_dummies2,loan_dummies],axis='columns')\n",
        "df_with_dummies3.drop('loan',axis='columns',inplace=True)\n",
        "df_with_dummies3 = df_with_dummies3.astype(float)\n",
        "df_with_dummies3.dtypes"
      ],
      "execution_count": null,
      "outputs": [
        {
          "output_type": "stream",
          "name": "stdout",
          "text": [
            "      age            job  marital  education  ... previous  poutcome   y y_new\n",
            "0      30     unemployed  married    primary  ...        0   unknown  no   0.0\n",
            "1      33       services  married  secondary  ...        4   failure  no   0.0\n",
            "2      35     management   single   tertiary  ...        1   failure  no   0.0\n",
            "3      30     management  married   tertiary  ...        0   unknown  no   0.0\n",
            "4      59    blue-collar  married  secondary  ...        0   unknown  no   0.0\n",
            "...   ...            ...      ...        ...  ...      ...       ...  ..   ...\n",
            "4516   33       services  married  secondary  ...        0   unknown  no   0.0\n",
            "4517   57  self-employed  married   tertiary  ...        0   unknown  no   0.0\n",
            "4518   57     technician  married  secondary  ...        0   unknown  no   0.0\n",
            "4519   28    blue-collar  married  secondary  ...        3     other  no   0.0\n",
            "4520   44   entrepreneur   single   tertiary  ...        7     other  no   0.0\n",
            "\n",
            "[4334 rows x 18 columns]\n"
          ]
        },
        {
          "output_type": "execute_result",
          "data": {
            "text/plain": [
              "previous               float64\n",
              "education_primary      float64\n",
              "education_secondary    float64\n",
              "education_tertiary     float64\n",
              "marital_divorced       float64\n",
              "marital_married        float64\n",
              "marital_single         float64\n",
              "housing_no             float64\n",
              "housing_yes            float64\n",
              "loan_no                float64\n",
              "loan_yes               float64\n",
              "dtype: object"
            ]
          },
          "metadata": {},
          "execution_count": 2
        }
      ]
    },
    {
      "cell_type": "markdown",
      "metadata": {
        "id": "04n3eI_N4ghJ"
      },
      "source": [
        "# **Cross Validation**\n",
        "Before, I worked on using 80% of our data for training and 20% for testing in logistic regression model. Cross validation makes us run our single model on various training/validation combinations and gives us a lot more confidence in our final metrics. Here, I applied 5-fold, 3-fold and 10-fold cross-validation. Each time we run the model, a different 80% of the data will be used for training, and a different 20% will be used for validation. And we can do this in such a manner that all of the data will be used in only one of the validation sets. This ensures that every point is used for validation exactly one time.  \n"
      ]
    },
    {
      "cell_type": "code",
      "metadata": {
        "colab": {
          "base_uri": "https://localhost:8080/",
          "height": 419
        },
        "id": "IzhkZ5yCxdzY",
        "outputId": "aea86816-20ab-4c92-c851-e14816261c21"
      },
      "source": [
        "X = df_with_dummies3\n",
        "X"
      ],
      "execution_count": null,
      "outputs": [
        {
          "output_type": "execute_result",
          "data": {
            "text/html": [
              "<div>\n",
              "<style scoped>\n",
              "    .dataframe tbody tr th:only-of-type {\n",
              "        vertical-align: middle;\n",
              "    }\n",
              "\n",
              "    .dataframe tbody tr th {\n",
              "        vertical-align: top;\n",
              "    }\n",
              "\n",
              "    .dataframe thead th {\n",
              "        text-align: right;\n",
              "    }\n",
              "</style>\n",
              "<table border=\"1\" class=\"dataframe\">\n",
              "  <thead>\n",
              "    <tr style=\"text-align: right;\">\n",
              "      <th></th>\n",
              "      <th>previous</th>\n",
              "      <th>education_primary</th>\n",
              "      <th>education_secondary</th>\n",
              "      <th>education_tertiary</th>\n",
              "      <th>marital_divorced</th>\n",
              "      <th>marital_married</th>\n",
              "      <th>marital_single</th>\n",
              "      <th>housing_no</th>\n",
              "      <th>housing_yes</th>\n",
              "      <th>loan_no</th>\n",
              "      <th>loan_yes</th>\n",
              "    </tr>\n",
              "  </thead>\n",
              "  <tbody>\n",
              "    <tr>\n",
              "      <th>0</th>\n",
              "      <td>0.0</td>\n",
              "      <td>1.0</td>\n",
              "      <td>0.0</td>\n",
              "      <td>0.0</td>\n",
              "      <td>0.0</td>\n",
              "      <td>1.0</td>\n",
              "      <td>0.0</td>\n",
              "      <td>1.0</td>\n",
              "      <td>0.0</td>\n",
              "      <td>1.0</td>\n",
              "      <td>0.0</td>\n",
              "    </tr>\n",
              "    <tr>\n",
              "      <th>1</th>\n",
              "      <td>4.0</td>\n",
              "      <td>0.0</td>\n",
              "      <td>1.0</td>\n",
              "      <td>0.0</td>\n",
              "      <td>0.0</td>\n",
              "      <td>1.0</td>\n",
              "      <td>0.0</td>\n",
              "      <td>0.0</td>\n",
              "      <td>1.0</td>\n",
              "      <td>0.0</td>\n",
              "      <td>1.0</td>\n",
              "    </tr>\n",
              "    <tr>\n",
              "      <th>2</th>\n",
              "      <td>1.0</td>\n",
              "      <td>0.0</td>\n",
              "      <td>0.0</td>\n",
              "      <td>1.0</td>\n",
              "      <td>0.0</td>\n",
              "      <td>0.0</td>\n",
              "      <td>1.0</td>\n",
              "      <td>0.0</td>\n",
              "      <td>1.0</td>\n",
              "      <td>1.0</td>\n",
              "      <td>0.0</td>\n",
              "    </tr>\n",
              "    <tr>\n",
              "      <th>3</th>\n",
              "      <td>0.0</td>\n",
              "      <td>0.0</td>\n",
              "      <td>0.0</td>\n",
              "      <td>1.0</td>\n",
              "      <td>0.0</td>\n",
              "      <td>1.0</td>\n",
              "      <td>0.0</td>\n",
              "      <td>0.0</td>\n",
              "      <td>1.0</td>\n",
              "      <td>0.0</td>\n",
              "      <td>1.0</td>\n",
              "    </tr>\n",
              "    <tr>\n",
              "      <th>4</th>\n",
              "      <td>0.0</td>\n",
              "      <td>0.0</td>\n",
              "      <td>1.0</td>\n",
              "      <td>0.0</td>\n",
              "      <td>0.0</td>\n",
              "      <td>1.0</td>\n",
              "      <td>0.0</td>\n",
              "      <td>0.0</td>\n",
              "      <td>1.0</td>\n",
              "      <td>1.0</td>\n",
              "      <td>0.0</td>\n",
              "    </tr>\n",
              "    <tr>\n",
              "      <th>...</th>\n",
              "      <td>...</td>\n",
              "      <td>...</td>\n",
              "      <td>...</td>\n",
              "      <td>...</td>\n",
              "      <td>...</td>\n",
              "      <td>...</td>\n",
              "      <td>...</td>\n",
              "      <td>...</td>\n",
              "      <td>...</td>\n",
              "      <td>...</td>\n",
              "      <td>...</td>\n",
              "    </tr>\n",
              "    <tr>\n",
              "      <th>4329</th>\n",
              "      <td>0.0</td>\n",
              "      <td>0.0</td>\n",
              "      <td>1.0</td>\n",
              "      <td>0.0</td>\n",
              "      <td>0.0</td>\n",
              "      <td>1.0</td>\n",
              "      <td>0.0</td>\n",
              "      <td>0.0</td>\n",
              "      <td>1.0</td>\n",
              "      <td>1.0</td>\n",
              "      <td>0.0</td>\n",
              "    </tr>\n",
              "    <tr>\n",
              "      <th>4330</th>\n",
              "      <td>0.0</td>\n",
              "      <td>0.0</td>\n",
              "      <td>0.0</td>\n",
              "      <td>1.0</td>\n",
              "      <td>0.0</td>\n",
              "      <td>1.0</td>\n",
              "      <td>0.0</td>\n",
              "      <td>0.0</td>\n",
              "      <td>1.0</td>\n",
              "      <td>0.0</td>\n",
              "      <td>1.0</td>\n",
              "    </tr>\n",
              "    <tr>\n",
              "      <th>4331</th>\n",
              "      <td>0.0</td>\n",
              "      <td>0.0</td>\n",
              "      <td>1.0</td>\n",
              "      <td>0.0</td>\n",
              "      <td>0.0</td>\n",
              "      <td>1.0</td>\n",
              "      <td>0.0</td>\n",
              "      <td>1.0</td>\n",
              "      <td>0.0</td>\n",
              "      <td>1.0</td>\n",
              "      <td>0.0</td>\n",
              "    </tr>\n",
              "    <tr>\n",
              "      <th>4332</th>\n",
              "      <td>3.0</td>\n",
              "      <td>0.0</td>\n",
              "      <td>1.0</td>\n",
              "      <td>0.0</td>\n",
              "      <td>0.0</td>\n",
              "      <td>1.0</td>\n",
              "      <td>0.0</td>\n",
              "      <td>1.0</td>\n",
              "      <td>0.0</td>\n",
              "      <td>1.0</td>\n",
              "      <td>0.0</td>\n",
              "    </tr>\n",
              "    <tr>\n",
              "      <th>4333</th>\n",
              "      <td>7.0</td>\n",
              "      <td>0.0</td>\n",
              "      <td>0.0</td>\n",
              "      <td>1.0</td>\n",
              "      <td>0.0</td>\n",
              "      <td>0.0</td>\n",
              "      <td>1.0</td>\n",
              "      <td>0.0</td>\n",
              "      <td>1.0</td>\n",
              "      <td>0.0</td>\n",
              "      <td>1.0</td>\n",
              "    </tr>\n",
              "  </tbody>\n",
              "</table>\n",
              "<p>4334 rows × 11 columns</p>\n",
              "</div>"
            ],
            "text/plain": [
              "      previous  education_primary  ...  loan_no  loan_yes\n",
              "0          0.0                1.0  ...      1.0       0.0\n",
              "1          4.0                0.0  ...      0.0       1.0\n",
              "2          1.0                0.0  ...      1.0       0.0\n",
              "3          0.0                0.0  ...      0.0       1.0\n",
              "4          0.0                0.0  ...      1.0       0.0\n",
              "...        ...                ...  ...      ...       ...\n",
              "4329       0.0                0.0  ...      1.0       0.0\n",
              "4330       0.0                0.0  ...      0.0       1.0\n",
              "4331       0.0                0.0  ...      1.0       0.0\n",
              "4332       3.0                0.0  ...      1.0       0.0\n",
              "4333       7.0                0.0  ...      0.0       1.0\n",
              "\n",
              "[4334 rows x 11 columns]"
            ]
          },
          "metadata": {},
          "execution_count": 2
        }
      ]
    },
    {
      "cell_type": "code",
      "metadata": {
        "colab": {
          "base_uri": "https://localhost:8080/"
        },
        "id": "aHAJqMnuyceo",
        "outputId": "d7ae1835-e0eb-47d1-d846-eaa30af381e8"
      },
      "source": [
        "y1 = df_predict.y_new\n",
        "y1"
      ],
      "execution_count": null,
      "outputs": [
        {
          "output_type": "execute_result",
          "data": {
            "text/plain": [
              "0       0.0\n",
              "1       0.0\n",
              "2       0.0\n",
              "3       0.0\n",
              "4       0.0\n",
              "       ... \n",
              "4329    0.0\n",
              "4330    0.0\n",
              "4331    0.0\n",
              "4332    0.0\n",
              "4333    0.0\n",
              "Name: y_new, Length: 4334, dtype: float64"
            ]
          },
          "metadata": {},
          "execution_count": 3
        }
      ]
    },
    {
      "cell_type": "markdown",
      "metadata": {
        "id": "cRLfjw8hMGEX"
      },
      "source": [
        "**Applying k-fold cross validation on my logistic regression model**\n"
      ]
    },
    {
      "cell_type": "code",
      "metadata": {
        "id": "FcMiQ0CCys-I"
      },
      "source": [
        "from sklearn.linear_model import LogisticRegression\n",
        "import numpy as np\n",
        "import matplotlib.pyplot as plt"
      ],
      "execution_count": null,
      "outputs": []
    },
    {
      "cell_type": "code",
      "metadata": {
        "id": "yZ1b0cE10KNn"
      },
      "source": [
        "import sklearn.model_selection\n",
        "from sklearn.model_selection import train_test_split\n",
        "X_train, X_test, y_train, y_test = train_test_split(X,y1,train_size=0.8)"
      ],
      "execution_count": null,
      "outputs": []
    },
    {
      "cell_type": "code",
      "metadata": {
        "id": "kalt63I30RJI"
      },
      "source": [
        "import sklearn.linear_model\n",
        "from sklearn.linear_model import LogisticRegression\n",
        "model = LogisticRegression()"
      ],
      "execution_count": null,
      "outputs": []
    },
    {
      "cell_type": "code",
      "metadata": {
        "colab": {
          "base_uri": "https://localhost:8080/"
        },
        "id": "1GWjx5Wj0VOQ",
        "outputId": "c4c9ee5e-c5e2-493b-a81a-eb2f02e5f8e2"
      },
      "source": [
        "model.fit(X_train, y_train)"
      ],
      "execution_count": null,
      "outputs": [
        {
          "output_type": "execute_result",
          "data": {
            "text/plain": [
              "LogisticRegression()"
            ]
          },
          "metadata": {},
          "execution_count": 7
        }
      ]
    },
    {
      "cell_type": "code",
      "metadata": {
        "colab": {
          "base_uri": "https://localhost:8080/"
        },
        "id": "pHnn7_s_0YZz",
        "outputId": "72e41153-158c-49cf-931d-1e601605f91d"
      },
      "source": [
        "model.score(X_test,y_test)"
      ],
      "execution_count": null,
      "outputs": [
        {
          "output_type": "execute_result",
          "data": {
            "text/plain": [
              "0.8858131487889274"
            ]
          },
          "metadata": {},
          "execution_count": 8
        }
      ]
    },
    {
      "cell_type": "markdown",
      "metadata": {
        "id": "hM_vdmF7NQIE"
      },
      "source": [
        "# cross_val_score function\n",
        "Scikit-learn's cross_val_score() method requires four parameters. First, we have the estimator or the specific model that we want to use, here, I used logistic regression. Next, we use X to specify the complete training dataset and y to specify the response values. Lastly, the parameter cv allows us to specify the number of cross-validation splits (or folds). Here, I applied 5-fold, 3-fold and 10-fold cross-validation. By default, cross_val_score() will use a default scoring function for whichever model have been specified. For most regression models, it will return the R-squared value."
      ]
    },
    {
      "cell_type": "code",
      "metadata": {
        "id": "YC3Lnqdr0dzx"
      },
      "source": [
        "from sklearn.model_selection import cross_val_score\n",
        "# Load the mean squared error method\n",
        "# Load the function for creating a scorer\n",
        "from sklearn.metrics import mean_squared_error, make_scorer"
      ],
      "execution_count": null,
      "outputs": []
    },
    {
      "cell_type": "markdown",
      "metadata": {
        "id": "ZrFyHp5UNZSz"
      },
      "source": [
        "**Logistic regression model performance using cross_val_score**"
      ]
    },
    {
      "cell_type": "code",
      "metadata": {
        "colab": {
          "base_uri": "https://localhost:8080/"
        },
        "id": "ezUBmP7k0hCQ",
        "outputId": "0d3c30e3-10e9-44dd-92a7-f04690774f4c"
      },
      "source": [
        "l_scores=cross_val_score(LogisticRegression(solver='liblinear',multi_class='ovr'), X,y1,cv=5, scoring=make_scorer(mean_squared_error))\n",
        "# print(l_scores)\n",
        "# np.average(l_scores)\n",
        "# Print the mean error\n",
        "print(l_scores.mean())"
      ],
      "execution_count": null,
      "outputs": [
        {
          "output_type": "stream",
          "name": "stdout",
          "text": [
            "0.11767396267024673\n"
          ]
        }
      ]
    },
    {
      "cell_type": "markdown",
      "metadata": {
        "id": "jBJOoTgcQV49"
      },
      "source": [
        "Now I have a baseline score to build on. If I decide to build additional models or try new techniques, I should try to get an error lower than 0.11767396267024673. Lower errors indicate that my term deposit predictions are improving."
      ]
    },
    {
      "cell_type": "code",
      "metadata": {
        "colab": {
          "base_uri": "https://localhost:8080/"
        },
        "id": "QncN1s3W3wUu",
        "outputId": "1ca9e621-17ee-4e71-858a-3dc58d1caa04"
      },
      "source": [
        "l_scores=cross_val_score(LogisticRegression(solver='liblinear',multi_class='ovr'), X,y1,cv=3, scoring=make_scorer(mean_squared_error))\n",
        "# print(l_scores)\n",
        "# np.average(l_scores)\n",
        "# Print the mean error\n",
        "print(l_scores.mean())"
      ],
      "execution_count": null,
      "outputs": [
        {
          "output_type": "stream",
          "name": "stdout",
          "text": [
            "0.11767453600309279\n"
          ]
        }
      ]
    },
    {
      "cell_type": "markdown",
      "metadata": {
        "id": "oQoa83_cRTJT"
      },
      "source": [
        "5-fold CV gave lower errors than 3-fold"
      ]
    },
    {
      "cell_type": "code",
      "metadata": {
        "colab": {
          "base_uri": "https://localhost:8080/"
        },
        "id": "JUT2VX4k32TO",
        "outputId": "11c9491e-2b1c-4dc8-e91b-6fa56999a77d"
      },
      "source": [
        "l_scores=cross_val_score(LogisticRegression(solver='liblinear',multi_class='ovr'), X,y1,cv=10, scoring=make_scorer(mean_squared_error))\n",
        "\n",
        "# Print the mean error\n",
        "print(l_scores.mean())"
      ],
      "execution_count": null,
      "outputs": [
        {
          "output_type": "stream",
          "name": "stdout",
          "text": [
            "0.11790476899990424\n"
          ]
        }
      ]
    },
    {
      "cell_type": "markdown",
      "metadata": {
        "id": "D-kH-R6SRgnQ"
      },
      "source": [
        "5-fold CV gave lower errors than 10-fold"
      ]
    },
    {
      "cell_type": "markdown",
      "metadata": {
        "id": "jNxNsiQyj-rf"
      },
      "source": [
        "## **Bootstraping**"
      ]
    },
    {
      "cell_type": "markdown",
      "metadata": {
        "id": "NhEGNhVxKrPH"
      },
      "source": [
        "As we observed in the assignment02 that the dataset is imbalanced with a heavy bias towards 'no' in the response variable. Using Bootstrap over sampling method we can make the imbalanced dataset balanced"
      ]
    },
    {
      "cell_type": "markdown",
      "metadata": {
        "id": "pRDp5LfBVpRI"
      },
      "source": [
        "\n",
        "**First we are creating our training and tset dataframe all over again**"
      ]
    },
    {
      "cell_type": "code",
      "metadata": {
        "colab": {
          "base_uri": "https://localhost:8080/"
        },
        "id": "-L6fnqwwLJ_W",
        "outputId": "0a258a58-95d2-41b0-f0af-ccfbffe88f85"
      },
      "source": [
        "import pandas as pd\n",
        "df = pd.read_csv ('bank.csv', sep=';')\n",
        "df['y_new'] = pd.factorize(df.y)[0]\n",
        "\n",
        "df['y_new'] = df.y_new.astype(float)\n",
        "# Making the predictor dataframe by dropping other variables, I did not consider contact, day, month, poutcome as they did not seem important from the get go. \n",
        "# Also the problem states to not take duration as predictor as it states- \"this input should only be included for benchmark purposes and should be discarded if the intention is to have a realistic predictive model\"\n",
        "# dropping rows for unknown values in education column\n",
        "df_predict = df.drop(df.index[df['education'] == 'unknown'])\n",
        "print(df_predict)\n",
        "\n",
        "\n",
        "\n",
        "df_predict1=df_predict.drop(columns=['contact', 'day', 'month', 'duration', 'pdays', 'default', 'balance', 'pdays','age','job','campaign', 'poutcome', 'y', 'y_new'])\n",
        "\n",
        "# putting dummy variables in categorical columns\n",
        "education_dummies = pd.get_dummies(df_predict1.education, prefix=\"education\")\n",
        "df_with_dummies = pd.concat([df_predict1,education_dummies],axis='columns')\n",
        "df_with_dummies.drop('education',axis='columns',inplace=True)\n",
        "marital_dummies = pd.get_dummies(df_with_dummies.marital, prefix=\"marital\")\n",
        "df_with_dummies1 = pd.concat([df_with_dummies,marital_dummies],axis='columns')\n",
        "df_with_dummies1.drop('marital',axis='columns',inplace=True)\n",
        "housing_dummies = pd.get_dummies(df_with_dummies1.housing, prefix=\"housing\")\n",
        "df_with_dummies2 = pd.concat([df_with_dummies1,housing_dummies],axis='columns')\n",
        "df_with_dummies2.drop('housing',axis='columns',inplace=True)\n",
        "loan_dummies = pd.get_dummies(df_with_dummies2.loan, prefix=\"loan\")\n",
        "df_with_dummies3 = pd.concat([df_with_dummies2,loan_dummies],axis='columns')\n",
        "df_with_dummies3.drop('loan',axis='columns',inplace=True)\n",
        "df_with_dummies3 = df_with_dummies3.astype(float)\n",
        "df_with_dummies3.dtypes"
      ],
      "execution_count": null,
      "outputs": [
        {
          "output_type": "stream",
          "name": "stdout",
          "text": [
            "      age            job  marital  education  ... previous  poutcome   y y_new\n",
            "0      30     unemployed  married    primary  ...        0   unknown  no   0.0\n",
            "1      33       services  married  secondary  ...        4   failure  no   0.0\n",
            "2      35     management   single   tertiary  ...        1   failure  no   0.0\n",
            "3      30     management  married   tertiary  ...        0   unknown  no   0.0\n",
            "4      59    blue-collar  married  secondary  ...        0   unknown  no   0.0\n",
            "...   ...            ...      ...        ...  ...      ...       ...  ..   ...\n",
            "4516   33       services  married  secondary  ...        0   unknown  no   0.0\n",
            "4517   57  self-employed  married   tertiary  ...        0   unknown  no   0.0\n",
            "4518   57     technician  married  secondary  ...        0   unknown  no   0.0\n",
            "4519   28    blue-collar  married  secondary  ...        3     other  no   0.0\n",
            "4520   44   entrepreneur   single   tertiary  ...        7     other  no   0.0\n",
            "\n",
            "[4334 rows x 18 columns]\n"
          ]
        },
        {
          "output_type": "execute_result",
          "data": {
            "text/plain": [
              "previous               float64\n",
              "education_primary      float64\n",
              "education_secondary    float64\n",
              "education_tertiary     float64\n",
              "marital_divorced       float64\n",
              "marital_married        float64\n",
              "marital_single         float64\n",
              "housing_no             float64\n",
              "housing_yes            float64\n",
              "loan_no                float64\n",
              "loan_yes               float64\n",
              "dtype: object"
            ]
          },
          "metadata": {},
          "execution_count": 3
        }
      ]
    },
    {
      "cell_type": "code",
      "metadata": {
        "colab": {
          "base_uri": "https://localhost:8080/",
          "height": 419
        },
        "id": "7lusjydgLP3L",
        "outputId": "7740c985-817b-4ad8-a06d-64d5cf917cec"
      },
      "source": [
        "X = df_with_dummies3\n",
        "X"
      ],
      "execution_count": null,
      "outputs": [
        {
          "output_type": "execute_result",
          "data": {
            "text/html": [
              "<div>\n",
              "<style scoped>\n",
              "    .dataframe tbody tr th:only-of-type {\n",
              "        vertical-align: middle;\n",
              "    }\n",
              "\n",
              "    .dataframe tbody tr th {\n",
              "        vertical-align: top;\n",
              "    }\n",
              "\n",
              "    .dataframe thead th {\n",
              "        text-align: right;\n",
              "    }\n",
              "</style>\n",
              "<table border=\"1\" class=\"dataframe\">\n",
              "  <thead>\n",
              "    <tr style=\"text-align: right;\">\n",
              "      <th></th>\n",
              "      <th>age</th>\n",
              "      <th>previous</th>\n",
              "      <th>education_primary</th>\n",
              "      <th>education_secondary</th>\n",
              "      <th>education_tertiary</th>\n",
              "      <th>marital_divorced</th>\n",
              "      <th>marital_married</th>\n",
              "      <th>marital_single</th>\n",
              "      <th>housing_no</th>\n",
              "      <th>housing_yes</th>\n",
              "      <th>loan_no</th>\n",
              "      <th>loan_yes</th>\n",
              "    </tr>\n",
              "  </thead>\n",
              "  <tbody>\n",
              "    <tr>\n",
              "      <th>0</th>\n",
              "      <td>30.0</td>\n",
              "      <td>0.0</td>\n",
              "      <td>1.0</td>\n",
              "      <td>0.0</td>\n",
              "      <td>0.0</td>\n",
              "      <td>0.0</td>\n",
              "      <td>1.0</td>\n",
              "      <td>0.0</td>\n",
              "      <td>1.0</td>\n",
              "      <td>0.0</td>\n",
              "      <td>1.0</td>\n",
              "      <td>0.0</td>\n",
              "    </tr>\n",
              "    <tr>\n",
              "      <th>1</th>\n",
              "      <td>33.0</td>\n",
              "      <td>4.0</td>\n",
              "      <td>0.0</td>\n",
              "      <td>1.0</td>\n",
              "      <td>0.0</td>\n",
              "      <td>0.0</td>\n",
              "      <td>1.0</td>\n",
              "      <td>0.0</td>\n",
              "      <td>0.0</td>\n",
              "      <td>1.0</td>\n",
              "      <td>0.0</td>\n",
              "      <td>1.0</td>\n",
              "    </tr>\n",
              "    <tr>\n",
              "      <th>2</th>\n",
              "      <td>35.0</td>\n",
              "      <td>1.0</td>\n",
              "      <td>0.0</td>\n",
              "      <td>0.0</td>\n",
              "      <td>1.0</td>\n",
              "      <td>0.0</td>\n",
              "      <td>0.0</td>\n",
              "      <td>1.0</td>\n",
              "      <td>0.0</td>\n",
              "      <td>1.0</td>\n",
              "      <td>1.0</td>\n",
              "      <td>0.0</td>\n",
              "    </tr>\n",
              "    <tr>\n",
              "      <th>3</th>\n",
              "      <td>30.0</td>\n",
              "      <td>0.0</td>\n",
              "      <td>0.0</td>\n",
              "      <td>0.0</td>\n",
              "      <td>1.0</td>\n",
              "      <td>0.0</td>\n",
              "      <td>1.0</td>\n",
              "      <td>0.0</td>\n",
              "      <td>0.0</td>\n",
              "      <td>1.0</td>\n",
              "      <td>0.0</td>\n",
              "      <td>1.0</td>\n",
              "    </tr>\n",
              "    <tr>\n",
              "      <th>4</th>\n",
              "      <td>59.0</td>\n",
              "      <td>0.0</td>\n",
              "      <td>0.0</td>\n",
              "      <td>1.0</td>\n",
              "      <td>0.0</td>\n",
              "      <td>0.0</td>\n",
              "      <td>1.0</td>\n",
              "      <td>0.0</td>\n",
              "      <td>0.0</td>\n",
              "      <td>1.0</td>\n",
              "      <td>1.0</td>\n",
              "      <td>0.0</td>\n",
              "    </tr>\n",
              "    <tr>\n",
              "      <th>...</th>\n",
              "      <td>...</td>\n",
              "      <td>...</td>\n",
              "      <td>...</td>\n",
              "      <td>...</td>\n",
              "      <td>...</td>\n",
              "      <td>...</td>\n",
              "      <td>...</td>\n",
              "      <td>...</td>\n",
              "      <td>...</td>\n",
              "      <td>...</td>\n",
              "      <td>...</td>\n",
              "      <td>...</td>\n",
              "    </tr>\n",
              "    <tr>\n",
              "      <th>4329</th>\n",
              "      <td>33.0</td>\n",
              "      <td>0.0</td>\n",
              "      <td>0.0</td>\n",
              "      <td>1.0</td>\n",
              "      <td>0.0</td>\n",
              "      <td>0.0</td>\n",
              "      <td>1.0</td>\n",
              "      <td>0.0</td>\n",
              "      <td>0.0</td>\n",
              "      <td>1.0</td>\n",
              "      <td>1.0</td>\n",
              "      <td>0.0</td>\n",
              "    </tr>\n",
              "    <tr>\n",
              "      <th>4330</th>\n",
              "      <td>57.0</td>\n",
              "      <td>0.0</td>\n",
              "      <td>0.0</td>\n",
              "      <td>0.0</td>\n",
              "      <td>1.0</td>\n",
              "      <td>0.0</td>\n",
              "      <td>1.0</td>\n",
              "      <td>0.0</td>\n",
              "      <td>0.0</td>\n",
              "      <td>1.0</td>\n",
              "      <td>0.0</td>\n",
              "      <td>1.0</td>\n",
              "    </tr>\n",
              "    <tr>\n",
              "      <th>4331</th>\n",
              "      <td>57.0</td>\n",
              "      <td>0.0</td>\n",
              "      <td>0.0</td>\n",
              "      <td>1.0</td>\n",
              "      <td>0.0</td>\n",
              "      <td>0.0</td>\n",
              "      <td>1.0</td>\n",
              "      <td>0.0</td>\n",
              "      <td>1.0</td>\n",
              "      <td>0.0</td>\n",
              "      <td>1.0</td>\n",
              "      <td>0.0</td>\n",
              "    </tr>\n",
              "    <tr>\n",
              "      <th>4332</th>\n",
              "      <td>28.0</td>\n",
              "      <td>3.0</td>\n",
              "      <td>0.0</td>\n",
              "      <td>1.0</td>\n",
              "      <td>0.0</td>\n",
              "      <td>0.0</td>\n",
              "      <td>1.0</td>\n",
              "      <td>0.0</td>\n",
              "      <td>1.0</td>\n",
              "      <td>0.0</td>\n",
              "      <td>1.0</td>\n",
              "      <td>0.0</td>\n",
              "    </tr>\n",
              "    <tr>\n",
              "      <th>4333</th>\n",
              "      <td>44.0</td>\n",
              "      <td>7.0</td>\n",
              "      <td>0.0</td>\n",
              "      <td>0.0</td>\n",
              "      <td>1.0</td>\n",
              "      <td>0.0</td>\n",
              "      <td>0.0</td>\n",
              "      <td>1.0</td>\n",
              "      <td>0.0</td>\n",
              "      <td>1.0</td>\n",
              "      <td>0.0</td>\n",
              "      <td>1.0</td>\n",
              "    </tr>\n",
              "  </tbody>\n",
              "</table>\n",
              "<p>4334 rows × 12 columns</p>\n",
              "</div>"
            ],
            "text/plain": [
              "       age  previous  education_primary  ...  housing_yes  loan_no  loan_yes\n",
              "0     30.0       0.0                1.0  ...          0.0      1.0       0.0\n",
              "1     33.0       4.0                0.0  ...          1.0      0.0       1.0\n",
              "2     35.0       1.0                0.0  ...          1.0      1.0       0.0\n",
              "3     30.0       0.0                0.0  ...          1.0      0.0       1.0\n",
              "4     59.0       0.0                0.0  ...          1.0      1.0       0.0\n",
              "...    ...       ...                ...  ...          ...      ...       ...\n",
              "4329  33.0       0.0                0.0  ...          1.0      1.0       0.0\n",
              "4330  57.0       0.0                0.0  ...          1.0      0.0       1.0\n",
              "4331  57.0       0.0                0.0  ...          0.0      1.0       0.0\n",
              "4332  28.0       3.0                0.0  ...          0.0      1.0       0.0\n",
              "4333  44.0       7.0                0.0  ...          1.0      0.0       1.0\n",
              "\n",
              "[4334 rows x 12 columns]"
            ]
          },
          "metadata": {},
          "execution_count": 18
        }
      ]
    },
    {
      "cell_type": "code",
      "metadata": {
        "colab": {
          "base_uri": "https://localhost:8080/"
        },
        "id": "MG9xD8kDLZs7",
        "outputId": "cffaa8ae-b828-4e4d-dc11-0cd494f545d6"
      },
      "source": [
        "y1 = df_predict.y_new\n",
        "y1"
      ],
      "execution_count": null,
      "outputs": [
        {
          "output_type": "execute_result",
          "data": {
            "text/plain": [
              "0       0.0\n",
              "1       0.0\n",
              "2       0.0\n",
              "3       0.0\n",
              "4       0.0\n",
              "       ... \n",
              "4329    0.0\n",
              "4330    0.0\n",
              "4331    0.0\n",
              "4332    0.0\n",
              "4333    0.0\n",
              "Name: y_new, Length: 4334, dtype: float64"
            ]
          },
          "metadata": {},
          "execution_count": 19
        }
      ]
    },
    {
      "cell_type": "code",
      "metadata": {
        "id": "CBEjMXNzLdDC"
      },
      "source": [
        "from imblearn.over_sampling import RandomOverSampler\n",
        "ros = RandomOverSampler(random_state=0)\n",
        "\n",
        "X_resampled, y_resampled = ros.fit_resample(X, y1)\n"
      ],
      "execution_count": null,
      "outputs": []
    },
    {
      "cell_type": "code",
      "metadata": {
        "colab": {
          "base_uri": "https://localhost:8080/"
        },
        "id": "JQs3vFnELy-y",
        "outputId": "e6401ef9-06b6-40d5-fe1b-9219b84a871a"
      },
      "source": [
        "X_resampled.info()"
      ],
      "execution_count": null,
      "outputs": [
        {
          "output_type": "stream",
          "name": "stdout",
          "text": [
            "<class 'pandas.core.frame.DataFrame'>\n",
            "RangeIndex: 7664 entries, 0 to 7663\n",
            "Data columns (total 12 columns):\n",
            " #   Column               Non-Null Count  Dtype  \n",
            "---  ------               --------------  -----  \n",
            " 0   age                  7664 non-null   float64\n",
            " 1   previous             7664 non-null   float64\n",
            " 2   education_primary    7664 non-null   float64\n",
            " 3   education_secondary  7664 non-null   float64\n",
            " 4   education_tertiary   7664 non-null   float64\n",
            " 5   marital_divorced     7664 non-null   float64\n",
            " 6   marital_married      7664 non-null   float64\n",
            " 7   marital_single       7664 non-null   float64\n",
            " 8   housing_no           7664 non-null   float64\n",
            " 9   housing_yes          7664 non-null   float64\n",
            " 10  loan_no              7664 non-null   float64\n",
            " 11  loan_yes             7664 non-null   float64\n",
            "dtypes: float64(12)\n",
            "memory usage: 718.6 KB\n"
          ]
        }
      ]
    },
    {
      "cell_type": "code",
      "metadata": {
        "colab": {
          "base_uri": "https://localhost:8080/"
        },
        "id": "0p_Yae5yLmpC",
        "outputId": "c5a2d37c-3601-45ff-a284-cc9b6a1f716b"
      },
      "source": [
        "y_resampled.describe"
      ],
      "execution_count": null,
      "outputs": [
        {
          "output_type": "execute_result",
          "data": {
            "text/plain": [
              "<bound method NDFrame.describe of 0       0.0\n",
              "1       0.0\n",
              "2       0.0\n",
              "3       0.0\n",
              "4       0.0\n",
              "       ... \n",
              "7659    1.0\n",
              "7660    1.0\n",
              "7661    1.0\n",
              "7662    1.0\n",
              "7663    1.0\n",
              "Name: y_new, Length: 7664, dtype: float64>"
            ]
          },
          "metadata": {},
          "execution_count": 22
        }
      ]
    },
    {
      "cell_type": "code",
      "metadata": {
        "colab": {
          "base_uri": "https://localhost:8080/",
          "height": 353
        },
        "id": "kIcL0_U0LrZD",
        "outputId": "693093f8-3c86-4464-e313-ea327b1464ed"
      },
      "source": [
        "import seaborn as sns\n",
        "sns.countplot(y_resampled)"
      ],
      "execution_count": null,
      "outputs": [
        {
          "output_type": "stream",
          "name": "stderr",
          "text": [
            "/usr/local/lib/python3.7/dist-packages/seaborn/_decorators.py:43: FutureWarning: Pass the following variable as a keyword arg: x. From version 0.12, the only valid positional argument will be `data`, and passing other arguments without an explicit keyword will result in an error or misinterpretation.\n",
            "  FutureWarning\n"
          ]
        },
        {
          "output_type": "execute_result",
          "data": {
            "text/plain": [
              "<matplotlib.axes._subplots.AxesSubplot at 0x7fe011173910>"
            ]
          },
          "metadata": {},
          "execution_count": 23
        },
        {
          "output_type": "display_data",
          "data": {
            "image/png": "[encoded data removed]",
            "text/plain": [
              "<Figure size 432x288 with 1 Axes>"
            ]
          },
          "metadata": {
            "needs_background": "light"
          }
        }
      ]
    },
    {
      "cell_type": "code",
      "metadata": {
        "id": "TmBeyEGVV_Ov"
      },
      "source": [
        "import sklearn.model_selection\n",
        "from sklearn.model_selection import train_test_split\n",
        "X_resampled_train, X_resampled_test, y_resampled_train, y_resampled_test = train_test_split(X_resampled,y_resampled,train_size=0.8)"
      ],
      "execution_count": null,
      "outputs": []
    },
    {
      "cell_type": "code",
      "metadata": {
        "id": "YNC5uGeRRO6I"
      },
      "source": [
        "import sklearn.linear_model\n",
        "from sklearn.linear_model import LogisticRegression\n",
        "model = LogisticRegression()"
      ],
      "execution_count": null,
      "outputs": []
    },
    {
      "cell_type": "code",
      "metadata": {
        "colab": {
          "base_uri": "https://localhost:8080/"
        },
        "id": "5N1fx_gYZVoA",
        "outputId": "ab2a6ba7-27f3-44b5-9a86-8ab012361f48"
      },
      "source": [
        "model.fit(X_resampled_train, y_resampled_train)"
      ],
      "execution_count": null,
      "outputs": [
        {
          "output_type": "execute_result",
          "data": {
            "text/plain": [
              "LogisticRegression()"
            ]
          },
          "metadata": {},
          "execution_count": 27
        }
      ]
    },
    {
      "cell_type": "code",
      "metadata": {
        "colab": {
          "base_uri": "https://localhost:8080/"
        },
        "id": "VmK8UJjUZfUZ",
        "outputId": "bef318b5-acb3-41ec-90a1-08adebd14ed7"
      },
      "source": [
        "model.predict(X_resampled_test)"
      ],
      "execution_count": null,
      "outputs": [
        {
          "output_type": "execute_result",
          "data": {
            "text/plain": [
              "array([0., 1., 1., ..., 0., 0., 0.])"
            ]
          },
          "metadata": {},
          "execution_count": 28
        }
      ]
    },
    {
      "cell_type": "code",
      "metadata": {
        "id": "V3sgn8vRafiR"
      },
      "source": [
        "y_resampled_predicted = model.predict(X_resampled_test)"
      ],
      "execution_count": null,
      "outputs": []
    },
    {
      "cell_type": "code",
      "metadata": {
        "colab": {
          "base_uri": "https://localhost:8080/"
        },
        "id": "lbm1TP2fZtr-",
        "outputId": "6b3c935e-0f2b-40fb-ef40-eb76077b9433"
      },
      "source": [
        "model.score(X_resampled_test,y_resampled_test)"
      ],
      "execution_count": null,
      "outputs": [
        {
          "output_type": "execute_result",
          "data": {
            "text/plain": [
              "0.6366601435094585"
            ]
          },
          "metadata": {},
          "execution_count": 30
        }
      ]
    },
    {
      "cell_type": "markdown",
      "metadata": {
        "id": "1wUuA7uOZ0Kf"
      },
      "source": [
        "## **Confusion Matrix**"
      ]
    },
    {
      "cell_type": "code",
      "metadata": {
        "colab": {
          "base_uri": "https://localhost:8080/"
        },
        "id": "Z66ySpkTaDUF",
        "outputId": "480b4941-c98e-4b7d-b468-bab5fbbdf1c0"
      },
      "source": [
        "from sklearn.metrics import confusion_matrix\n",
        "cm_bootstrap = confusion_matrix(y_resampled_test, y_resampled_predicted)\n",
        "cm_bootstrap"
      ],
      "execution_count": null,
      "outputs": [
        {
          "output_type": "execute_result",
          "data": {
            "text/plain": [
              "array([[480, 259],\n",
              "       [298, 496]])"
            ]
          },
          "metadata": {},
          "execution_count": 31
        }
      ]
    },
    {
      "cell_type": "code",
      "metadata": {
        "colab": {
          "base_uri": "https://localhost:8080/",
          "height": 459
        },
        "id": "jBohaPJRaD-X",
        "outputId": "c39cd59a-bd7e-4aa2-f650-7b6c874cd984"
      },
      "source": [
        "%matplotlib inline\n",
        "import matplotlib.pyplot as plt\n",
        "import seaborn as sn\n",
        "plt.figure(figsize=(10,7))\n",
        "sn.heatmap(cm_bootstrap, annot=True)\n",
        "plt.xlabel('Predicted')\n",
        "plt.ylabel('Truth')"
      ],
      "execution_count": null,
      "outputs": [
        {
          "output_type": "execute_result",
          "data": {
            "text/plain": [
              "Text(69.0, 0.5, 'Truth')"
            ]
          },
          "metadata": {},
          "execution_count": 32
        },
        {
          "output_type": "display_data",
          "data": {
            "image/png": "[encoded data removed]",
            "text/plain": [
              "<Figure size 720x504 with 2 Axes>"
            ]
          },
          "metadata": {
            "needs_background": "light"
          }
        }
      ]
    },
    {
      "cell_type": "markdown",
      "metadata": {
        "id": "dTHCKxqqhoOc"
      },
      "source": [
        "From the confusion matrix heatmap above we can observe that the true postive to false negative 496:298 which is much improved than the original confusion matrix where the ratio was 1:108. Sensitivity (SN) is calculated as the number of correct positive predictions divided by the total number of positives. And here our model sensitivity has increased dramatically than before after applying bootstrap with the cost of accuracy."
      ]
    },
    {
      "cell_type": "markdown",
      "metadata": {
        "id": "BD6BkWzcKoOC"
      },
      "source": [
        "## **From Assignment 01**"
      ]
    },
    {
      "cell_type": "markdown",
      "metadata": {
        "id": "1BOfQjRxKyAY"
      },
      "source": [
        "We are recreating the training data with selected features from assignment 01 which is required  training the linear regression model. The predictor dataframes are for high priced diamonds and low priced diamonds. The datasframes were found after extensive EDA in assignment 01. The predictor variables here are Carat, Colour2C, ClarityIS, Cut2C, Cert2G and Polish2C."
      ]
    },
    {
      "cell_type": "code",
      "metadata": {
        "colab": {
          "base_uri": "https://localhost:8080/"
        },
        "id": "YmICnDIofujZ",
        "outputId": "83bb91a7-3c45-4ba7-e66f-d03ecbb2962f"
      },
      "source": [
        "import pandas as pd\n",
        "df1 = pd.read_excel ('MBA6636_SM21_Professor_Proposes_Data.xlsx')\n",
        "print (df1)"
      ],
      "execution_count": null,
      "outputs": [
        {
          "output_type": "stream",
          "name": "stdout",
          "text": [
            "     Carat Colour Clarity Cut Certification Polish Symmetry  Price  Wholesaler\n",
            "0     0.92      I     SI2   G           AGS      V        V   3000           1\n",
            "1     0.92      I     SI2   V           AGS      G        G   3000           1\n",
            "2     0.82      F     SI2   I           GIA      X        X   3004           1\n",
            "3     0.81      G     SI1   I           GIA      X        V   3004           1\n",
            "4     0.90      J     VS2   V           GIA      V        V   3006           1\n",
            "..     ...    ...     ...  ..           ...    ...      ...    ...         ...\n",
            "435   0.30      K    VVS1   V           GIA      X        V    547           3\n",
            "436   0.30      H     SI1   G           GIA      V        V    559           3\n",
            "437   0.30      H     SI1   X           GIA      V        V    559           3\n",
            "438   0.30      H     SI1   V           GIA      X        X    559           3\n",
            "439   0.30      H     SI1   X           GIA      V        X    559           3\n",
            "\n",
            "[440 rows x 9 columns]\n"
          ]
        }
      ]
    },
    {
      "cell_type": "code",
      "metadata": {
        "colab": {
          "base_uri": "https://localhost:8080/",
          "height": 419
        },
        "id": "Nxbu-ZHZHuNw",
        "outputId": "564de65c-bdf7-4a81-d6b7-0fd93ce08cb6"
      },
      "source": [
        "df1[\"Clarity\"].replace({\"I1\": \"1\", \"I2\": \"2\", \"SI1\": \"3\", \"SI2\": \"4\", \"SI3\": \"5\", \"VS1\": \"6\", \"VS2\": \"7\", \"VVS1\": \"8\", \"VVS2\": \"9\"}, inplace=True)\n",
        "df1"
      ],
      "execution_count": null,
      "outputs": [
        {
          "output_type": "execute_result",
          "data": {
            "text/html": [
              "<div>\n",
              "<style scoped>\n",
              "    .dataframe tbody tr th:only-of-type {\n",
              "        vertical-align: middle;\n",
              "    }\n",
              "\n",
              "    .dataframe tbody tr th {\n",
              "        vertical-align: top;\n",
              "    }\n",
              "\n",
              "    .dataframe thead th {\n",
              "        text-align: right;\n",
              "    }\n",
              "</style>\n",
              "<table border=\"1\" class=\"dataframe\">\n",
              "  <thead>\n",
              "    <tr style=\"text-align: right;\">\n",
              "      <th></th>\n",
              "      <th>Carat</th>\n",
              "      <th>Colour</th>\n",
              "      <th>Clarity</th>\n",
              "      <th>Cut</th>\n",
              "      <th>Certification</th>\n",
              "      <th>Polish</th>\n",
              "      <th>Symmetry</th>\n",
              "      <th>Price</th>\n",
              "      <th>Wholesaler</th>\n",
              "    </tr>\n",
              "  </thead>\n",
              "  <tbody>\n",
              "    <tr>\n",
              "      <th>0</th>\n",
              "      <td>0.92</td>\n",
              "      <td>I</td>\n",
              "      <td>4</td>\n",
              "      <td>G</td>\n",
              "      <td>AGS</td>\n",
              "      <td>V</td>\n",
              "      <td>V</td>\n",
              "      <td>3000</td>\n",
              "      <td>1</td>\n",
              "    </tr>\n",
              "    <tr>\n",
              "      <th>1</th>\n",
              "      <td>0.92</td>\n",
              "      <td>I</td>\n",
              "      <td>4</td>\n",
              "      <td>V</td>\n",
              "      <td>AGS</td>\n",
              "      <td>G</td>\n",
              "      <td>G</td>\n",
              "      <td>3000</td>\n",
              "      <td>1</td>\n",
              "    </tr>\n",
              "    <tr>\n",
              "      <th>2</th>\n",
              "      <td>0.82</td>\n",
              "      <td>F</td>\n",
              "      <td>4</td>\n",
              "      <td>I</td>\n",
              "      <td>GIA</td>\n",
              "      <td>X</td>\n",
              "      <td>X</td>\n",
              "      <td>3004</td>\n",
              "      <td>1</td>\n",
              "    </tr>\n",
              "    <tr>\n",
              "      <th>3</th>\n",
              "      <td>0.81</td>\n",
              "      <td>G</td>\n",
              "      <td>3</td>\n",
              "      <td>I</td>\n",
              "      <td>GIA</td>\n",
              "      <td>X</td>\n",
              "      <td>V</td>\n",
              "      <td>3004</td>\n",
              "      <td>1</td>\n",
              "    </tr>\n",
              "    <tr>\n",
              "      <th>4</th>\n",
              "      <td>0.90</td>\n",
              "      <td>J</td>\n",
              "      <td>7</td>\n",
              "      <td>V</td>\n",
              "      <td>GIA</td>\n",
              "      <td>V</td>\n",
              "      <td>V</td>\n",
              "      <td>3006</td>\n",
              "      <td>1</td>\n",
              "    </tr>\n",
              "    <tr>\n",
              "      <th>...</th>\n",
              "      <td>...</td>\n",
              "      <td>...</td>\n",
              "      <td>...</td>\n",
              "      <td>...</td>\n",
              "      <td>...</td>\n",
              "      <td>...</td>\n",
              "      <td>...</td>\n",
              "      <td>...</td>\n",
              "      <td>...</td>\n",
              "    </tr>\n",
              "    <tr>\n",
              "      <th>435</th>\n",
              "      <td>0.30</td>\n",
              "      <td>K</td>\n",
              "      <td>8</td>\n",
              "      <td>V</td>\n",
              "      <td>GIA</td>\n",
              "      <td>X</td>\n",
              "      <td>V</td>\n",
              "      <td>547</td>\n",
              "      <td>3</td>\n",
              "    </tr>\n",
              "    <tr>\n",
              "      <th>436</th>\n",
              "      <td>0.30</td>\n",
              "      <td>H</td>\n",
              "      <td>3</td>\n",
              "      <td>G</td>\n",
              "      <td>GIA</td>\n",
              "      <td>V</td>\n",
              "      <td>V</td>\n",
              "      <td>559</td>\n",
              "      <td>3</td>\n",
              "    </tr>\n",
              "    <tr>\n",
              "      <th>437</th>\n",
              "      <td>0.30</td>\n",
              "      <td>H</td>\n",
              "      <td>3</td>\n",
              "      <td>X</td>\n",
              "      <td>GIA</td>\n",
              "      <td>V</td>\n",
              "      <td>V</td>\n",
              "      <td>559</td>\n",
              "      <td>3</td>\n",
              "    </tr>\n",
              "    <tr>\n",
              "      <th>438</th>\n",
              "      <td>0.30</td>\n",
              "      <td>H</td>\n",
              "      <td>3</td>\n",
              "      <td>V</td>\n",
              "      <td>GIA</td>\n",
              "      <td>X</td>\n",
              "      <td>X</td>\n",
              "      <td>559</td>\n",
              "      <td>3</td>\n",
              "    </tr>\n",
              "    <tr>\n",
              "      <th>439</th>\n",
              "      <td>0.30</td>\n",
              "      <td>H</td>\n",
              "      <td>3</td>\n",
              "      <td>X</td>\n",
              "      <td>GIA</td>\n",
              "      <td>V</td>\n",
              "      <td>X</td>\n",
              "      <td>559</td>\n",
              "      <td>3</td>\n",
              "    </tr>\n",
              "  </tbody>\n",
              "</table>\n",
              "<p>440 rows × 9 columns</p>\n",
              "</div>"
            ],
            "text/plain": [
              "     Carat Colour Clarity Cut Certification Polish Symmetry  Price  Wholesaler\n",
              "0     0.92      I       4   G           AGS      V        V   3000           1\n",
              "1     0.92      I       4   V           AGS      G        G   3000           1\n",
              "2     0.82      F       4   I           GIA      X        X   3004           1\n",
              "3     0.81      G       3   I           GIA      X        V   3004           1\n",
              "4     0.90      J       7   V           GIA      V        V   3006           1\n",
              "..     ...    ...     ...  ..           ...    ...      ...    ...         ...\n",
              "435   0.30      K       8   V           GIA      X        V    547           3\n",
              "436   0.30      H       3   G           GIA      V        V    559           3\n",
              "437   0.30      H       3   X           GIA      V        V    559           3\n",
              "438   0.30      H       3   V           GIA      X        X    559           3\n",
              "439   0.30      H       3   X           GIA      V        X    559           3\n",
              "\n",
              "[440 rows x 9 columns]"
            ]
          },
          "metadata": {},
          "execution_count": 2
        }
      ]
    },
    {
      "cell_type": "code",
      "metadata": {
        "colab": {
          "base_uri": "https://localhost:8080/",
          "height": 419
        },
        "id": "1pndQCzOI7VQ",
        "outputId": "f671d849-ecbf-4456-cec0-7dcd1fb011b8"
      },
      "source": [
        "df1[\"Colour\"].replace({\"D\": \"2\", \"E\": \"2\", \"F\": \"2\", \"G\": \"2\", \"H\": \"2\", \"I\": \"2\", \"J\": \"1\", \"K\": \"1\", \"L\": \"1\"}, inplace=True)\n",
        "df1"
      ],
      "execution_count": null,
      "outputs": [
        {
          "output_type": "execute_result",
          "data": {
            "text/html": [
              "<div>\n",
              "<style scoped>\n",
              "    .dataframe tbody tr th:only-of-type {\n",
              "        vertical-align: middle;\n",
              "    }\n",
              "\n",
              "    .dataframe tbody tr th {\n",
              "        vertical-align: top;\n",
              "    }\n",
              "\n",
              "    .dataframe thead th {\n",
              "        text-align: right;\n",
              "    }\n",
              "</style>\n",
              "<table border=\"1\" class=\"dataframe\">\n",
              "  <thead>\n",
              "    <tr style=\"text-align: right;\">\n",
              "      <th></th>\n",
              "      <th>Carat</th>\n",
              "      <th>Colour</th>\n",
              "      <th>Clarity</th>\n",
              "      <th>Cut</th>\n",
              "      <th>Certification</th>\n",
              "      <th>Polish</th>\n",
              "      <th>Symmetry</th>\n",
              "      <th>Price</th>\n",
              "      <th>Wholesaler</th>\n",
              "    </tr>\n",
              "  </thead>\n",
              "  <tbody>\n",
              "    <tr>\n",
              "      <th>0</th>\n",
              "      <td>0.92</td>\n",
              "      <td>2</td>\n",
              "      <td>4</td>\n",
              "      <td>G</td>\n",
              "      <td>AGS</td>\n",
              "      <td>V</td>\n",
              "      <td>V</td>\n",
              "      <td>3000</td>\n",
              "      <td>1</td>\n",
              "    </tr>\n",
              "    <tr>\n",
              "      <th>1</th>\n",
              "      <td>0.92</td>\n",
              "      <td>2</td>\n",
              "      <td>4</td>\n",
              "      <td>V</td>\n",
              "      <td>AGS</td>\n",
              "      <td>G</td>\n",
              "      <td>G</td>\n",
              "      <td>3000</td>\n",
              "      <td>1</td>\n",
              "    </tr>\n",
              "    <tr>\n",
              "      <th>2</th>\n",
              "      <td>0.82</td>\n",
              "      <td>2</td>\n",
              "      <td>4</td>\n",
              "      <td>I</td>\n",
              "      <td>GIA</td>\n",
              "      <td>X</td>\n",
              "      <td>X</td>\n",
              "      <td>3004</td>\n",
              "      <td>1</td>\n",
              "    </tr>\n",
              "    <tr>\n",
              "      <th>3</th>\n",
              "      <td>0.81</td>\n",
              "      <td>2</td>\n",
              "      <td>3</td>\n",
              "      <td>I</td>\n",
              "      <td>GIA</td>\n",
              "      <td>X</td>\n",
              "      <td>V</td>\n",
              "      <td>3004</td>\n",
              "      <td>1</td>\n",
              "    </tr>\n",
              "    <tr>\n",
              "      <th>4</th>\n",
              "      <td>0.90</td>\n",
              "      <td>1</td>\n",
              "      <td>7</td>\n",
              "      <td>V</td>\n",
              "      <td>GIA</td>\n",
              "      <td>V</td>\n",
              "      <td>V</td>\n",
              "      <td>3006</td>\n",
              "      <td>1</td>\n",
              "    </tr>\n",
              "    <tr>\n",
              "      <th>...</th>\n",
              "      <td>...</td>\n",
              "      <td>...</td>\n",
              "      <td>...</td>\n",
              "      <td>...</td>\n",
              "      <td>...</td>\n",
              "      <td>...</td>\n",
              "      <td>...</td>\n",
              "      <td>...</td>\n",
              "      <td>...</td>\n",
              "    </tr>\n",
              "    <tr>\n",
              "      <th>435</th>\n",
              "      <td>0.30</td>\n",
              "      <td>1</td>\n",
              "      <td>8</td>\n",
              "      <td>V</td>\n",
              "      <td>GIA</td>\n",
              "      <td>X</td>\n",
              "      <td>V</td>\n",
              "      <td>547</td>\n",
              "      <td>3</td>\n",
              "    </tr>\n",
              "    <tr>\n",
              "      <th>436</th>\n",
              "      <td>0.30</td>\n",
              "      <td>2</td>\n",
              "      <td>3</td>\n",
              "      <td>G</td>\n",
              "      <td>GIA</td>\n",
              "      <td>V</td>\n",
              "      <td>V</td>\n",
              "      <td>559</td>\n",
              "      <td>3</td>\n",
              "    </tr>\n",
              "    <tr>\n",
              "      <th>437</th>\n",
              "      <td>0.30</td>\n",
              "      <td>2</td>\n",
              "      <td>3</td>\n",
              "      <td>X</td>\n",
              "      <td>GIA</td>\n",
              "      <td>V</td>\n",
              "      <td>V</td>\n",
              "      <td>559</td>\n",
              "      <td>3</td>\n",
              "    </tr>\n",
              "    <tr>\n",
              "      <th>438</th>\n",
              "      <td>0.30</td>\n",
              "      <td>2</td>\n",
              "      <td>3</td>\n",
              "      <td>V</td>\n",
              "      <td>GIA</td>\n",
              "      <td>X</td>\n",
              "      <td>X</td>\n",
              "      <td>559</td>\n",
              "      <td>3</td>\n",
              "    </tr>\n",
              "    <tr>\n",
              "      <th>439</th>\n",
              "      <td>0.30</td>\n",
              "      <td>2</td>\n",
              "      <td>3</td>\n",
              "      <td>X</td>\n",
              "      <td>GIA</td>\n",
              "      <td>V</td>\n",
              "      <td>X</td>\n",
              "      <td>559</td>\n",
              "      <td>3</td>\n",
              "    </tr>\n",
              "  </tbody>\n",
              "</table>\n",
              "<p>440 rows × 9 columns</p>\n",
              "</div>"
            ],
            "text/plain": [
              "     Carat Colour Clarity Cut Certification Polish Symmetry  Price  Wholesaler\n",
              "0     0.92      2       4   G           AGS      V        V   3000           1\n",
              "1     0.92      2       4   V           AGS      G        G   3000           1\n",
              "2     0.82      2       4   I           GIA      X        X   3004           1\n",
              "3     0.81      2       3   I           GIA      X        V   3004           1\n",
              "4     0.90      1       7   V           GIA      V        V   3006           1\n",
              "..     ...    ...     ...  ..           ...    ...      ...    ...         ...\n",
              "435   0.30      1       8   V           GIA      X        V    547           3\n",
              "436   0.30      2       3   G           GIA      V        V    559           3\n",
              "437   0.30      2       3   X           GIA      V        V    559           3\n",
              "438   0.30      2       3   V           GIA      X        X    559           3\n",
              "439   0.30      2       3   X           GIA      V        X    559           3\n",
              "\n",
              "[440 rows x 9 columns]"
            ]
          },
          "metadata": {},
          "execution_count": 3
        }
      ]
    },
    {
      "cell_type": "code",
      "metadata": {
        "colab": {
          "base_uri": "https://localhost:8080/",
          "height": 419
        },
        "id": "BBGS2LwYLI2I",
        "outputId": "037ccdf2-32c1-4198-8fc2-83adf50f4c9b"
      },
      "source": [
        "df1[\"Certification\"].replace({\"AGS\": \"2\", \"GIA\": \"2\", \"IGI\": \"1\", \"EGL\": \"1\",\"DOW\": \"1\" }, inplace=True)\n",
        "df1"
      ],
      "execution_count": null,
      "outputs": [
        {
          "output_type": "execute_result",
          "data": {
            "text/html": [
              "<div>\n",
              "<style scoped>\n",
              "    .dataframe tbody tr th:only-of-type {\n",
              "        vertical-align: middle;\n",
              "    }\n",
              "\n",
              "    .dataframe tbody tr th {\n",
              "        vertical-align: top;\n",
              "    }\n",
              "\n",
              "    .dataframe thead th {\n",
              "        text-align: right;\n",
              "    }\n",
              "</style>\n",
              "<table border=\"1\" class=\"dataframe\">\n",
              "  <thead>\n",
              "    <tr style=\"text-align: right;\">\n",
              "      <th></th>\n",
              "      <th>Carat</th>\n",
              "      <th>Colour</th>\n",
              "      <th>Clarity</th>\n",
              "      <th>Cut</th>\n",
              "      <th>Certification</th>\n",
              "      <th>Polish</th>\n",
              "      <th>Symmetry</th>\n",
              "      <th>Price</th>\n",
              "      <th>Wholesaler</th>\n",
              "    </tr>\n",
              "  </thead>\n",
              "  <tbody>\n",
              "    <tr>\n",
              "      <th>0</th>\n",
              "      <td>0.92</td>\n",
              "      <td>2</td>\n",
              "      <td>4</td>\n",
              "      <td>1</td>\n",
              "      <td>2</td>\n",
              "      <td>2</td>\n",
              "      <td>V</td>\n",
              "      <td>3000</td>\n",
              "      <td>1</td>\n",
              "    </tr>\n",
              "    <tr>\n",
              "      <th>1</th>\n",
              "      <td>0.92</td>\n",
              "      <td>2</td>\n",
              "      <td>4</td>\n",
              "      <td>2</td>\n",
              "      <td>2</td>\n",
              "      <td>1</td>\n",
              "      <td>G</td>\n",
              "      <td>3000</td>\n",
              "      <td>1</td>\n",
              "    </tr>\n",
              "    <tr>\n",
              "      <th>2</th>\n",
              "      <td>0.82</td>\n",
              "      <td>2</td>\n",
              "      <td>4</td>\n",
              "      <td>2</td>\n",
              "      <td>2</td>\n",
              "      <td>2</td>\n",
              "      <td>X</td>\n",
              "      <td>3004</td>\n",
              "      <td>1</td>\n",
              "    </tr>\n",
              "    <tr>\n",
              "      <th>3</th>\n",
              "      <td>0.81</td>\n",
              "      <td>2</td>\n",
              "      <td>3</td>\n",
              "      <td>2</td>\n",
              "      <td>2</td>\n",
              "      <td>2</td>\n",
              "      <td>V</td>\n",
              "      <td>3004</td>\n",
              "      <td>1</td>\n",
              "    </tr>\n",
              "    <tr>\n",
              "      <th>4</th>\n",
              "      <td>0.90</td>\n",
              "      <td>1</td>\n",
              "      <td>7</td>\n",
              "      <td>2</td>\n",
              "      <td>2</td>\n",
              "      <td>2</td>\n",
              "      <td>V</td>\n",
              "      <td>3006</td>\n",
              "      <td>1</td>\n",
              "    </tr>\n",
              "    <tr>\n",
              "      <th>...</th>\n",
              "      <td>...</td>\n",
              "      <td>...</td>\n",
              "      <td>...</td>\n",
              "      <td>...</td>\n",
              "      <td>...</td>\n",
              "      <td>...</td>\n",
              "      <td>...</td>\n",
              "      <td>...</td>\n",
              "      <td>...</td>\n",
              "    </tr>\n",
              "    <tr>\n",
              "      <th>435</th>\n",
              "      <td>0.30</td>\n",
              "      <td>1</td>\n",
              "      <td>8</td>\n",
              "      <td>2</td>\n",
              "      <td>2</td>\n",
              "      <td>2</td>\n",
              "      <td>V</td>\n",
              "      <td>547</td>\n",
              "      <td>3</td>\n",
              "    </tr>\n",
              "    <tr>\n",
              "      <th>436</th>\n",
              "      <td>0.30</td>\n",
              "      <td>2</td>\n",
              "      <td>3</td>\n",
              "      <td>1</td>\n",
              "      <td>2</td>\n",
              "      <td>2</td>\n",
              "      <td>V</td>\n",
              "      <td>559</td>\n",
              "      <td>3</td>\n",
              "    </tr>\n",
              "    <tr>\n",
              "      <th>437</th>\n",
              "      <td>0.30</td>\n",
              "      <td>2</td>\n",
              "      <td>3</td>\n",
              "      <td>2</td>\n",
              "      <td>2</td>\n",
              "      <td>2</td>\n",
              "      <td>V</td>\n",
              "      <td>559</td>\n",
              "      <td>3</td>\n",
              "    </tr>\n",
              "    <tr>\n",
              "      <th>438</th>\n",
              "      <td>0.30</td>\n",
              "      <td>2</td>\n",
              "      <td>3</td>\n",
              "      <td>2</td>\n",
              "      <td>2</td>\n",
              "      <td>2</td>\n",
              "      <td>X</td>\n",
              "      <td>559</td>\n",
              "      <td>3</td>\n",
              "    </tr>\n",
              "    <tr>\n",
              "      <th>439</th>\n",
              "      <td>0.30</td>\n",
              "      <td>2</td>\n",
              "      <td>3</td>\n",
              "      <td>2</td>\n",
              "      <td>2</td>\n",
              "      <td>2</td>\n",
              "      <td>X</td>\n",
              "      <td>559</td>\n",
              "      <td>3</td>\n",
              "    </tr>\n",
              "  </tbody>\n",
              "</table>\n",
              "<p>440 rows × 9 columns</p>\n",
              "</div>"
            ],
            "text/plain": [
              "     Carat Colour Clarity Cut Certification Polish Symmetry  Price  Wholesaler\n",
              "0     0.92      2       4   1             2      2        V   3000           1\n",
              "1     0.92      2       4   2             2      1        G   3000           1\n",
              "2     0.82      2       4   2             2      2        X   3004           1\n",
              "3     0.81      2       3   2             2      2        V   3004           1\n",
              "4     0.90      1       7   2             2      2        V   3006           1\n",
              "..     ...    ...     ...  ..           ...    ...      ...    ...         ...\n",
              "435   0.30      1       8   2             2      2        V    547           3\n",
              "436   0.30      2       3   1             2      2        V    559           3\n",
              "437   0.30      2       3   2             2      2        V    559           3\n",
              "438   0.30      2       3   2             2      2        X    559           3\n",
              "439   0.30      2       3   2             2      2        X    559           3\n",
              "\n",
              "[440 rows x 9 columns]"
            ]
          },
          "metadata": {},
          "execution_count": 7
        }
      ]
    },
    {
      "cell_type": "code",
      "metadata": {
        "colab": {
          "base_uri": "https://localhost:8080/",
          "height": 419
        },
        "id": "06XTfaiILxOt",
        "outputId": "1762ca65-1646-42d8-ea6f-dc0dc752ce89"
      },
      "source": [
        "df1[\"Cut\"].replace({\"F\": \"1\", \"G\": \"1\", \"V\": \"2\", \"X\": \"2\", \"I\": \"2\"}, inplace=True)\n",
        "df1"
      ],
      "execution_count": null,
      "outputs": [
        {
          "output_type": "execute_result",
          "data": {
            "text/html": [
              "<div>\n",
              "<style scoped>\n",
              "    .dataframe tbody tr th:only-of-type {\n",
              "        vertical-align: middle;\n",
              "    }\n",
              "\n",
              "    .dataframe tbody tr th {\n",
              "        vertical-align: top;\n",
              "    }\n",
              "\n",
              "    .dataframe thead th {\n",
              "        text-align: right;\n",
              "    }\n",
              "</style>\n",
              "<table border=\"1\" class=\"dataframe\">\n",
              "  <thead>\n",
              "    <tr style=\"text-align: right;\">\n",
              "      <th></th>\n",
              "      <th>Carat</th>\n",
              "      <th>Colour</th>\n",
              "      <th>Clarity</th>\n",
              "      <th>Cut</th>\n",
              "      <th>Certification</th>\n",
              "      <th>Polish</th>\n",
              "      <th>Symmetry</th>\n",
              "      <th>Price</th>\n",
              "      <th>Wholesaler</th>\n",
              "    </tr>\n",
              "  </thead>\n",
              "  <tbody>\n",
              "    <tr>\n",
              "      <th>0</th>\n",
              "      <td>0.92</td>\n",
              "      <td>2</td>\n",
              "      <td>4</td>\n",
              "      <td>1</td>\n",
              "      <td>2</td>\n",
              "      <td>2</td>\n",
              "      <td>V</td>\n",
              "      <td>3000</td>\n",
              "      <td>1</td>\n",
              "    </tr>\n",
              "    <tr>\n",
              "      <th>1</th>\n",
              "      <td>0.92</td>\n",
              "      <td>2</td>\n",
              "      <td>4</td>\n",
              "      <td>2</td>\n",
              "      <td>2</td>\n",
              "      <td>1</td>\n",
              "      <td>G</td>\n",
              "      <td>3000</td>\n",
              "      <td>1</td>\n",
              "    </tr>\n",
              "    <tr>\n",
              "      <th>2</th>\n",
              "      <td>0.82</td>\n",
              "      <td>2</td>\n",
              "      <td>4</td>\n",
              "      <td>2</td>\n",
              "      <td>2</td>\n",
              "      <td>2</td>\n",
              "      <td>X</td>\n",
              "      <td>3004</td>\n",
              "      <td>1</td>\n",
              "    </tr>\n",
              "    <tr>\n",
              "      <th>3</th>\n",
              "      <td>0.81</td>\n",
              "      <td>2</td>\n",
              "      <td>3</td>\n",
              "      <td>2</td>\n",
              "      <td>2</td>\n",
              "      <td>2</td>\n",
              "      <td>V</td>\n",
              "      <td>3004</td>\n",
              "      <td>1</td>\n",
              "    </tr>\n",
              "    <tr>\n",
              "      <th>4</th>\n",
              "      <td>0.90</td>\n",
              "      <td>1</td>\n",
              "      <td>7</td>\n",
              "      <td>2</td>\n",
              "      <td>2</td>\n",
              "      <td>2</td>\n",
              "      <td>V</td>\n",
              "      <td>3006</td>\n",
              "      <td>1</td>\n",
              "    </tr>\n",
              "    <tr>\n",
              "      <th>...</th>\n",
              "      <td>...</td>\n",
              "      <td>...</td>\n",
              "      <td>...</td>\n",
              "      <td>...</td>\n",
              "      <td>...</td>\n",
              "      <td>...</td>\n",
              "      <td>...</td>\n",
              "      <td>...</td>\n",
              "      <td>...</td>\n",
              "    </tr>\n",
              "    <tr>\n",
              "      <th>435</th>\n",
              "      <td>0.30</td>\n",
              "      <td>1</td>\n",
              "      <td>8</td>\n",
              "      <td>2</td>\n",
              "      <td>2</td>\n",
              "      <td>2</td>\n",
              "      <td>V</td>\n",
              "      <td>547</td>\n",
              "      <td>3</td>\n",
              "    </tr>\n",
              "    <tr>\n",
              "      <th>436</th>\n",
              "      <td>0.30</td>\n",
              "      <td>2</td>\n",
              "      <td>3</td>\n",
              "      <td>1</td>\n",
              "      <td>2</td>\n",
              "      <td>2</td>\n",
              "      <td>V</td>\n",
              "      <td>559</td>\n",
              "      <td>3</td>\n",
              "    </tr>\n",
              "    <tr>\n",
              "      <th>437</th>\n",
              "      <td>0.30</td>\n",
              "      <td>2</td>\n",
              "      <td>3</td>\n",
              "      <td>2</td>\n",
              "      <td>2</td>\n",
              "      <td>2</td>\n",
              "      <td>V</td>\n",
              "      <td>559</td>\n",
              "      <td>3</td>\n",
              "    </tr>\n",
              "    <tr>\n",
              "      <th>438</th>\n",
              "      <td>0.30</td>\n",
              "      <td>2</td>\n",
              "      <td>3</td>\n",
              "      <td>2</td>\n",
              "      <td>2</td>\n",
              "      <td>2</td>\n",
              "      <td>X</td>\n",
              "      <td>559</td>\n",
              "      <td>3</td>\n",
              "    </tr>\n",
              "    <tr>\n",
              "      <th>439</th>\n",
              "      <td>0.30</td>\n",
              "      <td>2</td>\n",
              "      <td>3</td>\n",
              "      <td>2</td>\n",
              "      <td>2</td>\n",
              "      <td>2</td>\n",
              "      <td>X</td>\n",
              "      <td>559</td>\n",
              "      <td>3</td>\n",
              "    </tr>\n",
              "  </tbody>\n",
              "</table>\n",
              "<p>440 rows × 9 columns</p>\n",
              "</div>"
            ],
            "text/plain": [
              "     Carat Colour Clarity Cut Certification Polish Symmetry  Price  Wholesaler\n",
              "0     0.92      2       4   1             2      2        V   3000           1\n",
              "1     0.92      2       4   2             2      1        G   3000           1\n",
              "2     0.82      2       4   2             2      2        X   3004           1\n",
              "3     0.81      2       3   2             2      2        V   3004           1\n",
              "4     0.90      1       7   2             2      2        V   3006           1\n",
              "..     ...    ...     ...  ..           ...    ...      ...    ...         ...\n",
              "435   0.30      1       8   2             2      2        V    547           3\n",
              "436   0.30      2       3   1             2      2        V    559           3\n",
              "437   0.30      2       3   2             2      2        V    559           3\n",
              "438   0.30      2       3   2             2      2        X    559           3\n",
              "439   0.30      2       3   2             2      2        X    559           3\n",
              "\n",
              "[440 rows x 9 columns]"
            ]
          },
          "metadata": {},
          "execution_count": 8
        }
      ]
    },
    {
      "cell_type": "code",
      "metadata": {
        "colab": {
          "base_uri": "https://localhost:8080/",
          "height": 419
        },
        "id": "GtLuINzqMI5N",
        "outputId": "3b15fa07-12c3-48e8-cad5-963378d0db3e"
      },
      "source": [
        "df1[\"Polish\"].replace({\"F\": \"1\", \"G\": \"1\", \"V\": \"2\", \"X\": \"2\", \"I\": \"2\", \"v\": \"2\"}, inplace=True)\n",
        "df1"
      ],
      "execution_count": null,
      "outputs": [
        {
          "output_type": "execute_result",
          "data": {
            "text/html": [
              "<div>\n",
              "<style scoped>\n",
              "    .dataframe tbody tr th:only-of-type {\n",
              "        vertical-align: middle;\n",
              "    }\n",
              "\n",
              "    .dataframe tbody tr th {\n",
              "        vertical-align: top;\n",
              "    }\n",
              "\n",
              "    .dataframe thead th {\n",
              "        text-align: right;\n",
              "    }\n",
              "</style>\n",
              "<table border=\"1\" class=\"dataframe\">\n",
              "  <thead>\n",
              "    <tr style=\"text-align: right;\">\n",
              "      <th></th>\n",
              "      <th>Carat</th>\n",
              "      <th>Colour</th>\n",
              "      <th>Clarity</th>\n",
              "      <th>Cut</th>\n",
              "      <th>Certification</th>\n",
              "      <th>Polish</th>\n",
              "      <th>Symmetry</th>\n",
              "      <th>Price</th>\n",
              "      <th>Wholesaler</th>\n",
              "    </tr>\n",
              "  </thead>\n",
              "  <tbody>\n",
              "    <tr>\n",
              "      <th>0</th>\n",
              "      <td>0.92</td>\n",
              "      <td>2</td>\n",
              "      <td>4</td>\n",
              "      <td>1</td>\n",
              "      <td>2</td>\n",
              "      <td>2</td>\n",
              "      <td>V</td>\n",
              "      <td>3000</td>\n",
              "      <td>1</td>\n",
              "    </tr>\n",
              "    <tr>\n",
              "      <th>1</th>\n",
              "      <td>0.92</td>\n",
              "      <td>2</td>\n",
              "      <td>4</td>\n",
              "      <td>2</td>\n",
              "      <td>2</td>\n",
              "      <td>1</td>\n",
              "      <td>G</td>\n",
              "      <td>3000</td>\n",
              "      <td>1</td>\n",
              "    </tr>\n",
              "    <tr>\n",
              "      <th>2</th>\n",
              "      <td>0.82</td>\n",
              "      <td>2</td>\n",
              "      <td>4</td>\n",
              "      <td>2</td>\n",
              "      <td>2</td>\n",
              "      <td>2</td>\n",
              "      <td>X</td>\n",
              "      <td>3004</td>\n",
              "      <td>1</td>\n",
              "    </tr>\n",
              "    <tr>\n",
              "      <th>3</th>\n",
              "      <td>0.81</td>\n",
              "      <td>2</td>\n",
              "      <td>3</td>\n",
              "      <td>2</td>\n",
              "      <td>2</td>\n",
              "      <td>2</td>\n",
              "      <td>V</td>\n",
              "      <td>3004</td>\n",
              "      <td>1</td>\n",
              "    </tr>\n",
              "    <tr>\n",
              "      <th>4</th>\n",
              "      <td>0.90</td>\n",
              "      <td>1</td>\n",
              "      <td>7</td>\n",
              "      <td>2</td>\n",
              "      <td>2</td>\n",
              "      <td>2</td>\n",
              "      <td>V</td>\n",
              "      <td>3006</td>\n",
              "      <td>1</td>\n",
              "    </tr>\n",
              "    <tr>\n",
              "      <th>...</th>\n",
              "      <td>...</td>\n",
              "      <td>...</td>\n",
              "      <td>...</td>\n",
              "      <td>...</td>\n",
              "      <td>...</td>\n",
              "      <td>...</td>\n",
              "      <td>...</td>\n",
              "      <td>...</td>\n",
              "      <td>...</td>\n",
              "    </tr>\n",
              "    <tr>\n",
              "      <th>435</th>\n",
              "      <td>0.30</td>\n",
              "      <td>1</td>\n",
              "      <td>8</td>\n",
              "      <td>2</td>\n",
              "      <td>2</td>\n",
              "      <td>2</td>\n",
              "      <td>V</td>\n",
              "      <td>547</td>\n",
              "      <td>3</td>\n",
              "    </tr>\n",
              "    <tr>\n",
              "      <th>436</th>\n",
              "      <td>0.30</td>\n",
              "      <td>2</td>\n",
              "      <td>3</td>\n",
              "      <td>1</td>\n",
              "      <td>2</td>\n",
              "      <td>2</td>\n",
              "      <td>V</td>\n",
              "      <td>559</td>\n",
              "      <td>3</td>\n",
              "    </tr>\n",
              "    <tr>\n",
              "      <th>437</th>\n",
              "      <td>0.30</td>\n",
              "      <td>2</td>\n",
              "      <td>3</td>\n",
              "      <td>2</td>\n",
              "      <td>2</td>\n",
              "      <td>2</td>\n",
              "      <td>V</td>\n",
              "      <td>559</td>\n",
              "      <td>3</td>\n",
              "    </tr>\n",
              "    <tr>\n",
              "      <th>438</th>\n",
              "      <td>0.30</td>\n",
              "      <td>2</td>\n",
              "      <td>3</td>\n",
              "      <td>2</td>\n",
              "      <td>2</td>\n",
              "      <td>2</td>\n",
              "      <td>X</td>\n",
              "      <td>559</td>\n",
              "      <td>3</td>\n",
              "    </tr>\n",
              "    <tr>\n",
              "      <th>439</th>\n",
              "      <td>0.30</td>\n",
              "      <td>2</td>\n",
              "      <td>3</td>\n",
              "      <td>2</td>\n",
              "      <td>2</td>\n",
              "      <td>2</td>\n",
              "      <td>X</td>\n",
              "      <td>559</td>\n",
              "      <td>3</td>\n",
              "    </tr>\n",
              "  </tbody>\n",
              "</table>\n",
              "<p>440 rows × 9 columns</p>\n",
              "</div>"
            ],
            "text/plain": [
              "     Carat Colour Clarity Cut Certification Polish Symmetry  Price  Wholesaler\n",
              "0     0.92      2       4   1             2      2        V   3000           1\n",
              "1     0.92      2       4   2             2      1        G   3000           1\n",
              "2     0.82      2       4   2             2      2        X   3004           1\n",
              "3     0.81      2       3   2             2      2        V   3004           1\n",
              "4     0.90      1       7   2             2      2        V   3006           1\n",
              "..     ...    ...     ...  ..           ...    ...      ...    ...         ...\n",
              "435   0.30      1       8   2             2      2        V    547           3\n",
              "436   0.30      2       3   1             2      2        V    559           3\n",
              "437   0.30      2       3   2             2      2        V    559           3\n",
              "438   0.30      2       3   2             2      2        X    559           3\n",
              "439   0.30      2       3   2             2      2        X    559           3\n",
              "\n",
              "[440 rows x 9 columns]"
            ]
          },
          "metadata": {},
          "execution_count": 9
        }
      ]
    },
    {
      "cell_type": "code",
      "metadata": {
        "colab": {
          "base_uri": "https://localhost:8080/",
          "height": 419
        },
        "id": "gDe9ROG9OK8K",
        "outputId": "d7593a03-97b7-430a-a22c-53c5126788f3"
      },
      "source": [
        "df_as1=df1.drop(columns=['Symmetry'])\n",
        "df_as1"
      ],
      "execution_count": null,
      "outputs": [
        {
          "output_type": "execute_result",
          "data": {
            "text/html": [
              "<div>\n",
              "<style scoped>\n",
              "    .dataframe tbody tr th:only-of-type {\n",
              "        vertical-align: middle;\n",
              "    }\n",
              "\n",
              "    .dataframe tbody tr th {\n",
              "        vertical-align: top;\n",
              "    }\n",
              "\n",
              "    .dataframe thead th {\n",
              "        text-align: right;\n",
              "    }\n",
              "</style>\n",
              "<table border=\"1\" class=\"dataframe\">\n",
              "  <thead>\n",
              "    <tr style=\"text-align: right;\">\n",
              "      <th></th>\n",
              "      <th>Carat</th>\n",
              "      <th>Colour</th>\n",
              "      <th>Clarity</th>\n",
              "      <th>Cut</th>\n",
              "      <th>Certification</th>\n",
              "      <th>Polish</th>\n",
              "      <th>Price</th>\n",
              "      <th>Wholesaler</th>\n",
              "    </tr>\n",
              "  </thead>\n",
              "  <tbody>\n",
              "    <tr>\n",
              "      <th>0</th>\n",
              "      <td>0.92</td>\n",
              "      <td>2</td>\n",
              "      <td>4</td>\n",
              "      <td>1</td>\n",
              "      <td>2</td>\n",
              "      <td>2</td>\n",
              "      <td>3000</td>\n",
              "      <td>1</td>\n",
              "    </tr>\n",
              "    <tr>\n",
              "      <th>1</th>\n",
              "      <td>0.92</td>\n",
              "      <td>2</td>\n",
              "      <td>4</td>\n",
              "      <td>2</td>\n",
              "      <td>2</td>\n",
              "      <td>1</td>\n",
              "      <td>3000</td>\n",
              "      <td>1</td>\n",
              "    </tr>\n",
              "    <tr>\n",
              "      <th>2</th>\n",
              "      <td>0.82</td>\n",
              "      <td>2</td>\n",
              "      <td>4</td>\n",
              "      <td>2</td>\n",
              "      <td>2</td>\n",
              "      <td>2</td>\n",
              "      <td>3004</td>\n",
              "      <td>1</td>\n",
              "    </tr>\n",
              "    <tr>\n",
              "      <th>3</th>\n",
              "      <td>0.81</td>\n",
              "      <td>2</td>\n",
              "      <td>3</td>\n",
              "      <td>2</td>\n",
              "      <td>2</td>\n",
              "      <td>2</td>\n",
              "      <td>3004</td>\n",
              "      <td>1</td>\n",
              "    </tr>\n",
              "    <tr>\n",
              "      <th>4</th>\n",
              "      <td>0.90</td>\n",
              "      <td>1</td>\n",
              "      <td>7</td>\n",
              "      <td>2</td>\n",
              "      <td>2</td>\n",
              "      <td>2</td>\n",
              "      <td>3006</td>\n",
              "      <td>1</td>\n",
              "    </tr>\n",
              "    <tr>\n",
              "      <th>...</th>\n",
              "      <td>...</td>\n",
              "      <td>...</td>\n",
              "      <td>...</td>\n",
              "      <td>...</td>\n",
              "      <td>...</td>\n",
              "      <td>...</td>\n",
              "      <td>...</td>\n",
              "      <td>...</td>\n",
              "    </tr>\n",
              "    <tr>\n",
              "      <th>435</th>\n",
              "      <td>0.30</td>\n",
              "      <td>1</td>\n",
              "      <td>8</td>\n",
              "      <td>2</td>\n",
              "      <td>2</td>\n",
              "      <td>2</td>\n",
              "      <td>547</td>\n",
              "      <td>3</td>\n",
              "    </tr>\n",
              "    <tr>\n",
              "      <th>436</th>\n",
              "      <td>0.30</td>\n",
              "      <td>2</td>\n",
              "      <td>3</td>\n",
              "      <td>1</td>\n",
              "      <td>2</td>\n",
              "      <td>2</td>\n",
              "      <td>559</td>\n",
              "      <td>3</td>\n",
              "    </tr>\n",
              "    <tr>\n",
              "      <th>437</th>\n",
              "      <td>0.30</td>\n",
              "      <td>2</td>\n",
              "      <td>3</td>\n",
              "      <td>2</td>\n",
              "      <td>2</td>\n",
              "      <td>2</td>\n",
              "      <td>559</td>\n",
              "      <td>3</td>\n",
              "    </tr>\n",
              "    <tr>\n",
              "      <th>438</th>\n",
              "      <td>0.30</td>\n",
              "      <td>2</td>\n",
              "      <td>3</td>\n",
              "      <td>2</td>\n",
              "      <td>2</td>\n",
              "      <td>2</td>\n",
              "      <td>559</td>\n",
              "      <td>3</td>\n",
              "    </tr>\n",
              "    <tr>\n",
              "      <th>439</th>\n",
              "      <td>0.30</td>\n",
              "      <td>2</td>\n",
              "      <td>3</td>\n",
              "      <td>2</td>\n",
              "      <td>2</td>\n",
              "      <td>2</td>\n",
              "      <td>559</td>\n",
              "      <td>3</td>\n",
              "    </tr>\n",
              "  </tbody>\n",
              "</table>\n",
              "<p>440 rows × 8 columns</p>\n",
              "</div>"
            ],
            "text/plain": [
              "     Carat Colour Clarity Cut Certification Polish  Price  Wholesaler\n",
              "0     0.92      2       4   1             2      2   3000           1\n",
              "1     0.92      2       4   2             2      1   3000           1\n",
              "2     0.82      2       4   2             2      2   3004           1\n",
              "3     0.81      2       3   2             2      2   3004           1\n",
              "4     0.90      1       7   2             2      2   3006           1\n",
              "..     ...    ...     ...  ..           ...    ...    ...         ...\n",
              "435   0.30      1       8   2             2      2    547           3\n",
              "436   0.30      2       3   1             2      2    559           3\n",
              "437   0.30      2       3   2             2      2    559           3\n",
              "438   0.30      2       3   2             2      2    559           3\n",
              "439   0.30      2       3   2             2      2    559           3\n",
              "\n",
              "[440 rows x 8 columns]"
            ]
          },
          "metadata": {},
          "execution_count": 10
        }
      ]
    },
    {
      "cell_type": "code",
      "metadata": {
        "colab": {
          "base_uri": "https://localhost:8080/"
        },
        "id": "8UNXnu_rcq43",
        "outputId": "9bf9cebf-7d92-4d83-f210-1f10033bc002"
      },
      "source": [
        "df_highprice = df_as1[df_as1['Wholesaler'] < 3]\n",
        "print (df_highprice)\n",
        "\n",
        "df_lowprice = df_as1[df_as1['Wholesaler'] > 2]\n",
        "print (df_lowprice)\n",
        "df_highprice1=df_highprice.drop(columns=['Wholesaler'])\n",
        "df_lowprice1=df_lowprice.drop(columns=['Wholesaler'])\n",
        "print (df_highprice1)\n",
        "print (df_lowprice1)"
      ],
      "execution_count": null,
      "outputs": [
        {
          "output_type": "stream",
          "name": "stdout",
          "text": [
            "     Carat Colour Clarity Cut Certification Polish  Price  Wholesaler\n",
            "0     0.92      2       4   1             2      2   3000           1\n",
            "1     0.92      2       4   2             2      1   3000           1\n",
            "2     0.82      2       4   2             2      2   3004           1\n",
            "3     0.81      2       3   2             2      2   3004           1\n",
            "4     0.90      1       7   2             2      2   3006           1\n",
            "..     ...    ...     ...  ..           ...    ...    ...         ...\n",
            "235   1.10      2       1   2             1      1   2772           2\n",
            "236   1.16      2       1   2             2      1   2775           2\n",
            "237   1.00      2       1   2             2      2   2779           2\n",
            "238   1.00      1       3   1             1      2   2780           2\n",
            "239   1.00      1       3   1             1      1   2780           2\n",
            "\n",
            "[240 rows x 8 columns]\n",
            "     Carat Colour Clarity Cut Certification Polish  Price  Wholesaler\n",
            "240   0.09      2       3   2             1      1    190           3\n",
            "241   0.09      2       3   2             1      1    160           3\n",
            "242   0.09      2       3   2             1      2    160           3\n",
            "243   0.09      2       3   2             1      1    180           3\n",
            "244   0.09      2       6   2             1      2    190           3\n",
            "..     ...    ...     ...  ..           ...    ...    ...         ...\n",
            "435   0.30      1       8   2             2      2    547           3\n",
            "436   0.30      2       3   1             2      2    559           3\n",
            "437   0.30      2       3   2             2      2    559           3\n",
            "438   0.30      2       3   2             2      2    559           3\n",
            "439   0.30      2       3   2             2      2    559           3\n",
            "\n",
            "[200 rows x 8 columns]\n",
            "     Carat Colour Clarity Cut Certification Polish  Price\n",
            "0     0.92      2       4   1             2      2   3000\n",
            "1     0.92      2       4   2             2      1   3000\n",
            "2     0.82      2       4   2             2      2   3004\n",
            "3     0.81      2       3   2             2      2   3004\n",
            "4     0.90      1       7   2             2      2   3006\n",
            "..     ...    ...     ...  ..           ...    ...    ...\n",
            "235   1.10      2       1   2             1      1   2772\n",
            "236   1.16      2       1   2             2      1   2775\n",
            "237   1.00      2       1   2             2      2   2779\n",
            "238   1.00      1       3   1             1      2   2780\n",
            "239   1.00      1       3   1             1      1   2780\n",
            "\n",
            "[240 rows x 7 columns]\n",
            "     Carat Colour Clarity Cut Certification Polish  Price\n",
            "240   0.09      2       3   2             1      1    190\n",
            "241   0.09      2       3   2             1      1    160\n",
            "242   0.09      2       3   2             1      2    160\n",
            "243   0.09      2       3   2             1      1    180\n",
            "244   0.09      2       6   2             1      2    190\n",
            "..     ...    ...     ...  ..           ...    ...    ...\n",
            "435   0.30      1       8   2             2      2    547\n",
            "436   0.30      2       3   1             2      2    559\n",
            "437   0.30      2       3   2             2      2    559\n",
            "438   0.30      2       3   2             2      2    559\n",
            "439   0.30      2       3   2             2      2    559\n",
            "\n",
            "[200 rows x 7 columns]\n"
          ]
        }
      ]
    },
    {
      "cell_type": "code",
      "metadata": {
        "colab": {
          "base_uri": "https://localhost:8080/",
          "height": 419
        },
        "id": "bpqU2XORwENi",
        "outputId": "c32cf268-a0f0-40f8-afba-9113ec40cc63"
      },
      "source": [
        "df_highprice2 = df_highprice1.rename(columns={'Colour': 'Colour2C', 'Cut': 'Cut2C', 'Certification': 'Cert2G', 'Clarity': 'ClarityIS', 'Polish': 'Polish2C'})\n",
        "df_highprice2"
      ],
      "execution_count": null,
      "outputs": [
        {
          "output_type": "execute_result",
          "data": {
            "text/html": [
              "<div>\n",
              "<style scoped>\n",
              "    .dataframe tbody tr th:only-of-type {\n",
              "        vertical-align: middle;\n",
              "    }\n",
              "\n",
              "    .dataframe tbody tr th {\n",
              "        vertical-align: top;\n",
              "    }\n",
              "\n",
              "    .dataframe thead th {\n",
              "        text-align: right;\n",
              "    }\n",
              "</style>\n",
              "<table border=\"1\" class=\"dataframe\">\n",
              "  <thead>\n",
              "    <tr style=\"text-align: right;\">\n",
              "      <th></th>\n",
              "      <th>Carat</th>\n",
              "      <th>Colour2C</th>\n",
              "      <th>ClarityIS</th>\n",
              "      <th>Cut2C</th>\n",
              "      <th>Cert2G</th>\n",
              "      <th>Polish2C</th>\n",
              "      <th>Price</th>\n",
              "    </tr>\n",
              "  </thead>\n",
              "  <tbody>\n",
              "    <tr>\n",
              "      <th>0</th>\n",
              "      <td>0.92</td>\n",
              "      <td>2</td>\n",
              "      <td>4</td>\n",
              "      <td>1</td>\n",
              "      <td>2</td>\n",
              "      <td>2</td>\n",
              "      <td>3000</td>\n",
              "    </tr>\n",
              "    <tr>\n",
              "      <th>1</th>\n",
              "      <td>0.92</td>\n",
              "      <td>2</td>\n",
              "      <td>4</td>\n",
              "      <td>2</td>\n",
              "      <td>2</td>\n",
              "      <td>1</td>\n",
              "      <td>3000</td>\n",
              "    </tr>\n",
              "    <tr>\n",
              "      <th>2</th>\n",
              "      <td>0.82</td>\n",
              "      <td>2</td>\n",
              "      <td>4</td>\n",
              "      <td>2</td>\n",
              "      <td>2</td>\n",
              "      <td>2</td>\n",
              "      <td>3004</td>\n",
              "    </tr>\n",
              "    <tr>\n",
              "      <th>3</th>\n",
              "      <td>0.81</td>\n",
              "      <td>2</td>\n",
              "      <td>3</td>\n",
              "      <td>2</td>\n",
              "      <td>2</td>\n",
              "      <td>2</td>\n",
              "      <td>3004</td>\n",
              "    </tr>\n",
              "    <tr>\n",
              "      <th>4</th>\n",
              "      <td>0.90</td>\n",
              "      <td>1</td>\n",
              "      <td>7</td>\n",
              "      <td>2</td>\n",
              "      <td>2</td>\n",
              "      <td>2</td>\n",
              "      <td>3006</td>\n",
              "    </tr>\n",
              "    <tr>\n",
              "      <th>...</th>\n",
              "      <td>...</td>\n",
              "      <td>...</td>\n",
              "      <td>...</td>\n",
              "      <td>...</td>\n",
              "      <td>...</td>\n",
              "      <td>...</td>\n",
              "      <td>...</td>\n",
              "    </tr>\n",
              "    <tr>\n",
              "      <th>235</th>\n",
              "      <td>1.10</td>\n",
              "      <td>2</td>\n",
              "      <td>1</td>\n",
              "      <td>2</td>\n",
              "      <td>1</td>\n",
              "      <td>1</td>\n",
              "      <td>2772</td>\n",
              "    </tr>\n",
              "    <tr>\n",
              "      <th>236</th>\n",
              "      <td>1.16</td>\n",
              "      <td>2</td>\n",
              "      <td>1</td>\n",
              "      <td>2</td>\n",
              "      <td>2</td>\n",
              "      <td>1</td>\n",
              "      <td>2775</td>\n",
              "    </tr>\n",
              "    <tr>\n",
              "      <th>237</th>\n",
              "      <td>1.00</td>\n",
              "      <td>2</td>\n",
              "      <td>1</td>\n",
              "      <td>2</td>\n",
              "      <td>2</td>\n",
              "      <td>2</td>\n",
              "      <td>2779</td>\n",
              "    </tr>\n",
              "    <tr>\n",
              "      <th>238</th>\n",
              "      <td>1.00</td>\n",
              "      <td>1</td>\n",
              "      <td>3</td>\n",
              "      <td>1</td>\n",
              "      <td>1</td>\n",
              "      <td>2</td>\n",
              "      <td>2780</td>\n",
              "    </tr>\n",
              "    <tr>\n",
              "      <th>239</th>\n",
              "      <td>1.00</td>\n",
              "      <td>1</td>\n",
              "      <td>3</td>\n",
              "      <td>1</td>\n",
              "      <td>1</td>\n",
              "      <td>1</td>\n",
              "      <td>2780</td>\n",
              "    </tr>\n",
              "  </tbody>\n",
              "</table>\n",
              "<p>240 rows × 7 columns</p>\n",
              "</div>"
            ],
            "text/plain": [
              "     Carat Colour2C ClarityIS Cut2C Cert2G Polish2C  Price\n",
              "0     0.92        2         4     1      2        2   3000\n",
              "1     0.92        2         4     2      2        1   3000\n",
              "2     0.82        2         4     2      2        2   3004\n",
              "3     0.81        2         3     2      2        2   3004\n",
              "4     0.90        1         7     2      2        2   3006\n",
              "..     ...      ...       ...   ...    ...      ...    ...\n",
              "235   1.10        2         1     2      1        1   2772\n",
              "236   1.16        2         1     2      2        1   2775\n",
              "237   1.00        2         1     2      2        2   2779\n",
              "238   1.00        1         3     1      1        2   2780\n",
              "239   1.00        1         3     1      1        1   2780\n",
              "\n",
              "[240 rows x 7 columns]"
            ]
          },
          "metadata": {},
          "execution_count": 49
        }
      ]
    },
    {
      "cell_type": "code",
      "metadata": {
        "colab": {
          "base_uri": "https://localhost:8080/",
          "height": 419
        },
        "id": "KtcEOw4hxSUh",
        "outputId": "dc462c36-9f34-409b-c67b-b65c2ebb45c3"
      },
      "source": [
        "df_lowprice2 = df_lowprice1.rename(columns={'Colour': 'Colour2C', 'Cut': 'Cut2C', 'Certification': 'Cert2G', 'Clarity': 'ClarityIS', 'Polish': 'Polish2C'})\n",
        "df_lowprice2"
      ],
      "execution_count": null,
      "outputs": [
        {
          "output_type": "execute_result",
          "data": {
            "text/html": [
              "<div>\n",
              "<style scoped>\n",
              "    .dataframe tbody tr th:only-of-type {\n",
              "        vertical-align: middle;\n",
              "    }\n",
              "\n",
              "    .dataframe tbody tr th {\n",
              "        vertical-align: top;\n",
              "    }\n",
              "\n",
              "    .dataframe thead th {\n",
              "        text-align: right;\n",
              "    }\n",
              "</style>\n",
              "<table border=\"1\" class=\"dataframe\">\n",
              "  <thead>\n",
              "    <tr style=\"text-align: right;\">\n",
              "      <th></th>\n",
              "      <th>Carat</th>\n",
              "      <th>Colour2C</th>\n",
              "      <th>ClarityIS</th>\n",
              "      <th>Cut2C</th>\n",
              "      <th>Cert2G</th>\n",
              "      <th>Polish2C</th>\n",
              "      <th>Price</th>\n",
              "    </tr>\n",
              "  </thead>\n",
              "  <tbody>\n",
              "    <tr>\n",
              "      <th>240</th>\n",
              "      <td>0.09</td>\n",
              "      <td>2</td>\n",
              "      <td>3</td>\n",
              "      <td>2</td>\n",
              "      <td>1</td>\n",
              "      <td>1</td>\n",
              "      <td>190</td>\n",
              "    </tr>\n",
              "    <tr>\n",
              "      <th>241</th>\n",
              "      <td>0.09</td>\n",
              "      <td>2</td>\n",
              "      <td>3</td>\n",
              "      <td>2</td>\n",
              "      <td>1</td>\n",
              "      <td>1</td>\n",
              "      <td>160</td>\n",
              "    </tr>\n",
              "    <tr>\n",
              "      <th>242</th>\n",
              "      <td>0.09</td>\n",
              "      <td>2</td>\n",
              "      <td>3</td>\n",
              "      <td>2</td>\n",
              "      <td>1</td>\n",
              "      <td>2</td>\n",
              "      <td>160</td>\n",
              "    </tr>\n",
              "    <tr>\n",
              "      <th>243</th>\n",
              "      <td>0.09</td>\n",
              "      <td>2</td>\n",
              "      <td>3</td>\n",
              "      <td>2</td>\n",
              "      <td>1</td>\n",
              "      <td>1</td>\n",
              "      <td>180</td>\n",
              "    </tr>\n",
              "    <tr>\n",
              "      <th>244</th>\n",
              "      <td>0.09</td>\n",
              "      <td>2</td>\n",
              "      <td>6</td>\n",
              "      <td>2</td>\n",
              "      <td>1</td>\n",
              "      <td>2</td>\n",
              "      <td>190</td>\n",
              "    </tr>\n",
              "    <tr>\n",
              "      <th>...</th>\n",
              "      <td>...</td>\n",
              "      <td>...</td>\n",
              "      <td>...</td>\n",
              "      <td>...</td>\n",
              "      <td>...</td>\n",
              "      <td>...</td>\n",
              "      <td>...</td>\n",
              "    </tr>\n",
              "    <tr>\n",
              "      <th>435</th>\n",
              "      <td>0.30</td>\n",
              "      <td>1</td>\n",
              "      <td>8</td>\n",
              "      <td>2</td>\n",
              "      <td>2</td>\n",
              "      <td>2</td>\n",
              "      <td>547</td>\n",
              "    </tr>\n",
              "    <tr>\n",
              "      <th>436</th>\n",
              "      <td>0.30</td>\n",
              "      <td>2</td>\n",
              "      <td>3</td>\n",
              "      <td>1</td>\n",
              "      <td>2</td>\n",
              "      <td>2</td>\n",
              "      <td>559</td>\n",
              "    </tr>\n",
              "    <tr>\n",
              "      <th>437</th>\n",
              "      <td>0.30</td>\n",
              "      <td>2</td>\n",
              "      <td>3</td>\n",
              "      <td>2</td>\n",
              "      <td>2</td>\n",
              "      <td>2</td>\n",
              "      <td>559</td>\n",
              "    </tr>\n",
              "    <tr>\n",
              "      <th>438</th>\n",
              "      <td>0.30</td>\n",
              "      <td>2</td>\n",
              "      <td>3</td>\n",
              "      <td>2</td>\n",
              "      <td>2</td>\n",
              "      <td>2</td>\n",
              "      <td>559</td>\n",
              "    </tr>\n",
              "    <tr>\n",
              "      <th>439</th>\n",
              "      <td>0.30</td>\n",
              "      <td>2</td>\n",
              "      <td>3</td>\n",
              "      <td>2</td>\n",
              "      <td>2</td>\n",
              "      <td>2</td>\n",
              "      <td>559</td>\n",
              "    </tr>\n",
              "  </tbody>\n",
              "</table>\n",
              "<p>200 rows × 7 columns</p>\n",
              "</div>"
            ],
            "text/plain": [
              "     Carat Colour2C ClarityIS Cut2C Cert2G Polish2C  Price\n",
              "240   0.09        2         3     2      1        1    190\n",
              "241   0.09        2         3     2      1        1    160\n",
              "242   0.09        2         3     2      1        2    160\n",
              "243   0.09        2         3     2      1        1    180\n",
              "244   0.09        2         6     2      1        2    190\n",
              "..     ...      ...       ...   ...    ...      ...    ...\n",
              "435   0.30        1         8     2      2        2    547\n",
              "436   0.30        2         3     1      2        2    559\n",
              "437   0.30        2         3     2      2        2    559\n",
              "438   0.30        2         3     2      2        2    559\n",
              "439   0.30        2         3     2      2        2    559\n",
              "\n",
              "[200 rows x 7 columns]"
            ]
          },
          "metadata": {},
          "execution_count": 13
        }
      ]
    },
    {
      "cell_type": "markdown",
      "metadata": {
        "id": "cRP0XLgmmNMW"
      },
      "source": [
        "## **Cross Validation on the dataframe**\n",
        "\n",
        "Here, I am importing the two predictor dataframes which has the predictor variables and response variable as well. The predictor datasets are for high priced diamonds and low priced diamonds. The datasets were found after extensive EDA in assignment 01. The predictor variables here are Carat, Colour2C, ClarityIS, Cut2C, Cert2G and Polish2C."
      ]
    },
    {
      "cell_type": "markdown",
      "metadata": {
        "id": "9imsTzyCyQtW"
      },
      "source": [
        "# **Creating the traning data for high priced diamonds**"
      ]
    },
    {
      "cell_type": "code",
      "metadata": {
        "colab": {
          "base_uri": "https://localhost:8080/"
        },
        "id": "DXTnDAoeLwfW",
        "outputId": "86acc940-5f42-468f-aca6-413fdd0ad531"
      },
      "source": [
        "X=df_highprice2.drop(columns=['Price'])\n",
        "X=X.drop(columns=['Cert2G'])\n",
        "X=X.drop(columns=['Polish2C'])\n",
        "X\n",
        "print(X)"
      ],
      "execution_count": null,
      "outputs": [
        {
          "output_type": "stream",
          "name": "stdout",
          "text": [
            "     Carat Colour2C ClarityIS Cut2C\n",
            "0     0.92        2         4     1\n",
            "1     0.92        2         4     2\n",
            "2     0.82        2         4     2\n",
            "3     0.81        2         3     2\n",
            "4     0.90        1         7     2\n",
            "..     ...      ...       ...   ...\n",
            "235   1.10        2         1     2\n",
            "236   1.16        2         1     2\n",
            "237   1.00        2         1     2\n",
            "238   1.00        1         3     1\n",
            "239   1.00        1         3     1\n",
            "\n",
            "[240 rows x 4 columns]\n"
          ]
        }
      ]
    },
    {
      "cell_type": "code",
      "metadata": {
        "colab": {
          "base_uri": "https://localhost:8080/"
        },
        "id": "7ss3ExDWQbKe",
        "outputId": "5c2a28de-6521-452e-8930-5a31f1a8619a"
      },
      "source": [
        "y = df_highprice2.Price\n",
        "y"
      ],
      "execution_count": null,
      "outputs": [
        {
          "output_type": "execute_result",
          "data": {
            "text/plain": [
              "0      3000\n",
              "1      3000\n",
              "2      3004\n",
              "3      3004\n",
              "4      3006\n",
              "       ... \n",
              "235    2772\n",
              "236    2775\n",
              "237    2779\n",
              "238    2780\n",
              "239    2780\n",
              "Name: Price, Length: 240, dtype: int64"
            ]
          },
          "metadata": {},
          "execution_count": 64
        }
      ]
    },
    {
      "cell_type": "code",
      "metadata": {
        "id": "-D6qLMPTQ4P-"
      },
      "source": [
        "from sklearn.linear_model import LinearRegression\n",
        "import numpy as np\n",
        "import matplotlib.pyplot as plt"
      ],
      "execution_count": null,
      "outputs": []
    },
    {
      "cell_type": "markdown",
      "metadata": {
        "id": "D6LWm-u05CQG"
      },
      "source": [
        "**Creating our testing data from Professor's diamond ring requirements**"
      ]
    },
    {
      "cell_type": "code",
      "metadata": {
        "colab": {
          "base_uri": "https://localhost:8080/"
        },
        "id": "Ph1rX4abai6c",
        "outputId": "e08b4d03-fbff-4be2-f617-4914a85d631e"
      },
      "source": [
        "import pandas as pd\n",
        "  \n",
        "# Creating our testing data from Professor's diamond ring requirements\n",
        "X_test = {'Carat':[0.9], 'Colour2C':['J'], 'ClarityIS':['S12'], 'Cut2C':['Very Good']}\n",
        "X_test"
      ],
      "execution_count": null,
      "outputs": [
        {
          "output_type": "execute_result",
          "data": {
            "text/plain": [
              "{'Carat': [0.9],\n",
              " 'ClarityIS': ['S12'],\n",
              " 'Colour2C': ['J'],\n",
              " 'Cut2C': ['Very Good']}"
            ]
          },
          "metadata": {},
          "execution_count": 66
        }
      ]
    },
    {
      "cell_type": "code",
      "metadata": {
        "colab": {
          "base_uri": "https://localhost:8080/",
          "height": 80
        },
        "id": "tKtL-XxddhBK",
        "outputId": "ed18b89c-0d3a-496b-f9c1-a90ae9a0fc9b"
      },
      "source": [
        "# Creating our testing data frame by putting relevant dummy variables\n",
        "X_test = {'Carat':[0.9], 'Colour2C':[1], 'ClarityIS':[4], 'Cut2C':[2]}\n",
        "\n",
        "X_test=pd.DataFrame.from_dict(X_test)\n",
        "X_test\n"
      ],
      "execution_count": null,
      "outputs": [
        {
          "output_type": "execute_result",
          "data": {
            "text/html": [
              "<div>\n",
              "<style scoped>\n",
              "    .dataframe tbody tr th:only-of-type {\n",
              "        vertical-align: middle;\n",
              "    }\n",
              "\n",
              "    .dataframe tbody tr th {\n",
              "        vertical-align: top;\n",
              "    }\n",
              "\n",
              "    .dataframe thead th {\n",
              "        text-align: right;\n",
              "    }\n",
              "</style>\n",
              "<table border=\"1\" class=\"dataframe\">\n",
              "  <thead>\n",
              "    <tr style=\"text-align: right;\">\n",
              "      <th></th>\n",
              "      <th>Carat</th>\n",
              "      <th>Colour2C</th>\n",
              "      <th>ClarityIS</th>\n",
              "      <th>Cut2C</th>\n",
              "    </tr>\n",
              "  </thead>\n",
              "  <tbody>\n",
              "    <tr>\n",
              "      <th>0</th>\n",
              "      <td>0.9</td>\n",
              "      <td>1</td>\n",
              "      <td>4</td>\n",
              "      <td>2</td>\n",
              "    </tr>\n",
              "  </tbody>\n",
              "</table>\n",
              "</div>"
            ],
            "text/plain": [
              "   Carat  Colour2C  ClarityIS  Cut2C\n",
              "0    0.9         1          4      2"
            ]
          },
          "metadata": {},
          "execution_count": 67
        }
      ]
    },
    {
      "cell_type": "code",
      "metadata": {
        "id": "aL4tnftnQ_9V"
      },
      "source": [
        "import sklearn.model_selection\n",
        "# from sklearn.model_selection import train_test_split\n",
        "# X_train, X_test, y_train, y_test = train_test_split(X,y1,train_size=0.8)"
      ],
      "execution_count": null,
      "outputs": []
    },
    {
      "cell_type": "code",
      "metadata": {
        "id": "xwnWJcZtRLHB"
      },
      "source": [
        "model = LinearRegression()"
      ],
      "execution_count": null,
      "outputs": []
    },
    {
      "cell_type": "code",
      "metadata": {
        "colab": {
          "base_uri": "https://localhost:8080/"
        },
        "id": "7ik4TKzMRS_p",
        "outputId": "577d8bda-9a0f-49b0-a28d-5dbd1d3531c9"
      },
      "source": [
        "model.fit(X, y)\n"
      ],
      "execution_count": null,
      "outputs": [
        {
          "output_type": "execute_result",
          "data": {
            "text/plain": [
              "LinearRegression()"
            ]
          },
          "metadata": {},
          "execution_count": 76
        }
      ]
    },
    {
      "cell_type": "code",
      "metadata": {
        "colab": {
          "base_uri": "https://localhost:8080/"
        },
        "id": "4wghpr81gO53",
        "outputId": "fa12399e-6439-4de0-ce22-8dfa6b081b04"
      },
      "source": [
        "model.predict(X_test)"
      ],
      "execution_count": null,
      "outputs": [
        {
          "output_type": "execute_result",
          "data": {
            "text/plain": [
              "array([2832.8722859])"
            ]
          },
          "metadata": {},
          "execution_count": 77
        }
      ]
    },
    {
      "cell_type": "markdown",
      "metadata": {
        "id": "bRQSNSppR6Gv"
      },
      "source": [
        "# **cross_val_score function**"
      ]
    },
    {
      "cell_type": "markdown",
      "metadata": {
        "id": "zvGFndtgR-eW"
      },
      "source": [
        "Scikit-learn's cross_val_score() method requires four parameters. First, we have the estimator or the specific model that we want to use, here, I used linear regression. Next, we use X to specify the complete training dataset and y to specify the response values. Lastly, the parameter cv allows us to specify the number of cross-validation splits (or folds). Here, I applied 5-fold, 3-fold and 10-fold cross-validation. By default, cross_val_score() will use a default scoring function for whichever model have been specified. For most regression models, it will return the R-squared value."
      ]
    },
    {
      "cell_type": "code",
      "metadata": {
        "id": "Yc_AkCs8R28O"
      },
      "source": [
        "from sklearn.model_selection import cross_val_score\n",
        "# Load the mean squared error method\n",
        "# Load the function for creating a scorer\n",
        "from sklearn.metrics import mean_squared_error, make_scorer"
      ],
      "execution_count": null,
      "outputs": []
    },
    {
      "cell_type": "markdown",
      "metadata": {
        "id": "rVfARlwe4OO5"
      },
      "source": [
        "Running 5-fold CV on training data "
      ]
    },
    {
      "cell_type": "code",
      "metadata": {
        "colab": {
          "base_uri": "https://localhost:8080/"
        },
        "id": "z9XSF0vdSTSl",
        "outputId": "a67bc78c-e73c-4958-a13f-01205b24cbbc"
      },
      "source": [
        "scores = cross_val_score(model, X, y, cv=5, scoring=make_scorer(mean_squared_error))\n",
        "scores\n",
        "print(scores.mean())"
      ],
      "execution_count": null,
      "outputs": [
        {
          "output_type": "stream",
          "name": "stdout",
          "text": [
            "138011.65540115273\n"
          ]
        }
      ]
    },
    {
      "cell_type": "markdown",
      "metadata": {
        "id": "lxhsljvk4d7-"
      },
      "source": [
        "Running 3-fold CV on training data "
      ]
    },
    {
      "cell_type": "code",
      "metadata": {
        "colab": {
          "base_uri": "https://localhost:8080/"
        },
        "id": "NqiZQ2BgWBn2",
        "outputId": "022901ab-3661-4eaf-cc36-fba091ad24ff"
      },
      "source": [
        "scores = cross_val_score(model, X, y, cv=3, scoring=make_scorer(mean_squared_error))\n",
        "scores\n",
        "print(scores.mean())"
      ],
      "execution_count": null,
      "outputs": [
        {
          "output_type": "stream",
          "name": "stdout",
          "text": [
            "119821.59211327613\n"
          ]
        }
      ]
    },
    {
      "cell_type": "markdown",
      "metadata": {
        "id": "OAbZv1vo4gbs"
      },
      "source": [
        "Running 10-fold CV on training data "
      ]
    },
    {
      "cell_type": "code",
      "metadata": {
        "colab": {
          "base_uri": "https://localhost:8080/"
        },
        "id": "N_IUOzFeWFWn",
        "outputId": "d3f720a2-a634-4e9a-ce7c-9d0ce8e7b948"
      },
      "source": [
        "scores = cross_val_score(model, X, y, cv=10, scoring=make_scorer(mean_squared_error))\n",
        "scores\n",
        "print(scores.mean())"
      ],
      "execution_count": null,
      "outputs": [
        {
          "output_type": "stream",
          "name": "stdout",
          "text": [
            "126767.27383924715\n"
          ]
        }
      ]
    },
    {
      "cell_type": "markdown",
      "metadata": {
        "id": "B-56qpVPgn9h"
      },
      "source": [
        "# **Bootstrap method for high priced diamond dataframe**"
      ]
    },
    {
      "cell_type": "code",
      "metadata": {
        "colab": {
          "base_uri": "https://localhost:8080/"
        },
        "id": "QzSxabbIpEXd",
        "outputId": "44ea0946-9350-42ad-e7d8-88899677a759"
      },
      "source": [
        "X_new = X.astype(float)\n",
        "X_new.dtypes\n",
        "y_new = y.astype(float)\n",
        "y_new.dtypes"
      ],
      "execution_count": null,
      "outputs": [
        {
          "output_type": "execute_result",
          "data": {
            "text/plain": [
              "dtype('float64')"
            ]
          },
          "metadata": {},
          "execution_count": 88
        }
      ]
    },
    {
      "cell_type": "markdown",
      "metadata": {
        "id": "ofcfm5TN4kVF"
      },
      "source": [
        "**Preparing bootstrap sample 3 times the size**"
      ]
    },
    {
      "cell_type": "markdown",
      "metadata": {
        "id": "OsGKtf22zGuI"
      },
      "source": [
        "Here we are sampling our original dataframe 3 times with random probability distribution"
      ]
    },
    {
      "cell_type": "code",
      "metadata": {
        "colab": {
          "base_uri": "https://localhost:8080/"
        },
        "id": "rDPj4fHaheLo",
        "outputId": "821fe373-17d9-47de-938f-755c34715454"
      },
      "source": [
        "\n",
        "import numpy as np\n",
        "from imblearn import FunctionSampler\n",
        "X_hetero=X_new.to_numpy()\n",
        "\n",
        "y_hetero=y_new.to_numpy()\n",
        "\n",
        "rng = np.random.RandomState(33)\n",
        "\n",
        "number_of_samples=3\n",
        "\n",
        "def dummy_sampler(Z, w):\n",
        "    indices = rng.choice(np.arange(Z.shape[0]), size=(number_of_samples*len(X_hetero)))\n",
        "    return Z[indices], w[indices]\n",
        "sampler = FunctionSampler(func=dummy_sampler, validate=False)\n",
        "X_res, y_res = sampler.fit_resample(X_hetero, y_hetero)\n",
        "y_train_bs = pd.DataFrame(y_res, columns = ['Price'])\n",
        "print(y_train_bs)\n",
        "X_train_bs = pd.DataFrame(X_res, columns = ['Carat', 'Colour2C', 'ClarityIS', 'Cut2C'])\n",
        "print(X_train_bs)\n",
        "# print(X)\n",
        "# print(y)"
      ],
      "execution_count": null,
      "outputs": [
        {
          "output_type": "stream",
          "name": "stdout",
          "text": [
            "      Price\n",
            "0    3031.0\n",
            "1    3102.0\n",
            "2    2682.0\n",
            "3    1988.0\n",
            "4    3112.0\n",
            "..      ...\n",
            "715  3012.0\n",
            "716  2601.0\n",
            "717  3004.0\n",
            "718  1988.0\n",
            "719  3130.0\n",
            "\n",
            "[720 rows x 1 columns]\n",
            "     Carat  Colour2C  ClarityIS  Cut2C\n",
            "0     0.81       2.0        4.0    2.0\n",
            "1     1.01       2.0        4.0    1.0\n",
            "2     1.00       1.0        4.0    2.0\n",
            "3     1.23       2.0        2.0    1.0\n",
            "4     1.14       2.0        1.0    1.0\n",
            "..     ...       ...        ...    ...\n",
            "715   0.80       2.0        4.0    2.0\n",
            "716   1.02       2.0        1.0    1.0\n",
            "717   0.82       2.0        4.0    2.0\n",
            "718   1.23       2.0        2.0    1.0\n",
            "719   1.02       2.0        5.0    2.0\n",
            "\n",
            "[720 rows x 4 columns]\n"
          ]
        }
      ]
    },
    {
      "cell_type": "code",
      "metadata": {
        "id": "bQo3rFcVs-vO"
      },
      "source": [
        "import sklearn.model_selection"
      ],
      "execution_count": null,
      "outputs": []
    },
    {
      "cell_type": "code",
      "metadata": {
        "id": "k4i6vtditF0s"
      },
      "source": [
        "model = LinearRegression()"
      ],
      "execution_count": null,
      "outputs": []
    },
    {
      "cell_type": "code",
      "metadata": {
        "colab": {
          "base_uri": "https://localhost:8080/"
        },
        "id": "hHxVaTOotK-r",
        "outputId": "d32e18b3-91fe-4a3e-b424-9df9635b412e"
      },
      "source": [
        "model.fit(X_train_bs, y_train_bs)"
      ],
      "execution_count": null,
      "outputs": [
        {
          "output_type": "execute_result",
          "data": {
            "text/plain": [
              "LinearRegression()"
            ]
          },
          "metadata": {},
          "execution_count": 99
        }
      ]
    },
    {
      "cell_type": "code",
      "metadata": {
        "colab": {
          "base_uri": "https://localhost:8080/"
        },
        "id": "DKP6--XztQVM",
        "outputId": "8dae9c95-0d1c-4713-b21f-b22c231e82af"
      },
      "source": [
        "model.predict(X_test)"
      ],
      "execution_count": null,
      "outputs": [
        {
          "output_type": "execute_result",
          "data": {
            "text/plain": [
              "array([[2874.73374529]])"
            ]
          },
          "metadata": {},
          "execution_count": 100
        }
      ]
    },
    {
      "cell_type": "markdown",
      "metadata": {
        "id": "mDK8iZGZ4tXN"
      },
      "source": [
        "**Preparing bootstrap sample 10 times the size**"
      ]
    },
    {
      "cell_type": "code",
      "metadata": {
        "colab": {
          "base_uri": "https://localhost:8080/"
        },
        "id": "7morSiFBthi8",
        "outputId": "5cfe78ca-b91d-4cf8-866a-e04608d6cc98"
      },
      "source": [
        "number_of_samples=10\n",
        "\n",
        "def dummy_sampler(Z, w):\n",
        "    indices = rng.choice(np.arange(Z.shape[0]), size=(number_of_samples*len(X_hetero)))\n",
        "    return Z[indices], w[indices]\n",
        "sampler = FunctionSampler(func=dummy_sampler, validate=False)\n",
        "X_res, y_res = sampler.fit_resample(X_hetero, y_hetero)\n",
        "y_train_bs1 = pd.DataFrame(y_res, columns = ['Price'])\n",
        "len(y_train_bs1)\n",
        "X_train_bs1 = pd.DataFrame(X_res, columns = ['Carat', 'Colour2C', 'ClarityIS', 'Cut2C'])\n",
        "len(X_train_bs1)"
      ],
      "execution_count": null,
      "outputs": [
        {
          "output_type": "execute_result",
          "data": {
            "text/plain": [
              "2400"
            ]
          },
          "metadata": {},
          "execution_count": 101
        }
      ]
    },
    {
      "cell_type": "code",
      "metadata": {
        "colab": {
          "base_uri": "https://localhost:8080/"
        },
        "id": "DnssDayqt2W8",
        "outputId": "b6b3d549-be4e-4c19-e013-1254d31b4d4e"
      },
      "source": [
        "model = LinearRegression()\n",
        "model.fit(X_train_bs1, y_train_bs1)\n",
        "model.predict(X_test)\n"
      ],
      "execution_count": null,
      "outputs": [
        {
          "output_type": "execute_result",
          "data": {
            "text/plain": [
              "array([[2815.94944113]])"
            ]
          },
          "metadata": {},
          "execution_count": 102
        }
      ]
    }
  ]
}