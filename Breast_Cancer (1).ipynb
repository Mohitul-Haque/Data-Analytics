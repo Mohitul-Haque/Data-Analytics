{
  "nbformat": 4,
  "nbformat_minor": 0,
  "metadata": {
    "colab": {
      "provenance": []
    },
    "kernelspec": {
      "name": "python3",
      "display_name": "Python 3"
    },
    "language_info": {
      "name": "python"
    }
  },
  "cells": [
    {
      "cell_type": "code",
      "execution_count": null,
      "metadata": {
        "id": "3awSvxgHKlU4"
      },
      "outputs": [],
      "source": [
        "import numpy as np\n",
        "import pandas as pd\n",
        "import matplotlib.pyplot as plt\n",
        "import seaborn as sns\n",
        "import warnings\n",
        "warnings.filterwarnings('ignore')"
      ]
    },
    {
      "cell_type": "code",
      "source": [
        "\n",
        "filename = 'breast-cancer-wisconsin.data.txt'\n",
        "# importing pandas\n",
        "import pandas as pd\n",
        "  \n",
        "# read text file into pandas DataFrame\n",
        "df = pd.read_csv(filename, sep=\",\")\n",
        "  \n",
        "# display DataFrame\n",
        "print(df)"
      ],
      "metadata": {
        "colab": {
          "base_uri": "https://localhost:8080/"
        },
        "id": "l3er9_u1K0SP",
        "outputId": "9ad45131-b126-46bb-e609-24fab587487c"
      },
      "execution_count": null,
      "outputs": [
        {
          "output_type": "stream",
          "name": "stdout",
          "text": [
            "     Column1  Column2  Column3  Column4  Column5  Column6 Column7  Column8  \\\n",
            "0    1000025        5        1        1        1        2       1        3   \n",
            "1    1002945        5        4        4        5        7      10        3   \n",
            "2    1015425        3        1        1        1        2       2        3   \n",
            "3    1016277        6        8        8        1        3       4        3   \n",
            "4    1017023        4        1        1        3        2       1        3   \n",
            "..       ...      ...      ...      ...      ...      ...     ...      ...   \n",
            "694   776715        3        1        1        1        3       2        1   \n",
            "695   841769        2        1        1        1        2       1        1   \n",
            "696   888820        5       10       10        3        7       3        8   \n",
            "697   897471        4        8        6        4        3       4       10   \n",
            "698   897471        4        8        8        5        4       5       10   \n",
            "\n",
            "     Column9  Column10  Target  \n",
            "0          1         1       2  \n",
            "1          2         1       2  \n",
            "2          1         1       2  \n",
            "3          7         1       2  \n",
            "4          1         1       2  \n",
            "..       ...       ...     ...  \n",
            "694        1         1       2  \n",
            "695        1         1       2  \n",
            "696       10         2       4  \n",
            "697        6         1       4  \n",
            "698        4         1       4  \n",
            "\n",
            "[699 rows x 11 columns]\n"
          ]
        }
      ]
    },
    {
      "cell_type": "code",
      "source": [
        "df1 = df.iloc[: , 1:]\n",
        "print(df1)"
      ],
      "metadata": {
        "colab": {
          "base_uri": "https://localhost:8080/"
        },
        "id": "XgCQRz6dMAUO",
        "outputId": "12c71cb9-0911-4025-9a30-a5f4a9ecd781"
      },
      "execution_count": null,
      "outputs": [
        {
          "output_type": "stream",
          "name": "stdout",
          "text": [
            "     Column2  Column3  Column4  Column5  Column6 Column7  Column8  Column9  \\\n",
            "0          5        1        1        1        2       1        3        1   \n",
            "1          5        4        4        5        7      10        3        2   \n",
            "2          3        1        1        1        2       2        3        1   \n",
            "3          6        8        8        1        3       4        3        7   \n",
            "4          4        1        1        3        2       1        3        1   \n",
            "..       ...      ...      ...      ...      ...     ...      ...      ...   \n",
            "694        3        1        1        1        3       2        1        1   \n",
            "695        2        1        1        1        2       1        1        1   \n",
            "696        5       10       10        3        7       3        8       10   \n",
            "697        4        8        6        4        3       4       10        6   \n",
            "698        4        8        8        5        4       5       10        4   \n",
            "\n",
            "     Column10  Target  \n",
            "0           1       2  \n",
            "1           1       2  \n",
            "2           1       2  \n",
            "3           1       2  \n",
            "4           1       2  \n",
            "..        ...     ...  \n",
            "694         1       2  \n",
            "695         1       2  \n",
            "696         2       4  \n",
            "697         1       4  \n",
            "698         1       4  \n",
            "\n",
            "[699 rows x 10 columns]\n"
          ]
        }
      ]
    },
    {
      "cell_type": "code",
      "source": [
        "# looking to the data info\n",
        "df1.info()"
      ],
      "metadata": {
        "colab": {
          "base_uri": "https://localhost:8080/"
        },
        "id": "Q6hQtmsAMIDH",
        "outputId": "cfa018bf-5573-4e42-8eb6-945e39913454"
      },
      "execution_count": null,
      "outputs": [
        {
          "output_type": "stream",
          "name": "stdout",
          "text": [
            "<class 'pandas.core.frame.DataFrame'>\n",
            "RangeIndex: 699 entries, 0 to 698\n",
            "Data columns (total 10 columns):\n",
            " #   Column    Non-Null Count  Dtype \n",
            "---  ------    --------------  ----- \n",
            " 0   Column2   699 non-null    int64 \n",
            " 1   Column3   699 non-null    int64 \n",
            " 2   Column4   699 non-null    int64 \n",
            " 3   Column5   699 non-null    int64 \n",
            " 4   Column6   699 non-null    int64 \n",
            " 5   Column7   699 non-null    object\n",
            " 6   Column8   699 non-null    int64 \n",
            " 7   Column9   699 non-null    int64 \n",
            " 8   Column10  699 non-null    int64 \n",
            " 9   Target    699 non-null    int64 \n",
            "dtypes: int64(9), object(1)\n",
            "memory usage: 54.7+ KB\n"
          ]
        }
      ]
    },
    {
      "cell_type": "code",
      "source": [
        "print(df1)"
      ],
      "metadata": {
        "colab": {
          "base_uri": "https://localhost:8080/"
        },
        "id": "gmDqyLVEOFWz",
        "outputId": "6c392ca5-edd1-4250-f01d-06d809552427"
      },
      "execution_count": null,
      "outputs": [
        {
          "output_type": "stream",
          "name": "stdout",
          "text": [
            "     Column2  Column3  Column4  Column5  Column6 Column7  Column8  Column9  \\\n",
            "0          5        1        1        1        2       1        3        1   \n",
            "1          5        4        4        5        7      10        3        2   \n",
            "2          3        1        1        1        2       2        3        1   \n",
            "3          6        8        8        1        3       4        3        7   \n",
            "4          4        1        1        3        2       1        3        1   \n",
            "..       ...      ...      ...      ...      ...     ...      ...      ...   \n",
            "694        3        1        1        1        3       2        1        1   \n",
            "695        2        1        1        1        2       1        1        1   \n",
            "696        5       10       10        3        7       3        8       10   \n",
            "697        4        8        6        4        3       4       10        6   \n",
            "698        4        8        8        5        4       5       10        4   \n",
            "\n",
            "     Column10  Target  \n",
            "0           1       2  \n",
            "1           1       2  \n",
            "2           1       2  \n",
            "3           1       2  \n",
            "4           1       2  \n",
            "..        ...     ...  \n",
            "694         1       2  \n",
            "695         1       2  \n",
            "696         2       4  \n",
            "697         1       4  \n",
            "698         1       4  \n",
            "\n",
            "[699 rows x 10 columns]\n"
          ]
        }
      ]
    },
    {
      "cell_type": "code",
      "source": [
        "df1 = df1[df1.Column7 != '?']\n",
        "print(df1)"
      ],
      "metadata": {
        "colab": {
          "base_uri": "https://localhost:8080/"
        },
        "id": "IDuIfHayOhSz",
        "outputId": "8344c369-f1d2-45f0-9e88-debb29c9ba7f"
      },
      "execution_count": null,
      "outputs": [
        {
          "output_type": "stream",
          "name": "stdout",
          "text": [
            "     Column2  Column3  Column4  Column5  Column6 Column7  Column8  Column9  \\\n",
            "0          5        1        1        1        2       1        3        1   \n",
            "1          5        4        4        5        7      10        3        2   \n",
            "2          3        1        1        1        2       2        3        1   \n",
            "3          6        8        8        1        3       4        3        7   \n",
            "4          4        1        1        3        2       1        3        1   \n",
            "..       ...      ...      ...      ...      ...     ...      ...      ...   \n",
            "694        3        1        1        1        3       2        1        1   \n",
            "695        2        1        1        1        2       1        1        1   \n",
            "696        5       10       10        3        7       3        8       10   \n",
            "697        4        8        6        4        3       4       10        6   \n",
            "698        4        8        8        5        4       5       10        4   \n",
            "\n",
            "     Column10  Target  \n",
            "0           1       2  \n",
            "1           1       2  \n",
            "2           1       2  \n",
            "3           1       2  \n",
            "4           1       2  \n",
            "..        ...     ...  \n",
            "694         1       2  \n",
            "695         1       2  \n",
            "696         2       4  \n",
            "697         1       4  \n",
            "698         1       4  \n",
            "\n",
            "[683 rows x 10 columns]\n"
          ]
        }
      ]
    },
    {
      "cell_type": "code",
      "source": [
        "# looking to the data info\n",
        "df1.info()"
      ],
      "metadata": {
        "colab": {
          "base_uri": "https://localhost:8080/"
        },
        "id": "JOQEqyn2Ov9Z",
        "outputId": "31a5b11b-7063-4412-914b-a0655885cbb1"
      },
      "execution_count": null,
      "outputs": [
        {
          "output_type": "stream",
          "name": "stdout",
          "text": [
            "<class 'pandas.core.frame.DataFrame'>\n",
            "Int64Index: 683 entries, 0 to 698\n",
            "Data columns (total 10 columns):\n",
            " #   Column    Non-Null Count  Dtype \n",
            "---  ------    --------------  ----- \n",
            " 0   Column2   683 non-null    int64 \n",
            " 1   Column3   683 non-null    int64 \n",
            " 2   Column4   683 non-null    int64 \n",
            " 3   Column5   683 non-null    int64 \n",
            " 4   Column6   683 non-null    int64 \n",
            " 5   Column7   683 non-null    object\n",
            " 6   Column8   683 non-null    int64 \n",
            " 7   Column9   683 non-null    int64 \n",
            " 8   Column10  683 non-null    int64 \n",
            " 9   Target    683 non-null    int64 \n",
            "dtypes: int64(9), object(1)\n",
            "memory usage: 58.7+ KB\n"
          ]
        }
      ]
    },
    {
      "cell_type": "code",
      "source": [
        "# Convert all columns to floats\n",
        "df1 = df1.astype(float)\n",
        "df1.info()"
      ],
      "metadata": {
        "colab": {
          "base_uri": "https://localhost:8080/"
        },
        "id": "AZEbyiRfQlCL",
        "outputId": "102d831d-db80-42d1-873d-909763cb82a7"
      },
      "execution_count": null,
      "outputs": [
        {
          "output_type": "stream",
          "name": "stdout",
          "text": [
            "<class 'pandas.core.frame.DataFrame'>\n",
            "Int64Index: 683 entries, 0 to 698\n",
            "Data columns (total 10 columns):\n",
            " #   Column    Non-Null Count  Dtype  \n",
            "---  ------    --------------  -----  \n",
            " 0   Column2   683 non-null    float64\n",
            " 1   Column3   683 non-null    float64\n",
            " 2   Column4   683 non-null    float64\n",
            " 3   Column5   683 non-null    float64\n",
            " 4   Column6   683 non-null    float64\n",
            " 5   Column7   683 non-null    float64\n",
            " 6   Column8   683 non-null    float64\n",
            " 7   Column9   683 non-null    float64\n",
            " 8   Column10  683 non-null    float64\n",
            " 9   Target    683 non-null    float64\n",
            "dtypes: float64(10)\n",
            "memory usage: 58.7 KB\n"
          ]
        }
      ]
    },
    {
      "cell_type": "code",
      "source": [
        "# summary statistic of the data \n",
        "df1.describe()"
      ],
      "metadata": {
        "colab": {
          "base_uri": "https://localhost:8080/",
          "height": 299
        },
        "id": "PMQjTbKiQszR",
        "outputId": "4e589ac5-6c33-401c-8c41-050446b64350"
      },
      "execution_count": null,
      "outputs": [
        {
          "output_type": "execute_result",
          "data": {
            "text/plain": [
              "          Column2     Column3     Column4     Column5     Column6     Column7  \\\n",
              "count  683.000000  683.000000  683.000000  683.000000  683.000000  683.000000   \n",
              "mean     4.442167    3.150805    3.215227    2.830161    3.234261    3.544656   \n",
              "std      2.820761    3.065145    2.988581    2.864562    2.223085    3.643857   \n",
              "min      1.000000    1.000000    1.000000    1.000000    1.000000    1.000000   \n",
              "25%      2.000000    1.000000    1.000000    1.000000    2.000000    1.000000   \n",
              "50%      4.000000    1.000000    1.000000    1.000000    2.000000    1.000000   \n",
              "75%      6.000000    5.000000    5.000000    4.000000    4.000000    6.000000   \n",
              "max     10.000000   10.000000   10.000000   10.000000   10.000000   10.000000   \n",
              "\n",
              "          Column8     Column9    Column10      Target  \n",
              "count  683.000000  683.000000  683.000000  683.000000  \n",
              "mean     3.445095    2.869693    1.603221    2.699854  \n",
              "std      2.449697    3.052666    1.732674    0.954592  \n",
              "min      1.000000    1.000000    1.000000    2.000000  \n",
              "25%      2.000000    1.000000    1.000000    2.000000  \n",
              "50%      3.000000    1.000000    1.000000    2.000000  \n",
              "75%      5.000000    4.000000    1.000000    4.000000  \n",
              "max     10.000000   10.000000   10.000000    4.000000  "
            ],
            "text/html": [
              "\n",
              "  <div id=\"df-91f8092d-2e5a-404f-8ac3-69763ef3f195\">\n",
              "    <div class=\"colab-df-container\">\n",
              "      <div>\n",
              "<style scoped>\n",
              "    .dataframe tbody tr th:only-of-type {\n",
              "        vertical-align: middle;\n",
              "    }\n",
              "\n",
              "    .dataframe tbody tr th {\n",
              "        vertical-align: top;\n",
              "    }\n",
              "\n",
              "    .dataframe thead th {\n",
              "        text-align: right;\n",
              "    }\n",
              "</style>\n",
              "<table border=\"1\" class=\"dataframe\">\n",
              "  <thead>\n",
              "    <tr style=\"text-align: right;\">\n",
              "      <th></th>\n",
              "      <th>Column2</th>\n",
              "      <th>Column3</th>\n",
              "      <th>Column4</th>\n",
              "      <th>Column5</th>\n",
              "      <th>Column6</th>\n",
              "      <th>Column7</th>\n",
              "      <th>Column8</th>\n",
              "      <th>Column9</th>\n",
              "      <th>Column10</th>\n",
              "      <th>Target</th>\n",
              "    </tr>\n",
              "  </thead>\n",
              "  <tbody>\n",
              "    <tr>\n",
              "      <th>count</th>\n",
              "      <td>683.000000</td>\n",
              "      <td>683.000000</td>\n",
              "      <td>683.000000</td>\n",
              "      <td>683.000000</td>\n",
              "      <td>683.000000</td>\n",
              "      <td>683.000000</td>\n",
              "      <td>683.000000</td>\n",
              "      <td>683.000000</td>\n",
              "      <td>683.000000</td>\n",
              "      <td>683.000000</td>\n",
              "    </tr>\n",
              "    <tr>\n",
              "      <th>mean</th>\n",
              "      <td>4.442167</td>\n",
              "      <td>3.150805</td>\n",
              "      <td>3.215227</td>\n",
              "      <td>2.830161</td>\n",
              "      <td>3.234261</td>\n",
              "      <td>3.544656</td>\n",
              "      <td>3.445095</td>\n",
              "      <td>2.869693</td>\n",
              "      <td>1.603221</td>\n",
              "      <td>2.699854</td>\n",
              "    </tr>\n",
              "    <tr>\n",
              "      <th>std</th>\n",
              "      <td>2.820761</td>\n",
              "      <td>3.065145</td>\n",
              "      <td>2.988581</td>\n",
              "      <td>2.864562</td>\n",
              "      <td>2.223085</td>\n",
              "      <td>3.643857</td>\n",
              "      <td>2.449697</td>\n",
              "      <td>3.052666</td>\n",
              "      <td>1.732674</td>\n",
              "      <td>0.954592</td>\n",
              "    </tr>\n",
              "    <tr>\n",
              "      <th>min</th>\n",
              "      <td>1.000000</td>\n",
              "      <td>1.000000</td>\n",
              "      <td>1.000000</td>\n",
              "      <td>1.000000</td>\n",
              "      <td>1.000000</td>\n",
              "      <td>1.000000</td>\n",
              "      <td>1.000000</td>\n",
              "      <td>1.000000</td>\n",
              "      <td>1.000000</td>\n",
              "      <td>2.000000</td>\n",
              "    </tr>\n",
              "    <tr>\n",
              "      <th>25%</th>\n",
              "      <td>2.000000</td>\n",
              "      <td>1.000000</td>\n",
              "      <td>1.000000</td>\n",
              "      <td>1.000000</td>\n",
              "      <td>2.000000</td>\n",
              "      <td>1.000000</td>\n",
              "      <td>2.000000</td>\n",
              "      <td>1.000000</td>\n",
              "      <td>1.000000</td>\n",
              "      <td>2.000000</td>\n",
              "    </tr>\n",
              "    <tr>\n",
              "      <th>50%</th>\n",
              "      <td>4.000000</td>\n",
              "      <td>1.000000</td>\n",
              "      <td>1.000000</td>\n",
              "      <td>1.000000</td>\n",
              "      <td>2.000000</td>\n",
              "      <td>1.000000</td>\n",
              "      <td>3.000000</td>\n",
              "      <td>1.000000</td>\n",
              "      <td>1.000000</td>\n",
              "      <td>2.000000</td>\n",
              "    </tr>\n",
              "    <tr>\n",
              "      <th>75%</th>\n",
              "      <td>6.000000</td>\n",
              "      <td>5.000000</td>\n",
              "      <td>5.000000</td>\n",
              "      <td>4.000000</td>\n",
              "      <td>4.000000</td>\n",
              "      <td>6.000000</td>\n",
              "      <td>5.000000</td>\n",
              "      <td>4.000000</td>\n",
              "      <td>1.000000</td>\n",
              "      <td>4.000000</td>\n",
              "    </tr>\n",
              "    <tr>\n",
              "      <th>max</th>\n",
              "      <td>10.000000</td>\n",
              "      <td>10.000000</td>\n",
              "      <td>10.000000</td>\n",
              "      <td>10.000000</td>\n",
              "      <td>10.000000</td>\n",
              "      <td>10.000000</td>\n",
              "      <td>10.000000</td>\n",
              "      <td>10.000000</td>\n",
              "      <td>10.000000</td>\n",
              "      <td>4.000000</td>\n",
              "    </tr>\n",
              "  </tbody>\n",
              "</table>\n",
              "</div>\n",
              "      <button class=\"colab-df-convert\" onclick=\"convertToInteractive('df-91f8092d-2e5a-404f-8ac3-69763ef3f195')\"\n",
              "              title=\"Convert this dataframe to an interactive table.\"\n",
              "              style=\"display:none;\">\n",
              "        \n",
              "  <svg xmlns=\"http://www.w3.org/2000/svg\" height=\"24px\"viewBox=\"0 0 24 24\"\n",
              "       width=\"24px\">\n",
              "    <path d=\"M0 0h24v24H0V0z\" fill=\"none\"/>\n",
              "    <path d=\"M18.56 5.44l.94 2.06.94-2.06 2.06-.94-2.06-.94-.94-2.06-.94 2.06-2.06.94zm-11 1L8.5 8.5l.94-2.06 2.06-.94-2.06-.94L8.5 2.5l-.94 2.06-2.06.94zm10 10l.94 2.06.94-2.06 2.06-.94-2.06-.94-.94-2.06-.94 2.06-2.06.94z\"/><path d=\"M17.41 7.96l-1.37-1.37c-.4-.4-.92-.59-1.43-.59-.52 0-1.04.2-1.43.59L10.3 9.45l-7.72 7.72c-.78.78-.78 2.05 0 2.83L4 21.41c.39.39.9.59 1.41.59.51 0 1.02-.2 1.41-.59l7.78-7.78 2.81-2.81c.8-.78.8-2.07 0-2.86zM5.41 20L4 18.59l7.72-7.72 1.47 1.35L5.41 20z\"/>\n",
              "  </svg>\n",
              "      </button>\n",
              "      \n",
              "  <style>\n",
              "    .colab-df-container {\n",
              "      display:flex;\n",
              "      flex-wrap:wrap;\n",
              "      gap: 12px;\n",
              "    }\n",
              "\n",
              "    .colab-df-convert {\n",
              "      background-color: #E8F0FE;\n",
              "      border: none;\n",
              "      border-radius: 50%;\n",
              "      cursor: pointer;\n",
              "      display: none;\n",
              "      fill: #1967D2;\n",
              "      height: 32px;\n",
              "      padding: 0 0 0 0;\n",
              "      width: 32px;\n",
              "    }\n",
              "\n",
              "    .colab-df-convert:hover {\n",
              "      background-color: #E2EBFA;\n",
              "      box-shadow: 0px 1px 2px rgba(60, 64, 67, 0.3), 0px 1px 3px 1px rgba(60, 64, 67, 0.15);\n",
              "      fill: #174EA6;\n",
              "    }\n",
              "\n",
              "    [theme=dark] .colab-df-convert {\n",
              "      background-color: #3B4455;\n",
              "      fill: #D2E3FC;\n",
              "    }\n",
              "\n",
              "    [theme=dark] .colab-df-convert:hover {\n",
              "      background-color: #434B5C;\n",
              "      box-shadow: 0px 1px 3px 1px rgba(0, 0, 0, 0.15);\n",
              "      filter: drop-shadow(0px 1px 2px rgba(0, 0, 0, 0.3));\n",
              "      fill: #FFFFFF;\n",
              "    }\n",
              "  </style>\n",
              "\n",
              "      <script>\n",
              "        const buttonEl =\n",
              "          document.querySelector('#df-91f8092d-2e5a-404f-8ac3-69763ef3f195 button.colab-df-convert');\n",
              "        buttonEl.style.display =\n",
              "          google.colab.kernel.accessAllowed ? 'block' : 'none';\n",
              "\n",
              "        async function convertToInteractive(key) {\n",
              "          const element = document.querySelector('#df-91f8092d-2e5a-404f-8ac3-69763ef3f195');\n",
              "          const dataTable =\n",
              "            await google.colab.kernel.invokeFunction('convertToInteractive',\n",
              "                                                     [key], {});\n",
              "          if (!dataTable) return;\n",
              "\n",
              "          const docLinkHtml = 'Like what you see? Visit the ' +\n",
              "            '<a target=\"_blank\" href=https://colab.research.google.com/notebooks/data_table.ipynb>data table notebook</a>'\n",
              "            + ' to learn more about interactive tables.';\n",
              "          element.innerHTML = '';\n",
              "          dataTable['output_type'] = 'display_data';\n",
              "          await google.colab.output.renderOutput(dataTable, element);\n",
              "          const docLink = document.createElement('div');\n",
              "          docLink.innerHTML = docLinkHtml;\n",
              "          element.appendChild(docLink);\n",
              "        }\n",
              "      </script>\n",
              "    </div>\n",
              "  </div>\n",
              "  "
            ]
          },
          "metadata": {},
          "execution_count": 9
        }
      ]
    },
    {
      "cell_type": "code",
      "source": [
        "cols = list(df1.columns)\n",
        "cols = [cols[-1]] + cols[:-1]\n",
        "df1 = df1[cols]\n",
        "print(df1)"
      ],
      "metadata": {
        "colab": {
          "base_uri": "https://localhost:8080/"
        },
        "id": "HpS_tPJVQxio",
        "outputId": "7b9affec-4e88-496a-d576-a34e167e7f9a"
      },
      "execution_count": null,
      "outputs": [
        {
          "output_type": "stream",
          "name": "stdout",
          "text": [
            "     Target  Column2  Column3  Column4  Column5  Column6  Column7  Column8  \\\n",
            "0       2.0      5.0      1.0      1.0      1.0      2.0      1.0      3.0   \n",
            "1       2.0      5.0      4.0      4.0      5.0      7.0     10.0      3.0   \n",
            "2       2.0      3.0      1.0      1.0      1.0      2.0      2.0      3.0   \n",
            "3       2.0      6.0      8.0      8.0      1.0      3.0      4.0      3.0   \n",
            "4       2.0      4.0      1.0      1.0      3.0      2.0      1.0      3.0   \n",
            "..      ...      ...      ...      ...      ...      ...      ...      ...   \n",
            "694     2.0      3.0      1.0      1.0      1.0      3.0      2.0      1.0   \n",
            "695     2.0      2.0      1.0      1.0      1.0      2.0      1.0      1.0   \n",
            "696     4.0      5.0     10.0     10.0      3.0      7.0      3.0      8.0   \n",
            "697     4.0      4.0      8.0      6.0      4.0      3.0      4.0     10.0   \n",
            "698     4.0      4.0      8.0      8.0      5.0      4.0      5.0     10.0   \n",
            "\n",
            "     Column9  Column10  \n",
            "0        1.0       1.0  \n",
            "1        2.0       1.0  \n",
            "2        1.0       1.0  \n",
            "3        7.0       1.0  \n",
            "4        1.0       1.0  \n",
            "..       ...       ...  \n",
            "694      1.0       1.0  \n",
            "695      1.0       1.0  \n",
            "696     10.0       2.0  \n",
            "697      6.0       1.0  \n",
            "698      4.0       1.0  \n",
            "\n",
            "[683 rows x 10 columns]\n"
          ]
        }
      ]
    },
    {
      "cell_type": "code",
      "source": [
        "import seaborn as sns\n",
        "import matplotlib.pyplot as plt\n",
        "plt.figure(figsize=(18,18),dpi=50)\n",
        "sns.heatmap(df1.corr(),annot=True)"
      ],
      "metadata": {
        "colab": {
          "base_uri": "https://localhost:8080/",
          "height": 736
        },
        "id": "RCG8Cf3vFDyU",
        "outputId": "c7e06dfc-4f36-4b70-e289-838ac817fbd5"
      },
      "execution_count": null,
      "outputs": [
        {
          "output_type": "execute_result",
          "data": {
            "text/plain": [
              "<matplotlib.axes._subplots.AxesSubplot at 0x7fc86484edd0>"
            ]
          },
          "metadata": {},
          "execution_count": 15
        },
        {
          "output_type": "display_data",
          "data": {
            "text/plain": [
              "<Figure size 900x900 with 2 Axes>"
            ],
            "image/png": "[encoded data removed]"
          },
          "metadata": {
            "needs_background": "light"
          }
        }
      ]
    },
    {
      "cell_type": "code",
      "source": [
        "X = df1.iloc[:,1:].values\n",
        "y = df1.iloc[:,0].values\n",
        "from sklearn.model_selection import train_test_split\n",
        "X_train, X_test, y_train, y_test = train_test_split(X,y,test_size=.2)\n"
      ],
      "metadata": {
        "id": "XXSMvwOyS86w"
      },
      "execution_count": null,
      "outputs": []
    },
    {
      "cell_type": "code",
      "source": [
        "X_train.shape"
      ],
      "metadata": {
        "colab": {
          "base_uri": "https://localhost:8080/"
        },
        "id": "d3V8MKVuTmG-",
        "outputId": "987de468-11a4-416b-8a50-450f95b2616f"
      },
      "execution_count": null,
      "outputs": [
        {
          "output_type": "execute_result",
          "data": {
            "text/plain": [
              "(546, 9)"
            ]
          },
          "metadata": {},
          "execution_count": 17
        }
      ]
    },
    {
      "cell_type": "code",
      "source": [
        "y_train.shape"
      ],
      "metadata": {
        "colab": {
          "base_uri": "https://localhost:8080/"
        },
        "id": "dKmxkWowTr-e",
        "outputId": "536a3095-27b7-4edf-9fda-935d374c8c8d"
      },
      "execution_count": null,
      "outputs": [
        {
          "output_type": "execute_result",
          "data": {
            "text/plain": [
              "(546,)"
            ]
          },
          "metadata": {},
          "execution_count": 18
        }
      ]
    },
    {
      "cell_type": "code",
      "source": [
        "from sklearn.ensemble import RandomForestClassifier\n",
        "from sklearn.model_selection import cross_val_score"
      ],
      "metadata": {
        "id": "MLfEnSAfUndc"
      },
      "execution_count": null,
      "outputs": []
    },
    {
      "cell_type": "code",
      "source": [
        "# scores1 = cross_val_score(RandomForestClassifier(n_estimators=30), X, y, cv=5)\n",
        "# np.average(scores1)\n",
        "def bootstrap_sample(X, y):\n",
        "  n_samples = X.shape[0]\n",
        "  idxs = np.random.choice(n_samples, size = n_samples, replace=True)\n",
        "  return(X[idxs], y[idxs])\n",
        "\n",
        "def most_common_label(y):\n",
        "  counter = Counter(y)\n",
        "  most_common = counter.most_common(1)[0][0]\n",
        "  return(most_common)\n",
        "\n",
        "class RandomForest:\n",
        "  def __init__(self, n_trees = 100, min_samples_split=2, max_depth=100, n_feats=None):\n",
        "    self.n_trees = n_trees\n",
        "    self.min_samples_split = min_samples_split\n",
        "    self.max_depth = max_depth\n",
        "    self.n_feats = n_feats\n",
        "    self.trees = []\n",
        "\n",
        "  def fit(self, X, y):\n",
        "    self.trees = []\n",
        "    for _ in range(self.n_trees):\n",
        "      tree = DecisionTree(min_samples_split = self.min_samples_split, max_depth=self.max_depth, n_feats=self.n_feats)\n",
        "      X_sample, y_sample = bootstrap_sample(X, y)\n",
        "      tree.fit(X_sample, y_sample)\n",
        "      self.trees.append(tree)\n",
        "  def predict(self, X):\n",
        "    tree_preds = np.array([tree.predict(X) for tree in self.trees])\n",
        "    tree_preds = np.swapaxes(tree_preds, 0, 1)\n",
        "\n",
        "    y_pred = [most_common_label(tree_pred) for tree_pred in tree_preds]\n",
        "    return np.array(y_pred)\n",
        "    clf_f = RandomForest(n_trees=30)\n",
        "clf_f.fit(X_train, y_train)\n",
        "\n",
        "y_pred = clf_f.predict(X_test)\n",
        "acc = accuracy(y_test, y_pred)\n",
        "\n",
        "print(acc)"
      ],
      "metadata": {
        "colab": {
          "base_uri": "https://localhost:8080/"
        },
        "id": "oH5lbfsaUyRs",
        "outputId": "2ed12bbe-4500-486b-d226-91c6acc84d0c"
      },
      "execution_count": null,
      "outputs": [
        {
          "output_type": "execute_result",
          "data": {
            "text/plain": [
              "0.9619793902962644"
            ]
          },
          "metadata": {},
          "execution_count": 24
        }
      ]
    },
    {
      "cell_type": "code",
      "source": [
        "from sklearn import tree, metrics"
      ],
      "metadata": {
        "id": "HsnHw8uUfwUX"
      },
      "execution_count": null,
      "outputs": []
    },
    {
      "cell_type": "code",
      "source": [
        "# Declare a variable called entr_model, and assign it: tree.DecisionTreeClassifier(criterion=\"entropy\", random_state = 1234)\n",
        "entr_model = tree.DecisionTreeClassifier(criterion=\"entropy\", random_state = 1234)"
      ],
      "metadata": {
        "id": "8itHy6exgW0V"
      },
      "execution_count": null,
      "outputs": []
    },
    {
      "cell_type": "code",
      "source": [
        "# scores1 = cross_val_score(entr_model, X, y, cv=5)\n",
        "# np.average(scores1)\n",
        "from collections import Counter\n",
        "\n",
        "def entropy(y):\n",
        "  hist = np.bincount(y)\n",
        "  ps = hist/len(y)\n",
        "  return(-np.sum([p * np.log2(p) for p in ps if p>0]))\n",
        "\n",
        "\n",
        "\n",
        "class Node:\n",
        "  def __init__(self, feature=None, threshold=None, left=None, right=None,*,value=None):\n",
        "    self.feature = feature\n",
        "    self.threshold = threshold\n",
        "    self.left = left\n",
        "    self.right = right\n",
        "    self.value = value\n",
        "  \n",
        "  def is_leaf_node(self):\n",
        "    return(self.value is not None)\n",
        "class DecisionTree:\n",
        "  def __init__(self, min_samples_split=2, max_depth=100, n_feats=None):\n",
        "    self.min_samples_split = min_samples_split\n",
        "    self.max_depth = max_depth\n",
        "    self.n_feats = n_feats\n",
        "    self.root = None\n",
        "\n",
        "  def fit(self, X, y):\n",
        "    self.n_feats = X.shape[1] if not self.n_feats else min(self.n_feats, X.shape[1])\n",
        "    self.root = self._grow_tree(X, y)\n",
        "\n",
        "  def _grow_tree(self, X, y, depth=0):\n",
        "    n_samples, n_features = X.shape\n",
        "    n_labels = len(np.unique(y))\n",
        "\n",
        "    #stopping criteria\n",
        "    if(depth >= self.max_depth or n_labels == 1 or n_samples < self.min_samples_split):\n",
        "      leaf_value = self._most_common_label(y)\n",
        "      return(Node(value=leaf_value))\n",
        "    \n",
        "    feat_idxs = np.random.choice(n_features, self.n_feats, replace=False)\n",
        "\n",
        "    #greedy search\n",
        "    best_feat, best_thresh = self._best_criteria(X, y, feat_idxs)\n",
        "\n",
        "    left_idxs, right_idxs = self._split(X[:,best_feat],best_thresh)\n",
        "    left = self._grow_tree(X[left_idxs,:], y[left_idxs], depth+1)\n",
        "    right = self._grow_tree(X[right_idxs,:], y[right_idxs], depth+1)\n",
        "    return(Node(best_feat, best_thresh, left, right))\n",
        "  \n",
        "\n",
        "  def _best_criteria(self, X, y, feat_idxs):\n",
        "    best_gain = -1\n",
        "    split_idx, split_thresh = None, None\n",
        "    for feat_idx in feat_idxs:\n",
        "      X_column = X[:, feat_idx]\n",
        "      thresholds = np.unique(X_column)\n",
        "      for threshold in thresholds:\n",
        "        gain = self._information_gain(y, X_column, threshold)\n",
        "        if(gain>best_gain):\n",
        "          best_gain = gain\n",
        "          split_idx = feat_idx\n",
        "          split_thresh = threshold\n",
        "    return(split_idx, split_thresh)\n",
        "\n",
        "  def _information_gain(self, y, X_column, split_threh):\n",
        "    #parent entropy\n",
        "    parent_entropy = entropy(y)\n",
        "\n",
        "    #generate split\n",
        "    left_idxs, right_idxs = self._split(X_column, split_threh)\n",
        "    if(len(left_idxs == 0) or len(right_idxs)==0):\n",
        "      return 0\n",
        "    #weighted avg vhild entropy\n",
        "    n = len(y)\n",
        "    n_l, n_r = len(left_idxs), len(right_idxs)\n",
        "    e_l, e_r = entropy(y[left_idxs]), entropy(y[right_idxs])\n",
        "    child_entropy = (n_l/n)*e_l + (n_r/n)*e_r\n",
        "\n",
        "    #return ig\n",
        "    ig = parent_entropy - child_entropy\n",
        "\n",
        "    return ig\n",
        "  \n",
        "  def _split(self, X_column, split_threh):\n",
        "    left_idxs = np.argwhere(X_column <= split_threh).flatten()\n",
        "    right_idxs = np.argwhere(X_column > split_threh).flatten()\n",
        "    return(left_idxs, right_idxs)\n",
        "  \n",
        "  def predict(self, X):\n",
        "    #traverse tree\n",
        "    return(np.array([self._traverse_tree(x, self.root) for x in X]))\n",
        "\n",
        "  def _traverse_tree(self, x, node):\n",
        "    if(node.is_leaf_node()):\n",
        "      return(node.value)\n",
        "\n",
        "    if(x[node.feature] <= node.threshold):\n",
        "      return(self._traverse_tree(x, node.left))\n",
        "    return(self._traverse_tree(x, node.right))\n",
        "  def _most_common_label(self, y):\n",
        "    counter = Counter(y)\n",
        "    most_common = counter.most_common(1)[0][0]\n",
        "    return(most_common)\n",
        "\n",
        "#id3 test\n",
        "\n",
        "\n",
        "  def accuracy(y_true, y_pred):\n",
        "    accuracy = np.sum(y_true == y_pred) / len(y_true)\n",
        "    return(accuracy)\n",
        "\n",
        "\n",
        "  X = data.data\n",
        "  y = data.target\n",
        "\n",
        "  X_train, X_test, y_train, y_test = train_test_split(X, y, test_size=0.2, random_state = 42)\n",
        "\n",
        "\n",
        "\n",
        "  clf = DecisionTree(max_depth=20)\n",
        "  clf.fit(X_train, y_train)\n",
        "\n",
        "\n",
        "\n",
        "  y_pred = clf.predict(X_test)\n",
        "  acc = accuracy(y_test, y_pred)\n",
        "\n",
        "  print(acc) "
      ],
      "metadata": {
        "colab": {
          "base_uri": "https://localhost:8080/"
        },
        "id": "p7IwOmxmgrs5",
        "outputId": "72807386-568d-40bd-f95a-9f8e62f00f5c"
      },
      "execution_count": null,
      "outputs": [
        {
          "output_type": "execute_result",
          "data": {
            "text/plain": [
              "0.932674967797338"
            ]
          },
          "metadata": {},
          "execution_count": 27
        }
      ]
    },
    {
      "cell_type": "code",
      "source": [
        "from sklearn.ensemble import AdaBoostClassifier"
      ],
      "metadata": {
        "id": "7ZL12RQGhGID"
      },
      "execution_count": null,
      "outputs": []
    },
    {
      "cell_type": "code",
      "source": [
        "ab = AdaBoostClassifier(n_estimators=100, random_state=0)\n",
        "# scores1 = cross_val_score(ab, X, y, cv=5)\n",
        "# np.average(scores1)"
      ],
      "metadata": {
        "id": "4SyOmhRld6Oc"
      },
      "execution_count": null,
      "outputs": []
    },
    {
      "cell_type": "code",
      "source": [
        "\n",
        "def main():\n",
        "\n",
        "    X_train, X_test, y_train, y_test = train_test_split(X, y, test_size=0.2)\n",
        "\n",
        "    # Adaboost classification with 100 weak classifiers\n",
        "    clf = Adaboost(n_clf=100)\n",
        "    clf.fit(X_train, y_train)\n",
        "    y_pred = clf.predict(X_test)\n",
        "\n",
        "    accuracy = accuracy_score(y_test, y_pred)\n",
        "    print (accuracy)\n",
        "\n",
        "\n",
        "if __name__ == \"__main__\":\n",
        "    main()"
      ],
      "metadata": {
        "colab": {
          "base_uri": "https://localhost:8080/"
        },
        "id": "KJ2T0M-tnk2O",
        "outputId": "7f0ed575-3bd0-4c91-bf28-95e0aebabc48"
      },
      "execution_count": null,
      "outputs": [
        {
          "output_type": "execute_result",
          "data": {
            "text/plain": [
              "0.9532095319879776"
            ]
          },
          "metadata": {},
          "execution_count": 30
        }
      ]
    },
    {
      "cell_type": "code",
      "source": [
        "from sklearn.neighbors import KNeighborsClassifier\n",
        "knn = KNeighborsClassifier(n_neighbors=10)\n",
        "# scores1 = cross_val_score(knn, X, y, cv=5)\n",
        "# np.average(scores1)"
      ],
      "metadata": {
        "id": "CMGv1P6OwzNV"
      },
      "execution_count": null,
      "outputs": []
    },
    {
      "cell_type": "code",
      "source": [
        "knn = KNeighborsClassifier(n_neighbors=10)\n",
        "knn.fit(X_train, y_train)\n",
        "knn.score(X_test, y_test)"
      ],
      "metadata": {
        "colab": {
          "base_uri": "https://localhost:8080/"
        },
        "id": "GTNCzG2BxfMb",
        "outputId": "bab8ca2d-f5ae-4daa-9d7f-4644635b9444"
      },
      "execution_count": null,
      "outputs": [
        {
          "output_type": "execute_result",
          "data": {
            "text/plain": [
              "0.9649313009875484"
            ]
          },
          "metadata": {},
          "execution_count": 32
        }
      ]
    },
    {
      "cell_type": "code",
      "source": [
        "knn1 = KNeighborsClassifier(n_neighbors=10, p=2, metric= \"manhattan\")"
      ],
      "metadata": {
        "id": "iGrjZ_WsyCTD"
      },
      "execution_count": null,
      "outputs": []
    },
    {
      "cell_type": "code",
      "source": [
        "\n",
        "scores1 = cross_val_score(knn1, X, y, cv=5)\n",
        "# np.average(scores1)\n",
        "print('Accuracy: %.6f (%.6f)' % (mean(scores1), std(scores1)))"
      ],
      "metadata": {
        "colab": {
          "base_uri": "https://localhost:8080/"
        },
        "id": "abI50jGxye1K",
        "outputId": "75664055-68e9-4b89-ffaa-b585f580fb8a"
      },
      "execution_count": null,
      "outputs": [
        {
          "output_type": "stream",
          "name": "stdout",
          "text": [
            "Accuracy: 0.959081 (0.036206)\n"
          ]
        }
      ]
    },
    {
      "cell_type": "code",
      "source": [
        "from sklearn.naive_bayes import GaussianNB\n",
        "NB = GaussianNB()\n",
        "from numpy import mean\n",
        "from numpy import std\n",
        "scores1 = cross_val_score(NB, X, y, cv=5)\n",
        "np.average(scores1)"
      ],
      "metadata": {
        "id": "Kkgz5cTdxv_8"
      },
      "execution_count": null,
      "outputs": []
    },
    {
      "cell_type": "code",
      "source": [
        "\n",
        "NB = GaussianNB()\n",
        "NB.fit(X_train, y_train)\n",
        "NB.score(X_test, y_test)"
      ],
      "metadata": {
        "colab": {
          "base_uri": "https://localhost:8080/"
        },
        "id": "JRA59i9DzAzz",
        "outputId": "393e9901-65d8-47b8-e17e-39a9247cff68"
      },
      "execution_count": null,
      "outputs": [
        {
          "output_type": "execute_result",
          "data": {
            "text/plain": [
              "0.9590489480463719"
            ]
          },
          "metadata": {},
          "execution_count": 34
        }
      ]
    },
    {
      "cell_type": "code",
      "source": [
        "from sklearn.preprocessing import StandardScaler\n",
        "sc = StandardScaler()\n",
        "X_train_norm = sc.fit_transform(X_train)"
      ],
      "metadata": {
        "id": "sGe9rwYOTu9F"
      },
      "execution_count": null,
      "outputs": []
    },
    {
      "cell_type": "code",
      "source": [
        "df2=df1.drop(['Column7'], axis=1)\n",
        "print(df2)"
      ],
      "metadata": {
        "colab": {
          "base_uri": "https://localhost:8080/"
        },
        "id": "L7sOZb6zPEUj",
        "outputId": "ffa4fb24-1df2-4608-b61d-dd03263c8f05"
      },
      "execution_count": null,
      "outputs": [
        {
          "output_type": "stream",
          "name": "stdout",
          "text": [
            "     Column2  Column3  Column4  Column5  Column6  Column8  Column9  Column10  \\\n",
            "0          5        1        1        1        2        3        1         1   \n",
            "1          5        4        4        5        7        3        2         1   \n",
            "2          3        1        1        1        2        3        1         1   \n",
            "3          6        8        8        1        3        3        7         1   \n",
            "4          4        1        1        3        2        3        1         1   \n",
            "..       ...      ...      ...      ...      ...      ...      ...       ...   \n",
            "694        3        1        1        1        3        1        1         1   \n",
            "695        2        1        1        1        2        1        1         1   \n",
            "696        5       10       10        3        7        8       10         2   \n",
            "697        4        8        6        4        3       10        6         1   \n",
            "698        4        8        8        5        4       10        4         1   \n",
            "\n",
            "     Target  \n",
            "0         2  \n",
            "1         2  \n",
            "2         2  \n",
            "3         2  \n",
            "4         2  \n",
            "..      ...  \n",
            "694       2  \n",
            "695       2  \n",
            "696       4  \n",
            "697       4  \n",
            "698       4  \n",
            "\n",
            "[683 rows x 9 columns]\n"
          ]
        }
      ]
    },
    {
      "cell_type": "code",
      "source": [
        "# looking to the data info\n",
        "df2.info()\n"
      ],
      "metadata": {
        "colab": {
          "base_uri": "https://localhost:8080/"
        },
        "id": "dT4_A6CkPiZR",
        "outputId": "c77c6036-7cec-4eeb-9289-7efb987c0c18"
      },
      "execution_count": null,
      "outputs": [
        {
          "output_type": "stream",
          "name": "stdout",
          "text": [
            "<class 'pandas.core.frame.DataFrame'>\n",
            "Int64Index: 683 entries, 0 to 698\n",
            "Data columns (total 9 columns):\n",
            " #   Column    Non-Null Count  Dtype\n",
            "---  ------    --------------  -----\n",
            " 0   Column2   683 non-null    int64\n",
            " 1   Column3   683 non-null    int64\n",
            " 2   Column4   683 non-null    int64\n",
            " 3   Column5   683 non-null    int64\n",
            " 4   Column6   683 non-null    int64\n",
            " 5   Column8   683 non-null    int64\n",
            " 6   Column9   683 non-null    int64\n",
            " 7   Column10  683 non-null    int64\n",
            " 8   Target    683 non-null    int64\n",
            "dtypes: int64(9)\n",
            "memory usage: 53.4 KB\n"
          ]
        }
      ]
    }
  ]
}